'''
O input do mundo para uma rede é um percept. Uma forma da rede calcular uma saida, pode ser obtida pelo uso do algoritmo Perceptron 
onde a conclusão pode ser 0 ou 1 ou verdadeiro ou falso. O perceptron é representado por 1 neuronio dentro da rede. A partir de um dado 
recebido, um percept, podemos ter a rede calculando uma saida desejada. 

Um peso weights determina a importancia daquele input



'''

