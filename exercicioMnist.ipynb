{
  "nbformat": 4,
  "nbformat_minor": 0,
  "metadata": {
    "colab": {
      "provenance": [],
      "authorship_tag": "ABX9TyNIDDmGJNgyqS6TmzTDFWMr",
      "include_colab_link": true
    },
    "kernelspec": {
      "name": "python3",
      "display_name": "Python 3"
    },
    "language_info": {
      "name": "python"
    }
  },
  "cells": [
    {
      "cell_type": "markdown",
      "metadata": {
        "id": "view-in-github",
        "colab_type": "text"
      },
      "source": [
        "<a href=\"https://colab.research.google.com/github/brunaruppruela/mestrado_IFES_IA/blob/main/exercicioMnist.ipynb\" target=\"_parent\"><img src=\"https://colab.research.google.com/assets/colab-badge.svg\" alt=\"Open In Colab\"/></a>"
      ]
    },
    {
      "cell_type": "code",
      "execution_count": 1,
      "metadata": {
        "colab": {
          "base_uri": "https://localhost:8080/"
        },
        "id": "ovWyLwzn_8Ou",
        "outputId": "78e07e95-074e-4160-c6f8-9c2155cc7625"
      },
      "outputs": [
        {
          "output_type": "stream",
          "name": "stdout",
          "text": [
            "Epoch 1/5\n",
            "1500/1500 [==============================] - 55s 34ms/step - loss: 0.1473 - accuracy: 0.9559 - val_loss: 0.0607 - val_accuracy: 0.9824\n",
            "Epoch 2/5\n",
            "1500/1500 [==============================] - 42s 28ms/step - loss: 0.0478 - accuracy: 0.9853 - val_loss: 0.0422 - val_accuracy: 0.9872\n",
            "Epoch 3/5\n",
            "1500/1500 [==============================] - 43s 29ms/step - loss: 0.0312 - accuracy: 0.9905 - val_loss: 0.0480 - val_accuracy: 0.9862\n",
            "Epoch 4/5\n",
            "1500/1500 [==============================] - 43s 29ms/step - loss: 0.0233 - accuracy: 0.9924 - val_loss: 0.0339 - val_accuracy: 0.9902\n",
            "Epoch 5/5\n",
            "1500/1500 [==============================] - 42s 28ms/step - loss: 0.0166 - accuracy: 0.9946 - val_loss: 0.0409 - val_accuracy: 0.9891\n",
            "313/313 [==============================] - 3s 8ms/step - loss: 0.0345 - accuracy: 0.9896\n",
            "Acurácia nos dados de teste: 0.9896000027656555\n"
          ]
        }
      ],
      "source": [
        "import numpy as np\n",
        "import gzip\n",
        "import struct\n",
        "import cv2\n",
        "import urllib.request\n",
        "from sklearn.model_selection import train_test_split\n",
        "from keras.models import Sequential\n",
        "from keras.layers import Conv2D, MaxPooling2D, Flatten, Dense\n",
        "\n",
        "# Função para baixar e carregar a base de dados MNIST diretamente do site do criador Yann LeCun\n",
        "def load_mnist():\n",
        "    def download_data(url, num_images):\n",
        "        with urllib.request.urlopen(url) as response:\n",
        "            with gzip.GzipFile(fileobj=response) as bytestream:\n",
        "                bytestream.read(16)\n",
        "                buf = bytestream.read(28 * 28 * num_images)\n",
        "                data = np.frombuffer(buf, dtype=np.uint8).astype(np.float32)\n",
        "                data = data.reshape(num_images, 28, 28, 1)\n",
        "                return data\n",
        "\n",
        "    def download_labels(url, num_images):\n",
        "        with urllib.request.urlopen(url) as response:\n",
        "            with gzip.GzipFile(fileobj=response) as bytestream:\n",
        "                bytestream.read(8)\n",
        "                buf = bytestream.read(1 * num_images)\n",
        "                labels = np.frombuffer(buf, dtype=np.uint8).astype(np.int64)\n",
        "                return labels\n",
        "\n",
        "    x_train = download_data('http://yann.lecun.com/exdb/mnist/train-images-idx3-ubyte.gz', 60000)\n",
        "    y_train = download_labels('http://yann.lecun.com/exdb/mnist/train-labels-idx1-ubyte.gz', 60000)\n",
        "    x_test = download_data('http://yann.lecun.com/exdb/mnist/t10k-images-idx3-ubyte.gz', 10000)\n",
        "    y_test = download_labels('http://yann.lecun.com/exdb/mnist/t10k-labels-idx1-ubyte.gz', 10000)\n",
        "\n",
        "    return (x_train, y_train), (x_test, y_test)\n",
        "\n",
        "# Carregar a base de dados MNIST\n",
        "(x_train, y_train), (x_test, y_test) = load_mnist()\n",
        "\n",
        "# Normalizar os dados\n",
        "x_train, x_test = x_train / 255.0, x_test / 255.0\n",
        "\n",
        "# Dividir os dados de treinamento em treinamento e validação\n",
        "x_train, x_val, y_train, y_val = train_test_split(x_train, y_train, test_size=0.2, random_state=42)\n",
        "\n",
        "# Definir a arquitetura da rede neural convolucional\n",
        "model = Sequential([\n",
        "    Conv2D(32, kernel_size=(3, 3), activation='relu', input_shape=(28, 28, 1)),\n",
        "    MaxPooling2D(pool_size=(2, 2)),\n",
        "    Conv2D(64, (3, 3), activation='relu'),\n",
        "    MaxPooling2D(pool_size=(2, 2)),\n",
        "    Flatten(),\n",
        "    Dense(128, activation='relu'),\n",
        "    Dense(10, activation='softmax')\n",
        "])\n",
        "\n",
        "# Compilar o modelo\n",
        "model.compile(optimizer='adam', loss='sparse_categorical_crossentropy', metrics=['accuracy'])\n",
        "\n",
        "# Treinar o modelo\n",
        "model.fit(x_train, y_train, epochs=5, validation_data=(x_val, y_val))\n",
        "\n",
        "# Avaliar o modelo nos dados de teste\n",
        "test_loss, test_acc = model.evaluate(x_test, y_test)\n",
        "print('Acurácia nos dados de teste:', test_acc)"
      ]
    }
  ]
}