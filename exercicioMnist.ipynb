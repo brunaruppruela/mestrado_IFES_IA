{
  "cells": [
    {
      "cell_type": "markdown",
      "metadata": {
        "colab_type": "text",
        "id": "view-in-github"
      },
      "source": [
        "<a href=\"https://colab.research.google.com/github/brunaruppruela/mestrado_IFES_IA/blob/main/exercicioMnist.ipynb\" target=\"_parent\"><img src=\"https://colab.research.google.com/assets/colab-badge.svg\" alt=\"Open In Colab\"/></a>"
      ]
    },
    {
      "cell_type": "code",
      "execution_count": null,
      "metadata": {
        "colab": {
          "base_uri": "https://localhost:8080/"
        },
        "id": "ovWyLwzn_8Ou",
        "outputId": "78e07e95-074e-4160-c6f8-9c2155cc7625"
      },
      "outputs": [
        {
          "ename": "",
          "evalue": "",
          "output_type": "error",
          "traceback": [
            "\u001b[1;31mA execução de células com 'Python 3.12.4' requer o pacote ipykernel.\n",
            "\u001b[1;31mExecute o seguinte comando para instalar \"ipykernel\" no ambiente do Python. \n",
            "\u001b[1;31mComando: \"/opt/homebrew/bin/python3 -m pip install ipykernel -U --user --force-reinstall\""
          ]
        }
      ],
      "source": [
        "import numpy as np\n",
        "import gzip\n",
        "import struct\n",
        "import cv2\n",
        "import urllib.request\n",
        "from sklearn.model_selection import train_test_split\n",
        "from keras.models import Sequential\n",
        "from keras.layers import Conv2D, MaxPooling2D, Flatten, Dense\n",
        "\n",
        "# Função para baixar e carregar a base de dados MNIST diretamente do site do criador Yann LeCun\n",
        "def load_mnist():\n",
        "    def download_data(url, num_images):\n",
        "        with urllib.request.urlopen(url) as response:\n",
        "            with gzip.GzipFile(fileobj=response) as bytestream:\n",
        "                bytestream.read(16)\n",
        "                buf = bytestream.read(28 * 28 * num_images)\n",
        "                data = np.frombuffer(buf, dtype=np.uint8).astype(np.float32)\n",
        "                data = data.reshape(num_images, 28, 28, 1)\n",
        "                return data\n",
        "\n",
        "    def download_labels(url, num_images):\n",
        "        with urllib.request.urlopen(url) as response:\n",
        "            with gzip.GzipFile(fileobj=response) as bytestream:\n",
        "                bytestream.read(8)\n",
        "                buf = bytestream.read(1 * num_images)\n",
        "                labels = np.frombuffer(buf, dtype=np.uint8).astype(np.int64)\n",
        "                return labels\n",
        "\n",
        "    x_train = download_data('http://yann.lecun.com/exdb/mnist/train-images-idx3-ubyte.gz', 60000)\n",
        "    y_train = download_labels('http://yann.lecun.com/exdb/mnist/train-labels-idx1-ubyte.gz', 60000)\n",
        "    x_test = download_data('http://yann.lecun.com/exdb/mnist/t10k-images-idx3-ubyte.gz', 10000)\n",
        "    y_test = download_labels('http://yann.lecun.com/exdb/mnist/t10k-labels-idx1-ubyte.gz', 10000)\n",
        "\n",
        "    return (x_train, y_train), (x_test, y_test)\n",
        "\n",
        "# Carregar a base de dados MNIST\n",
        "(x_train, y_train), (x_test, y_test) = load_mnist()\n",
        "\n",
        "# Normalizar os dados\n",
        "x_train, x_test = x_train / 255.0, x_test / 255.0\n",
        "\n",
        "# Dividir os dados de treinamento em treinamento e validação\n",
        "x_train, x_val, y_train, y_val = train_test_split(x_train, y_train, test_size=0.2, random_state=42)\n",
        "\n",
        "# Definir a arquitetura da rede neural convolucional\n",
        "model = Sequential([\n",
        "    Conv2D(32, kernel_size=(3, 3), activation='relu', input_shape=(28, 28, 1)),\n",
        "    MaxPooling2D(pool_size=(2, 2)),\n",
        "    Conv2D(64, (3, 3), activation='relu'),\n",
        "    MaxPooling2D(pool_size=(2, 2)),\n",
        "    Flatten(),\n",
        "    Dense(128, activation='relu'),\n",
        "    Dense(10, activation='softmax')\n",
        "])\n",
        "\n",
        "# Compilar o modelo\n",
        "model.compile(optimizer='adam', loss='sparse_categorical_crossentropy', metrics=['accuracy'])\n",
        "\n",
        "# Treinar o modelo\n",
        "model.fit(x_train, y_train, epochs=5, validation_data=(x_val, y_val))\n",
        "\n",
        "# Avaliar o modelo nos dados de teste\n",
        "test_loss, test_acc = model.evaluate(x_test, y_test)\n",
        "print('Acurácia nos dados de teste:', test_acc)"
      ]
    }
  ],
  "metadata": {
    "colab": {
      "authorship_tag": "ABX9TyNIDDmGJNgyqS6TmzTDFWMr",
      "include_colab_link": true,
      "provenance": []
    },
    "kernelspec": {
      "display_name": "Python 3",
      "name": "python3"
    },
    "language_info": {
      "name": "python",
      "version": "3.12.4"
    }
  },
  "nbformat": 4,
  "nbformat_minor": 0
}
