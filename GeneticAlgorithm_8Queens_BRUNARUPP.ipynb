{
  "nbformat": 4,
  "nbformat_minor": 0,
  "metadata": {
    "colab": {
      "provenance": [],
      "toc_visible": true,
      "include_colab_link": true
    },
    "kernelspec": {
      "name": "python3",
      "display_name": "Python 3"
    },
    "language_info": {
      "name": "python"
    }
  },
  "cells": [
    {
      "cell_type": "markdown",
      "metadata": {
        "id": "view-in-github",
        "colab_type": "text"
      },
      "source": [
        "<a href=\"https://colab.research.google.com/github/brunaruppruela/mestrado_IFES_IA/blob/main/GeneticAlgorithm_8Queens_BRUNARUPP.ipynb\" target=\"_parent\"><img src=\"https://colab.research.google.com/assets/colab-badge.svg\" alt=\"Open In Colab\"/></a>"
      ]
    },
    {
      "cell_type": "markdown",
      "source": [
        "Teste de implementação em phyton do Algoritmo Genético.\n",
        "Obs.:"
      ],
      "metadata": {
        "id": "n8AwNSzzRWZ5"
      }
    },
    {
      "cell_type": "markdown",
      "source": [
        "# Algoritmo Genético\n",
        "## Para o problema das 8 rainhas"
      ],
      "metadata": {
        "id": "hX_HwCvidpyR"
      }
    },
    {
      "cell_type": "markdown",
      "source": [
        "## Importações"
      ],
      "metadata": {
        "id": "JzA1EYj1HC76"
      }
    },
    {
      "cell_type": "code",
      "source": [
        "# Manipulação de dados\n",
        "import numpy as np\n",
        "#import pandas as pd\n",
        "\n",
        "# Geração de números aleatórios\n",
        "import random"
      ],
      "metadata": {
        "id": "XkS2WmGGHGN2"
      },
      "execution_count": 2,
      "outputs": []
    },
    {
      "cell_type": "code",
      "source": [
        "#VT = np.array([4,8,2,7,3,1,5,6])\n",
        "VT = np.array([4,8,2,7,3,7,5,4])\n",
        "\n",
        "VT"
      ],
      "metadata": {
        "colab": {
          "base_uri": "https://localhost:8080/"
        },
        "id": "tF1W659hMnFE",
        "outputId": "86ea6c4c-c9f7-4a0b-c8e1-32e3c6aff320"
      },
      "execution_count": 3,
      "outputs": [
        {
          "output_type": "execute_result",
          "data": {
            "text/plain": [
              "array([4, 8, 2, 7, 3, 7, 5, 4])"
            ]
          },
          "metadata": {},
          "execution_count": 3
        }
      ]
    },
    {
      "cell_type": "markdown",
      "source": [
        "## Funções Auxiliares - Problema"
      ],
      "metadata": {
        "id": "2nnjfm3TeGvW"
      }
    },
    {
      "cell_type": "markdown",
      "source": [
        "### Converte Vetor em Tabuleiro"
      ],
      "metadata": {
        "id": "p_EHH-ACFL53"
      }
    },
    {
      "cell_type": "code",
      "source": [
        "def converte_tabuleiro(VT):\n",
        "    '''\n",
        "    Recebe um vetor representando um tabuleiro\n",
        "    com N rainhas, uma por coluna e retorna\n",
        "    uma lista de lista de 0 e 1 representando\n",
        "    um tabuleiro com as rainhas.\n",
        "    '''\n",
        "    N = len(VT)\n",
        "\n",
        "    L = [0]*N\n",
        "    T = []\n",
        "    for i in range(N):\n",
        "        T += [L.copy()]\n",
        "\n",
        "    for lin in range(N):\n",
        "        for col in range(N):\n",
        "            if lin+1 == VT[col]:\n",
        "                T[lin][col] = 1\n",
        "\n",
        "    return T"
      ],
      "metadata": {
        "id": "8eO_wG3Enx64"
      },
      "execution_count": 4,
      "outputs": []
    },
    {
      "cell_type": "code",
      "source": [
        "converte_tabuleiro(VT)"
      ],
      "metadata": {
        "colab": {
          "base_uri": "https://localhost:8080/"
        },
        "id": "JA4nMhpNoHR1",
        "outputId": "ca1b357f-7558-4df0-df10-1db414dabb65"
      },
      "execution_count": 5,
      "outputs": [
        {
          "output_type": "execute_result",
          "data": {
            "text/plain": [
              "[[0, 0, 0, 0, 0, 0, 0, 0],\n",
              " [0, 0, 1, 0, 0, 0, 0, 0],\n",
              " [0, 0, 0, 0, 1, 0, 0, 0],\n",
              " [1, 0, 0, 0, 0, 0, 0, 1],\n",
              " [0, 0, 0, 0, 0, 0, 1, 0],\n",
              " [0, 0, 0, 0, 0, 0, 0, 0],\n",
              " [0, 0, 0, 1, 0, 1, 0, 0],\n",
              " [0, 1, 0, 0, 0, 0, 0, 0]]"
            ]
          },
          "metadata": {},
          "execution_count": 5
        }
      ]
    },
    {
      "cell_type": "markdown",
      "source": [
        "### Calcula custo (Fitness)"
      ],
      "metadata": {
        "id": "GUPKonQ4FVCZ"
      }
    },
    {
      "cell_type": "code",
      "source": [
        "def __conta_ataques_linhas(VT):\n",
        "    '''\n",
        "    Função que recebe um Vetor-Tabuleiro e\n",
        "    retorna o número de pares de rainhas se\n",
        "    atacando mutuamente nas linhas.\n",
        "    '''\n",
        "    ataques = 0\n",
        "    N = len(VT)\n",
        "    for col1 in range(N):\n",
        "        lin1 = VT[col1]\n",
        "        for col2 in range(col1+1, N):\n",
        "            lin2 = VT[col2]\n",
        "            if lin1==lin2:\n",
        "                ataques +=1\n",
        "\n",
        "    return ataques"
      ],
      "metadata": {
        "id": "D25sedCPrrcg"
      },
      "execution_count": 6,
      "outputs": []
    },
    {
      "cell_type": "code",
      "source": [
        "__conta_ataques_linhas(VT)"
      ],
      "metadata": {
        "colab": {
          "base_uri": "https://localhost:8080/"
        },
        "id": "ippPbtD5sodj",
        "outputId": "acb9b353-e71d-4b13-ab86-431e9dfee393"
      },
      "execution_count": 7,
      "outputs": [
        {
          "output_type": "execute_result",
          "data": {
            "text/plain": [
              "2"
            ]
          },
          "metadata": {},
          "execution_count": 7
        }
      ]
    },
    {
      "cell_type": "code",
      "source": [
        "def __conta_ataques_diagonais(VT):\n",
        "    '''\n",
        "    Função que recebe um Vetor-Tabuleiro e\n",
        "    retorna o número de pares de rainhas se\n",
        "    atacando mutuamente nas diagonais.\n",
        "    '''\n",
        "    ataques = 0\n",
        "    N = len(VT)\n",
        "\n",
        "    for col1 in range(N):\n",
        "        lin1 = VT[col1]\n",
        "        for col2 in range(col1+1, N):\n",
        "            lin2 = VT[col2]\n",
        "\n",
        "            # diferenças entre as linhas e colunas\n",
        "            d1 = lin1-col1\n",
        "            d2 = lin2-col2\n",
        "\n",
        "            # somas das linhas e colunas\n",
        "            s1 = lin1+col1\n",
        "            s2 = lin2+col2\n",
        "\n",
        "            # condições para ataques nas diagonais\n",
        "            if d1==d2 or s1==s2:\n",
        "                ataques +=1\n",
        "                #print(f'({lin1},{col1+1}) ({lin2},{col2+1}) -->', ataques,\n",
        "                #      '<--', f'  -({d1:2},{d2:2})  +({s1:2},{s2:2})')\n",
        "\n",
        "    return ataques"
      ],
      "metadata": {
        "id": "7F0jjrJosqgu"
      },
      "execution_count": 8,
      "outputs": []
    },
    {
      "cell_type": "code",
      "source": [
        "converte_tabuleiro(VT)"
      ],
      "metadata": {
        "colab": {
          "base_uri": "https://localhost:8080/"
        },
        "id": "ICrKqYbhkSQ1",
        "outputId": "51dd25b1-e4df-4aba-b9d4-dc6041444b05"
      },
      "execution_count": 9,
      "outputs": [
        {
          "output_type": "execute_result",
          "data": {
            "text/plain": [
              "[[0, 0, 0, 0, 0, 0, 0, 0],\n",
              " [0, 0, 1, 0, 0, 0, 0, 0],\n",
              " [0, 0, 0, 0, 1, 0, 0, 0],\n",
              " [1, 0, 0, 0, 0, 0, 0, 1],\n",
              " [0, 0, 0, 0, 0, 0, 1, 0],\n",
              " [0, 0, 0, 0, 0, 0, 0, 0],\n",
              " [0, 0, 0, 1, 0, 1, 0, 0],\n",
              " [0, 1, 0, 0, 0, 0, 0, 0]]"
            ]
          },
          "metadata": {},
          "execution_count": 9
        }
      ]
    },
    {
      "cell_type": "code",
      "source": [
        "__conta_ataques_diagonais(VT)"
      ],
      "metadata": {
        "colab": {
          "base_uri": "https://localhost:8080/"
        },
        "id": "mQ_9ze4cuIMW",
        "outputId": "81a31143-2d21-49e5-a930-31508b3216a3"
      },
      "execution_count": 10,
      "outputs": [
        {
          "output_type": "execute_result",
          "data": {
            "text/plain": [
              "4"
            ]
          },
          "metadata": {},
          "execution_count": 10
        }
      ]
    },
    {
      "cell_type": "code",
      "source": [
        "def conta_ataques(VT):\n",
        "    '''\n",
        "    Função que recebe um Vetor-Tabuleiro e\n",
        "    retorna o número de pares de rainhas se\n",
        "    atacando mutuamente nas linhas e diagonais.\n",
        "    '''\n",
        "    ataques  = __conta_ataques_linhas(VT)\n",
        "\n",
        "    ataques += __conta_ataques_diagonais(VT)\n",
        "\n",
        "    return ataques"
      ],
      "metadata": {
        "id": "8cTwjPfivq75"
      },
      "execution_count": 11,
      "outputs": []
    },
    {
      "cell_type": "code",
      "source": [
        "VT = [1,2,3,4,5,6,7,8]"
      ],
      "metadata": {
        "id": "-BTM7X6FGKI3"
      },
      "execution_count": 12,
      "outputs": []
    },
    {
      "cell_type": "code",
      "source": [
        "conta_ataques(VT)"
      ],
      "metadata": {
        "colab": {
          "base_uri": "https://localhost:8080/"
        },
        "id": "HiEykhZTuQEX",
        "outputId": "fefe1c0d-b9cc-41b9-baee-2f65f699d280"
      },
      "execution_count": 13,
      "outputs": [
        {
          "output_type": "execute_result",
          "data": {
            "text/plain": [
              "28"
            ]
          },
          "metadata": {},
          "execution_count": 13
        }
      ]
    },
    {
      "cell_type": "markdown",
      "source": [
        "### Gera vizinhos"
      ],
      "metadata": {
        "id": "ZHbNTMeCFlGJ"
      }
    },
    {
      "cell_type": "code",
      "source": [
        "def gera_vizinhos(VT):\n",
        "    '''\n",
        "    Gera todos os vizinhos possíveis,\n",
        "    variando uma rainha de cada vez.\n",
        "    '''\n",
        "    N = len(VT)\n",
        "    for col in range(N):\n",
        "        for lin in range(N):\n",
        "            # se nao existe rainha naquela linha,\n",
        "            # entao gera estado vizinho.\n",
        "            linha = lin+1\n",
        "            if linha != VT[col]:\n",
        "                vizinho   = VT.copy()\n",
        "                vizinho[col] = linha\n",
        "\n",
        "                yield vizinho\n"
      ],
      "metadata": {
        "id": "_gy9N3w4pl_x"
      },
      "execution_count": 14,
      "outputs": []
    },
    {
      "cell_type": "markdown",
      "source": [
        "### Gera tuplas custos"
      ],
      "metadata": {
        "id": "sCLe99jUFrRp"
      }
    },
    {
      "cell_type": "code",
      "source": [
        "def gera_tuplas_custos(Populacao):\n",
        "    '''\n",
        "    Gera tuplas com os custos de todos os individuos da populacao.\n",
        "    '''\n",
        "    TuplasCustos = []\n",
        "    for individuo in Populacao:\n",
        "        ataques = conta_ataques(individuo)\n",
        "\n",
        "        TuplasCustos += [(ataques, individuo)]\n",
        "\n",
        "    return TuplasCustos\n"
      ],
      "metadata": {
        "id": "jl3DcYaapTiP"
      },
      "execution_count": 15,
      "outputs": []
    },
    {
      "cell_type": "code",
      "source": [
        "Populacao = gera_vizinhos(VT)\n",
        "Tuplas = gera_tuplas_custos(Populacao)\n",
        "Tuplas"
      ],
      "metadata": {
        "id": "ZfEiuC64sB5M",
        "colab": {
          "base_uri": "https://localhost:8080/"
        },
        "outputId": "f3d74429-9181-48d8-f9ec-4fd1015899bb"
      },
      "execution_count": 16,
      "outputs": [
        {
          "output_type": "execute_result",
          "data": {
            "text/plain": [
              "[(22, [2, 2, 3, 4, 5, 6, 7, 8]),\n",
              " (23, [3, 2, 3, 4, 5, 6, 7, 8]),\n",
              " (22, [4, 2, 3, 4, 5, 6, 7, 8]),\n",
              " (23, [5, 2, 3, 4, 5, 6, 7, 8]),\n",
              " (22, [6, 2, 3, 4, 5, 6, 7, 8]),\n",
              " (23, [7, 2, 3, 4, 5, 6, 7, 8]),\n",
              " (22, [8, 2, 3, 4, 5, 6, 7, 8]),\n",
              " (22, [1, 1, 3, 4, 5, 6, 7, 8]),\n",
              " (22, [1, 3, 3, 4, 5, 6, 7, 8]),\n",
              " (23, [1, 4, 3, 4, 5, 6, 7, 8]),\n",
              " (22, [1, 5, 3, 4, 5, 6, 7, 8]),\n",
              " (23, [1, 6, 3, 4, 5, 6, 7, 8]),\n",
              " (22, [1, 7, 3, 4, 5, 6, 7, 8]),\n",
              " (23, [1, 8, 3, 4, 5, 6, 7, 8]),\n",
              " (23, [1, 2, 1, 4, 5, 6, 7, 8]),\n",
              " (22, [1, 2, 2, 4, 5, 6, 7, 8]),\n",
              " (22, [1, 2, 4, 4, 5, 6, 7, 8]),\n",
              " (23, [1, 2, 5, 4, 5, 6, 7, 8]),\n",
              " (22, [1, 2, 6, 4, 5, 6, 7, 8]),\n",
              " (23, [1, 2, 7, 4, 5, 6, 7, 8]),\n",
              " (22, [1, 2, 8, 4, 5, 6, 7, 8]),\n",
              " (22, [1, 2, 3, 1, 5, 6, 7, 8]),\n",
              " (23, [1, 2, 3, 2, 5, 6, 7, 8]),\n",
              " (22, [1, 2, 3, 3, 5, 6, 7, 8]),\n",
              " (22, [1, 2, 3, 5, 5, 6, 7, 8]),\n",
              " (23, [1, 2, 3, 6, 5, 6, 7, 8]),\n",
              " (22, [1, 2, 3, 7, 5, 6, 7, 8]),\n",
              " (23, [1, 2, 3, 8, 5, 6, 7, 8]),\n",
              " (23, [1, 2, 3, 4, 1, 6, 7, 8]),\n",
              " (22, [1, 2, 3, 4, 2, 6, 7, 8]),\n",
              " (23, [1, 2, 3, 4, 3, 6, 7, 8]),\n",
              " (22, [1, 2, 3, 4, 4, 6, 7, 8]),\n",
              " (22, [1, 2, 3, 4, 6, 6, 7, 8]),\n",
              " (23, [1, 2, 3, 4, 7, 6, 7, 8]),\n",
              " (22, [1, 2, 3, 4, 8, 6, 7, 8]),\n",
              " (22, [1, 2, 3, 4, 5, 1, 7, 8]),\n",
              " (23, [1, 2, 3, 4, 5, 2, 7, 8]),\n",
              " (22, [1, 2, 3, 4, 5, 3, 7, 8]),\n",
              " (23, [1, 2, 3, 4, 5, 4, 7, 8]),\n",
              " (22, [1, 2, 3, 4, 5, 5, 7, 8]),\n",
              " (22, [1, 2, 3, 4, 5, 7, 7, 8]),\n",
              " (23, [1, 2, 3, 4, 5, 8, 7, 8]),\n",
              " (23, [1, 2, 3, 4, 5, 6, 1, 8]),\n",
              " (22, [1, 2, 3, 4, 5, 6, 2, 8]),\n",
              " (23, [1, 2, 3, 4, 5, 6, 3, 8]),\n",
              " (22, [1, 2, 3, 4, 5, 6, 4, 8]),\n",
              " (23, [1, 2, 3, 4, 5, 6, 5, 8]),\n",
              " (22, [1, 2, 3, 4, 5, 6, 6, 8]),\n",
              " (22, [1, 2, 3, 4, 5, 6, 8, 8]),\n",
              " (22, [1, 2, 3, 4, 5, 6, 7, 1]),\n",
              " (23, [1, 2, 3, 4, 5, 6, 7, 2]),\n",
              " (22, [1, 2, 3, 4, 5, 6, 7, 3]),\n",
              " (23, [1, 2, 3, 4, 5, 6, 7, 4]),\n",
              " (22, [1, 2, 3, 4, 5, 6, 7, 5]),\n",
              " (23, [1, 2, 3, 4, 5, 6, 7, 6]),\n",
              " (22, [1, 2, 3, 4, 5, 6, 7, 7])]"
            ]
          },
          "metadata": {},
          "execution_count": 16
        }
      ]
    },
    {
      "cell_type": "code",
      "source": [
        "sorted(Tuplas, key=lambda k: k[0])"
      ],
      "metadata": {
        "colab": {
          "base_uri": "https://localhost:8080/"
        },
        "id": "awxLMBkosD-O",
        "outputId": "0041c9df-5bb1-4921-e767-42eae6190ec5"
      },
      "execution_count": 17,
      "outputs": [
        {
          "output_type": "execute_result",
          "data": {
            "text/plain": [
              "[(22, [2, 2, 3, 4, 5, 6, 7, 8]),\n",
              " (22, [4, 2, 3, 4, 5, 6, 7, 8]),\n",
              " (22, [6, 2, 3, 4, 5, 6, 7, 8]),\n",
              " (22, [8, 2, 3, 4, 5, 6, 7, 8]),\n",
              " (22, [1, 1, 3, 4, 5, 6, 7, 8]),\n",
              " (22, [1, 3, 3, 4, 5, 6, 7, 8]),\n",
              " (22, [1, 5, 3, 4, 5, 6, 7, 8]),\n",
              " (22, [1, 7, 3, 4, 5, 6, 7, 8]),\n",
              " (22, [1, 2, 2, 4, 5, 6, 7, 8]),\n",
              " (22, [1, 2, 4, 4, 5, 6, 7, 8]),\n",
              " (22, [1, 2, 6, 4, 5, 6, 7, 8]),\n",
              " (22, [1, 2, 8, 4, 5, 6, 7, 8]),\n",
              " (22, [1, 2, 3, 1, 5, 6, 7, 8]),\n",
              " (22, [1, 2, 3, 3, 5, 6, 7, 8]),\n",
              " (22, [1, 2, 3, 5, 5, 6, 7, 8]),\n",
              " (22, [1, 2, 3, 7, 5, 6, 7, 8]),\n",
              " (22, [1, 2, 3, 4, 2, 6, 7, 8]),\n",
              " (22, [1, 2, 3, 4, 4, 6, 7, 8]),\n",
              " (22, [1, 2, 3, 4, 6, 6, 7, 8]),\n",
              " (22, [1, 2, 3, 4, 8, 6, 7, 8]),\n",
              " (22, [1, 2, 3, 4, 5, 1, 7, 8]),\n",
              " (22, [1, 2, 3, 4, 5, 3, 7, 8]),\n",
              " (22, [1, 2, 3, 4, 5, 5, 7, 8]),\n",
              " (22, [1, 2, 3, 4, 5, 7, 7, 8]),\n",
              " (22, [1, 2, 3, 4, 5, 6, 2, 8]),\n",
              " (22, [1, 2, 3, 4, 5, 6, 4, 8]),\n",
              " (22, [1, 2, 3, 4, 5, 6, 6, 8]),\n",
              " (22, [1, 2, 3, 4, 5, 6, 8, 8]),\n",
              " (22, [1, 2, 3, 4, 5, 6, 7, 1]),\n",
              " (22, [1, 2, 3, 4, 5, 6, 7, 3]),\n",
              " (22, [1, 2, 3, 4, 5, 6, 7, 5]),\n",
              " (22, [1, 2, 3, 4, 5, 6, 7, 7]),\n",
              " (23, [3, 2, 3, 4, 5, 6, 7, 8]),\n",
              " (23, [5, 2, 3, 4, 5, 6, 7, 8]),\n",
              " (23, [7, 2, 3, 4, 5, 6, 7, 8]),\n",
              " (23, [1, 4, 3, 4, 5, 6, 7, 8]),\n",
              " (23, [1, 6, 3, 4, 5, 6, 7, 8]),\n",
              " (23, [1, 8, 3, 4, 5, 6, 7, 8]),\n",
              " (23, [1, 2, 1, 4, 5, 6, 7, 8]),\n",
              " (23, [1, 2, 5, 4, 5, 6, 7, 8]),\n",
              " (23, [1, 2, 7, 4, 5, 6, 7, 8]),\n",
              " (23, [1, 2, 3, 2, 5, 6, 7, 8]),\n",
              " (23, [1, 2, 3, 6, 5, 6, 7, 8]),\n",
              " (23, [1, 2, 3, 8, 5, 6, 7, 8]),\n",
              " (23, [1, 2, 3, 4, 1, 6, 7, 8]),\n",
              " (23, [1, 2, 3, 4, 3, 6, 7, 8]),\n",
              " (23, [1, 2, 3, 4, 7, 6, 7, 8]),\n",
              " (23, [1, 2, 3, 4, 5, 2, 7, 8]),\n",
              " (23, [1, 2, 3, 4, 5, 4, 7, 8]),\n",
              " (23, [1, 2, 3, 4, 5, 8, 7, 8]),\n",
              " (23, [1, 2, 3, 4, 5, 6, 1, 8]),\n",
              " (23, [1, 2, 3, 4, 5, 6, 3, 8]),\n",
              " (23, [1, 2, 3, 4, 5, 6, 5, 8]),\n",
              " (23, [1, 2, 3, 4, 5, 6, 7, 2]),\n",
              " (23, [1, 2, 3, 4, 5, 6, 7, 4]),\n",
              " (23, [1, 2, 3, 4, 5, 6, 7, 6])]"
            ]
          },
          "metadata": {},
          "execution_count": 17
        }
      ]
    },
    {
      "cell_type": "markdown",
      "source": [
        "## Funções Auxiliares - AG"
      ],
      "metadata": {
        "id": "3tg4XhiiHrNG"
      }
    },
    {
      "cell_type": "markdown",
      "source": [
        "### Mutação"
      ],
      "metadata": {
        "id": "uUcQwNvpFzlp"
      }
    },
    {
      "cell_type": "code",
      "source": [
        "def mutacao(VT, p_mutacao=0.20):\n",
        "\n",
        "    VT_mutated = VT.copy()\n",
        "\n",
        "    N = len(VT)\n",
        "    p = np.random.rand()\n",
        "\n",
        "    if p < p_mutacao:\n",
        "        col   = np.random.randint(0,N)    # indice da coluna (base-0)\n",
        "        linha = np.random.randint(1,N+1)  # valor da linha   (base-1)\n",
        "\n",
        "        VT_mutated[col] = linha\n",
        "        #print(col+1, linha)\n",
        "\n",
        "    return VT_mutated"
      ],
      "metadata": {
        "id": "nUXJydQWsSud"
      },
      "execution_count": 18,
      "outputs": []
    },
    {
      "cell_type": "code",
      "source": [
        "VT"
      ],
      "metadata": {
        "colab": {
          "base_uri": "https://localhost:8080/"
        },
        "id": "dytJXCijpcOE",
        "outputId": "82068319-b5b4-4e01-a381-d44fe990643b"
      },
      "execution_count": 19,
      "outputs": [
        {
          "output_type": "execute_result",
          "data": {
            "text/plain": [
              "[1, 2, 3, 4, 5, 6, 7, 8]"
            ]
          },
          "metadata": {},
          "execution_count": 19
        }
      ]
    },
    {
      "cell_type": "code",
      "source": [
        "VT2 = mutacao(VT)\n",
        "VT, VT2, VT != VT2"
      ],
      "metadata": {
        "colab": {
          "base_uri": "https://localhost:8080/"
        },
        "id": "6GIV1pitubsc",
        "outputId": "159794e3-9840-42ab-bfba-e07ef75ce0fd"
      },
      "execution_count": 20,
      "outputs": [
        {
          "output_type": "execute_result",
          "data": {
            "text/plain": [
              "([1, 2, 3, 4, 5, 6, 7, 8], [1, 2, 3, 4, 5, 6, 7, 8], False)"
            ]
          },
          "metadata": {},
          "execution_count": 20
        }
      ]
    },
    {
      "cell_type": "markdown",
      "source": [
        "### Crossover"
      ],
      "metadata": {
        "id": "q7q7CoFuF1w5"
      }
    },
    {
      "cell_type": "code",
      "source": [
        "def crossover2(Parent1, Parent2):\n",
        "\n",
        "    N =  len(Parent1)\n",
        "\n",
        "    # ponto de corte\n",
        "    c = np.random.randint(1, N-1)\n",
        "\n",
        "    # crossover no ponto de corte\n",
        "    # gerando dois filhos\n",
        "    child1 = Parent1[:c] + Parent2[c:]      # Python List format\n",
        "    child2 = Parent2[:c] + Parent1[c:]      # Python List format\n",
        "\n",
        "    return child1, child2"
      ],
      "metadata": {
        "id": "3sIPZcHxudG8"
      },
      "execution_count": 21,
      "outputs": []
    },
    {
      "cell_type": "code",
      "source": [
        "# ALTERNATIVAMENTE, VOCÊ PODE GERAR TAMBÉM\n",
        "# UMA FUNÇÃO CROSSOVER QUE GERA APENAS UM FILHO\n",
        "#\n",
        "def crossover1(Parent1, Parent2):\n",
        "\n",
        "    N = len(Parent1)\n",
        "\n",
        "    # ponto de corte\n",
        "    c = np.random.randint(1, N-1)\n",
        "\n",
        "    # crossover no ponto de corte\n",
        "    # gerando dois filhos\n",
        "    child1[:c] = Parent1[:c]        # NUMPY format\n",
        "    child1[c:] = Parent2[c:]        # NUMPY format\n",
        "\n",
        "    return child1"
      ],
      "metadata": {
        "id": "EHOZLId3wtIc"
      },
      "execution_count": 22,
      "outputs": []
    },
    {
      "cell_type": "code",
      "source": [
        "VT1 = [1,1,1,1,1,1,1,1]\n",
        "VT2 = [2,2,2,2,2,2,2,2]"
      ],
      "metadata": {
        "id": "N0mrZDKpytgY"
      },
      "execution_count": 34,
      "outputs": []
    },
    {
      "cell_type": "code",
      "source": [
        "crossover2(VT1, VT2)"
      ],
      "metadata": {
        "colab": {
          "base_uri": "https://localhost:8080/"
        },
        "id": "BmFkqSaVyluH",
        "outputId": "3c7e4179-d4e8-41ab-c79c-2766cb54640d"
      },
      "execution_count": 35,
      "outputs": [
        {
          "output_type": "execute_result",
          "data": {
            "text/plain": [
              "([1, 1, 1, 1, 2, 2, 2, 2], [2, 2, 2, 2, 1, 1, 1, 1])"
            ]
          },
          "metadata": {},
          "execution_count": 35
        }
      ]
    },
    {
      "cell_type": "markdown",
      "source": [
        "### Seleciona pais"
      ],
      "metadata": {
        "id": "1aG6C4zLF4kp"
      }
    },
    {
      "cell_type": "code",
      "source": [
        "\n",
        "# Selecao por torneio\n",
        "def selecao(Populacao):\n",
        "    Candidato1 = random.choice(Populacao)\n",
        "    Candidato2 = random.choice(Populacao)\n",
        "\n",
        "    a1 = conta_ataques(Candidato1)\n",
        "    a2 = conta_ataques(Candidato2)\n",
        "    #print(a1,a2)\n",
        "\n",
        "    # eleito o candidato com menor custo\n",
        "    eleito = Candidato1 if a1<=a2 else Candidato2\n",
        "\n",
        "    return eleito"
      ],
      "metadata": {
        "id": "USJeP4eIy0qX"
      },
      "execution_count": 25,
      "outputs": []
    },
    {
      "cell_type": "code",
      "source": [
        "\n",
        "selecao([VT1,VT2])"
      ],
      "metadata": {
        "id": "oYMetv5Yzfsl",
        "colab": {
          "base_uri": "https://localhost:8080/"
        },
        "outputId": "e02bd48b-d47f-4474-e58a-ea7bbd3c1e31"
      },
      "execution_count": 36,
      "outputs": [
        {
          "output_type": "execute_result",
          "data": {
            "text/plain": [
              "[2, 2, 2, 2, 2, 2, 2, 2]"
            ]
          },
          "metadata": {},
          "execution_count": 36
        }
      ]
    },
    {
      "cell_type": "markdown",
      "source": [
        "### Gera Indivíduo"
      ],
      "metadata": {
        "id": "EnkejvpMJjh5"
      }
    },
    {
      "cell_type": "code",
      "source": [
        "def gera_individuo(n_cols):\n",
        "    # individuo é um Vetor (N) em que cada posicação\n",
        "    # representa uma coluna indicando as respectivas\n",
        "    # linhas ocupadas pelas rainhas em um tabuleiro (NxN).\n",
        "\n",
        "    # VT = [low, high) x n_cols\n",
        "\n",
        "    VT = np.random.randint(low=1, high=n_cols+1, size=n_cols)\n",
        "    return VT"
      ],
      "metadata": {
        "id": "rjDoVFiFJq82"
      },
      "execution_count": 27,
      "outputs": []
    },
    {
      "cell_type": "code",
      "source": [
        "N=8\n",
        "gera_individuo(N)"
      ],
      "metadata": {
        "id": "60EZhGMgNdcG",
        "colab": {
          "base_uri": "https://localhost:8080/"
        },
        "outputId": "e6c87ac0-fd29-426c-a74d-5f7980105f99"
      },
      "execution_count": 28,
      "outputs": [
        {
          "output_type": "execute_result",
          "data": {
            "text/plain": [
              "array([6, 6, 7, 5, 7, 4, 1, 1])"
            ]
          },
          "metadata": {},
          "execution_count": 28
        }
      ]
    },
    {
      "cell_type": "markdown",
      "source": [
        "### Gera População"
      ],
      "metadata": {
        "id": "0s9cB_ZmJ8iI"
      }
    },
    {
      "cell_type": "code",
      "source": [
        "def gera_populacao_inicial(N, tam_pop):\n",
        "    # N:       tamanho do tabuleiro (NxN)\n",
        "    # tam_pop: tamanho da população\n",
        "    populacao = []\n",
        "    for _ in range(tam_pop):\n",
        "        individuo = gera_individuo(N)\n",
        "\n",
        "        populacao.append(individuo)\n",
        "\n",
        "    return populacao"
      ],
      "metadata": {
        "id": "bHOtoOudJmHU"
      },
      "execution_count": 29,
      "outputs": []
    },
    {
      "cell_type": "code",
      "source": [
        "N = 8\n",
        "tam_pop = 20\n",
        "Populacao = gera_populacao_inicial(N, tam_pop)\n",
        "Populacao"
      ],
      "metadata": {
        "id": "lcbFEfWDPM4y",
        "colab": {
          "base_uri": "https://localhost:8080/"
        },
        "outputId": "9336e55b-ed0b-4955-97cd-4dc7aaece870"
      },
      "execution_count": 30,
      "outputs": [
        {
          "output_type": "execute_result",
          "data": {
            "text/plain": [
              "[array([5, 6, 8, 2, 8, 2, 5, 2]),\n",
              " array([7, 8, 4, 1, 7, 3, 2, 1]),\n",
              " array([5, 7, 7, 3, 7, 7, 5, 1]),\n",
              " array([2, 7, 4, 7, 1, 2, 8, 1]),\n",
              " array([6, 3, 2, 6, 2, 8, 8, 5]),\n",
              " array([8, 8, 1, 6, 7, 5, 4, 5]),\n",
              " array([5, 8, 6, 3, 3, 6, 6, 2]),\n",
              " array([1, 7, 7, 7, 8, 1, 3, 6]),\n",
              " array([2, 2, 2, 5, 1, 2, 7, 1]),\n",
              " array([8, 8, 8, 8, 2, 4, 3, 2]),\n",
              " array([2, 4, 2, 1, 3, 4, 2, 1]),\n",
              " array([6, 7, 5, 8, 7, 4, 7, 6]),\n",
              " array([8, 1, 4, 7, 2, 6, 7, 4]),\n",
              " array([3, 2, 8, 1, 5, 2, 4, 8]),\n",
              " array([5, 8, 2, 5, 5, 3, 7, 3]),\n",
              " array([7, 1, 2, 4, 4, 2, 2, 3]),\n",
              " array([8, 7, 6, 5, 5, 3, 2, 8]),\n",
              " array([3, 4, 6, 1, 2, 8, 7, 4]),\n",
              " array([6, 5, 3, 1, 8, 3, 5, 2]),\n",
              " array([2, 7, 2, 8, 3, 7, 5, 6])]"
            ]
          },
          "metadata": {},
          "execution_count": 30
        }
      ]
    },
    {
      "cell_type": "code",
      "source": [
        "gera_tuplas_custos(Populacao)\n"
      ],
      "metadata": {
        "id": "BB9jNLVCOr5P",
        "colab": {
          "base_uri": "https://localhost:8080/"
        },
        "outputId": "e86d7409-c0be-4765-e049-ec7333d38bb9"
      },
      "execution_count": 31,
      "outputs": [
        {
          "output_type": "execute_result",
          "data": {
            "text/plain": [
              "[(9, array([5, 6, 8, 2, 8, 2, 5, 2])),\n",
              " (7, array([7, 8, 4, 1, 7, 3, 2, 1])),\n",
              " (10, array([5, 7, 7, 3, 7, 7, 5, 1])),\n",
              " (8, array([2, 7, 4, 7, 1, 2, 8, 1])),\n",
              " (8, array([6, 3, 2, 6, 2, 8, 8, 5])),\n",
              " (6, array([8, 8, 1, 6, 7, 5, 4, 5])),\n",
              " (6, array([5, 8, 6, 3, 3, 6, 6, 2])),\n",
              " (6, array([1, 7, 7, 7, 8, 1, 3, 6])),\n",
              " (11, array([2, 2, 2, 5, 1, 2, 7, 1])),\n",
              " (13, array([8, 8, 8, 8, 2, 4, 3, 2])),\n",
              " (8, array([2, 4, 2, 1, 3, 4, 2, 1])),\n",
              " (9, array([6, 7, 5, 8, 7, 4, 7, 6])),\n",
              " (5, array([8, 1, 4, 7, 2, 6, 7, 4])),\n",
              " (8, array([3, 2, 8, 1, 5, 2, 4, 8])),\n",
              " (7, array([5, 8, 2, 5, 5, 3, 7, 3])),\n",
              " (12, array([7, 1, 2, 4, 4, 2, 2, 3])),\n",
              " (18, array([8, 7, 6, 5, 5, 3, 2, 8])),\n",
              " (6, array([3, 4, 6, 1, 2, 8, 7, 4])),\n",
              " (5, array([6, 5, 3, 1, 8, 3, 5, 2])),\n",
              " (7, array([2, 7, 2, 8, 3, 7, 5, 6]))]"
            ]
          },
          "metadata": {},
          "execution_count": 31
        }
      ]
    },
    {
      "cell_type": "markdown",
      "source": [
        "## Algoritmo Genético - Implementação"
      ],
      "metadata": {
        "id": "l5_i1oumHeHq"
      }
    },
    {
      "cell_type": "markdown",
      "source": [
        "![image.png](data:image/png;base64,iVBORw0KGgoAAAANSUhEUgAAAk8AAAI3CAYAAACCtr/CAAAABHNCSVQICAgIfAhkiAAAABl0RVh0U29mdHdhcmUAZ25vbWUtc2NyZWVuc2hvdO8Dvz4AAAAmdEVYdENyZWF0aW9uIFRpbWUAc2V4IDEwIG1haSAyMDI0IDEwOjU3OjUwk25ohQAAIABJREFUeJzs3XlUFFfaP/BvN82qgBuCoLKOCxiD0Rg1YREjQRMNMSKKQlzQiYoiP5PxlWQiiZpRcXvRMe4LcZshcU3ciOKCRk0iEUdxQxBF2UT2nX5+fzBdL013Q3fTCOLzOafPoatu3Xvr3uruh6pbt0RERPgvkUiEWm8ZY4wxxl5pymIjcTPVhTHGGGPspcTBE2OMMcaYBjh4YowxxhjTAAdPjDHGGGMa4OCJMcYYY0wDHDwxxhhjjGmAgyfGGGOMMQ00Kni6dOkS/P394e7ujokTJ+LOnTu6qtcLUVpaijNnzuD3339v7qq0KPfu3YOpqSm+/fbbF1puQkICpk6diqFDh2Lq1Kl49uzZCy3/ZfGi2+n27dsYM2YM9u3bV2+6pUuXwszMDPfu3WvS+jDGWLOjWuq8rdcPP/xAenp6BEB4LV++XO3tWwJ/f3+h7nv37m3u6gikUimdPHmS5syZQyNGjCAPDw/y9/enlStX0oMHDxrc/ocffqCJEyfS3/72N63Knz17NgGgW7duabW9Nv744w8yMDAgiURCrq6u1LFjRzpz5gwdPnyYOnXqRHPmzHlhdWnJVLVTUzp+/DgBoNmzZ9eb7tatWwSAQkJCmrQ+jDH2IimLjbQOngYMGCAEHuPHj6fZs2fT4cOHG19LHaqsrKQVK1bQF198QT///LPCend3d2Ef1q5d2ww1VHT79m25tjU1NSVra2syMDAgACQWi+mLL75Qub1UKiVbW1th+/j4eI3KLygooLZt25Kbm1tjd0Ujn376KQGgLVu2EBFRVVUVVVVV0erVqwkADRs2TGGbffv20f/+7/+SVCp9oXVtTqraqSmpGzwREbm5uVGbNm2ooKCgSevEGGMvik6DJ9mPedeuXRtfsyby9OlTIYhQ9uN75swZmjRpEoWEhFB2dnYz1FDerVu3qH379gSAJkyYQDdu3BDWVVRU0LFjx2jkyJFka2urMo9z584RAHJyciIA9Ne//lWjOuzZs4cA0OrVq7XdDa3IAtmUlBS55aWlpRQXF0cZGRkK27i4uBAAKi0tfUG1bH6q2qkpaRI8rVq1qsWdyWWMscZQFhtpNeapvLwcFRUVAABLS0ttsmgQEaGoqEjt+lRXV2tcxtChQ/H9999j3bp16NSpk9I0VVVVKCgo0PiZf5rUHwCqq6vh5+eH58+f48svv8TevXvRp08fYb2+vj5GjBiBn3/+GfHx8Srz2b17NwBgx44dMDIyQkxMjNBX6oiJiQEA+Pj4qL2NLpSUlAAA2rZtK7fcyMgInp6eTXacvWxUtVNLITtufvzxx2auCWOMNR2Ng6eIiAgMHDhQeH/r1i24urpiyJAhqKqqwj/+8Q/Y29ujT58+ePTokdy2/v7+sLOzg5eXl9zyqKgo2NnZYfz48SgoKMDcuXNhbm4OU1NTWFlZYfXq1Qr1KCoqQnh4OGxtbWFkZARDQ0O4ubnh1KlTAIDw8HC8++67QvorV67A1dUV/fr1w5UrVwAA3333HRwdHdGnTx/cunVLSFtZWYk1a9agb9++MDAwgLm5OUxMTODt7Y0zZ84o1EWb+tcVExODmzdv4vXXX8fXX39db9quXbsqXV5eXo6YmBg4OzvjnXfewQcffIDc3FwcO3aswfKBmoAvLi4OHTt2RO/eveXWJSYmwtPTE7GxsUhNTUVgYCC6desGR0dHhIaGoqCgQK0y6tq1axd8fHxw9+5dADXHiI+PDyIjIwEAN27cgKenJ7Zs2SJss3nzZvj4+ODhw4cAgNGjR8PHxwf+/v6Nru/Bgwfh7e0NGxsbdO/eHb6+vrh06ZJCujNnzmDEiBGwtbWFg4MDgoKCcP/+fY3T6Kqdmqp/6rNx40Z4enpiw4YNwjJnZ2d07NhR6eeEMcZajYZOTdX1wQcfyA0Sr/3Ky8ujiRMnCu8TEhLktnV0dCQA1KZNG7nlsgHKXbp0oT59+ijN+1//+peQvqSkhN544w2l6czNzYmI6L333lNZz927d8uVC4BiY2OJqGaclLe3t8ptxWIxRUdHN6r+yowbN44A0HfffddgH6jyww8/EAD65ptviIjowIEDBIDGjBmj1vZ3794lAErHO8ku3UyePJnMzc3JwsKCvLy8qF27dgSARo4cqVWd169fTy4uLmRkZEQAqFevXuTi4kLh4eFy5da+ZLRy5UpycXEhQ0NDAkDOzs7k4uJC7u7ujapveHg4ASAHBweaN28eTZo0iUxNTUlPT48OHTokpPvpp5+EdKGhoTRt2jSysrKiefPmaZSmKdpJ1/1TO+/afbBjxw4CQHZ2dpSamiqXXnZpUZ2bGxhjrKVTFhtpHDydOnWKFi1aJAQF1tbWtHjxYmGMTGOCJ9nL09OTVq9eTUOGDBGWDR48WEj/97//XVjeq1cv2rdvHx08eJA+/vhjatu2LRERnThxghYsWCCkc3R0pMWLF9OSJUvo8ePHCuXKgqcVK1YIy5ycnOiHH36gq1evUkhIiNwg7toDYjWtvzKytqk9zklTH374IQGgu3fvEhFRWVkZtWvXjgwNDen58+cNbv/jjz8SAJo2bZrCOtkPKP57g0BxcTEREaWnp5OlpSUBoOvXr2td9/79+xMAhbFn9Y23qW/Mk6b1lY0VGzx4MBUWFgrLk5KSyMjIiLp06UIVFRVERDR8+HASi8WUmZkppCsrK6OHDx8K79VJo42G2qkp+qduHxw5coQkEgnZ29srBE5ERNOnTycAcgEnY4y9rHQSPBHVDOKVfVH3799fbl1jg6eAgACqrq4mIqK8vDwyMTEhAGRgYCCk79atm3AW6P79+3J51f4yb2jAuLLgyd7engCQSCSi27dvy6UfPny4kH7fvn1a118ZMzMzAkBZWVlyywcPHkx6enpyr+HDhyts/+zZMzIwMFDoj2nTphEA2rRpU73lExFt3LiRANBnn32msE72Azp06FBh/2RkQerGjRsbLEOVpgqe1K1vQEAAAaC4uDiFvGTHtOzOxXfeeYdEIlG9g7bVSaONhtqpKfqndh9cuHCBjI2Nyd7eXmUg+Le//Y0A0NatW7UqjzHGWhJlsVGLm2F8ypQpEItrqmVubg4nJycAQEVFBSoqKpCZmSmMperduzccHR3ltre1tdW67KysLKSkpAAAevbsiZ49e8qtHzlypPB3YmKiVvVXxcDAAEDNxJ21+fn5YfLkyZg8eTImTJiA6upqPHjwQGH7f/3rX6ioqMCECRPklgcEBAD4v4Hk9Xn+/DkAwMzMTGUaZ2dnYf9k7O3tAQD5+fkNlvGiqVtf2Ti45ORk7N+/X+5VXFwMAEK7+/n5gYjg5uaGbdu2CYO4a1MnTVNoyv5JSkrCqFGj0KFDB5w9exbdu3dXms7c3BzA/x1PjDHW2kiauwIN0dfXF/6WSqVysyl37txZp2VlZ2cLf1tYWCisr11eYWGhWnnWrb8qNjY2yMnJQVJSktyPUlhYmPB3Tk6OyiBItrysrAw7d+6UK9PQ0BDx8fFITU2FnZ1dg3XW9M5FPT09oayXgbL6yo6r4OBgpdtIJBLY2NgAAObMmYPS0lIsXboUwcHBmD9/PsLCwhAeHi70tzppXhRd9Y9YLEZVVRVycnKQnZ2tMniSHT8ikahR5THGWEul8zNPtb8wm+LHtPYPT15enk7zNjIyEv5W9l967cCtXbt2Oi37nXfeAaDdLd4PHjwQ7gj78ssvMWXKFOE1bdo0lJeXg4iwZ8+eevOR7VNT3JnV0hkbGwOoCaArKysVXuXl5cJdoiKRCAsWLEBaWhrWrVsHMzMzREREYPr06UJ+6qR52fTs2RObN29GeXk5xo4di9zcXKXpZMePrj8jjDHWUug8eJL9CAGQu7yUlJSEjIyMRuffvXt3IYC6efMmsrKy5NY/ffpU+Lt2IFdeXt5g3t26dYOhoaFQ35ycHLn1tW+/dnV11bzy9Zg2bRoAIDo6WuUlQVVkZ50WLFiAGzduKLz27t0rl04V2dm2uvvdUsn6VxdBuuzyampqKiQSicKr7qUwoCY4CAkJQUJCAjp16oS9e/cqXJpVJ83LZMKECZg1a5YwHQIpmf9M9k+GsrO3jDHWGug8ePrLX/4i/P3FF1/g2LFj2LVrFzw8PISxI41haGgozN9UUVGBcePG4dKlS/jjjz/wP//zP3BwcBB+TM3MzIQf2GvXriE2NhZnz57FkydPlOZtYGCA9957D0DNXE+TJ0/G/fv3kZubi7Vr1+LIkSMAgI4dO8qNf9KFfv36CWeJRowYoXQiTFU/urIzSp9++in69Omj8Bo/fjy6du2K27dv1/sQ5Ndeew1ATeCoC9u3b8fy5ctRWVmpk/zq6tChAwAgLS2t0XmNGjUKALBixQqlAUHtS5l15y/r2LEjLC0tUV1dLaRTJ01z07Z/1qxZg4EDB+LYsWNYsmSJwnrZnGmy44kxxlobnY95CgoKwldffYWysjLcvXsX77//vrCuV69euH37dqPLWLJkCU6fPo2KigqcO3cOb7/9trBOT09P+PEzNjaGm5sbzp8/j5KSEnh7ewOoOQMzceJEpXn/4x//wOnTp1FcXIyff/4ZP//8s9x6sViMjRs3yp1h05X169cjNzcXBw8ehJubG4YMGYJBgwbB2NgYKSkpQl1qD+i+cuUK7t69i0GDBqkczyQSiTBhwgRERkZi9+7dGDBggNJ0f/nLX9C2bVskJSVBKpUqPduiiZkzZ6KiogKjR49WmHRTFwYMGIDz589jxowZ8PPzQ1JSktyEjZqYNWsWtm/fjpiYGOTk5CAoKAjm5ubIyMhAXFwcLl68iPT0dOTm5sLBwQEBAQHw9vaGqakpDhw4gJs3byIgIADGxsZqpWkJtO0fAwMDxMTEoF+/foiIiMCgQYMwfPhwAAARISkpCebm5sJAdcYYa220+nXU09MTxge1adNGbp2lpSWio6Plxjt07twZ33//PWbOnAkAMDExkdtG9qgJkUik8NgJWf7GxsbCwNc33ngDJ0+eVPjC79KlCzZs2CCkA2oCktp3zUkkEuEOPWXlOjs748KFC8IYpNpef/11HD9+HGPHjm1U/VUxMjLCjz/+iL1792LQoEG4cuUKVq9ejaVLl2Lv3r0wMTHBzJkzhUeoABDOhgUGBtab96RJkyASiYT0yohEInh5eaG4uBi//fab3DrZpVLZXYENrSMiVFdXQ19fX+WM6LUZGBhALBZDIpGP5+sr9/PPP8dbb72FCxcuYO7cuThx4oTW9W3Tpg3OnTsHf39/xMfHY8qUKRgzZgxmzZqFX3/9VTh2O3TogE8//RQxMTGYNGkSPvzwQ+zZswdTpkzBpk2b1E6jLW3aqbH9o2z77t27Y/fu3RCJRAgKChLOpv3xxx8oKCiQm92fMcZanYbmMlCloqKC8vPzFeaUkSktLaXLly/T1atXqby8XFheUFAgTDZYW0FBgdL5eqqrqyk/P1/pNkREycnJdPHiRbp9+zZJpVKlaaqrqyklJYX++OMPhckiVZVLRJSZmUmXLl2i+Ph4evTokdI0ja1/fQoLC+nOnTv0559/0pMnT5SmqaqqkpvUsT4lJSUNPkR3165dBIC+/vprpfVR1d8FBQVy7X/o0CECQHPmzFGrbhUVFVRSUqJ0XX3lEtXM55WUlKTQxprUt7bi4mK6ceMGJSQkKH0gMVHNhJc3btygmzdvqqy3Omk0pW07NbZ/VOVdWloqV5/FixcTwA8GZoy1HspiI9F/VwCoOfNAGj4Al7UuBQUFsLGxgZ2dHW7cuKF1PgMHDkRWVhb+85//tNiH2L7Kmqp/+vXrhwcPHiA9PZ37nTHWKiiLjVr8PE/sxTIzM8OMGTOwevVqXLlyBW+99ZbGeZw6dQq//fYbYmNj+QdUhT179ihMiKqKm5ubwoStjdFU/XPlyhX8+eef+Pzzz7nfGWOtGp95YgoeP36Md999F8HBwfjss8803v7hw4d4/vy5zqdzaC1KS0sVxv3VJyIiAosWLdJZ+U3VP5GRkdi2bRtOnz4tTCjKGGMvO2WxEQdPjDWDrKwsted7srCwEOYfY4wx9mJx8MQYY4wxpgFlsVGLezAwY4wxxlhLxsETY4wxxpgGOHhijDHGGNMAB0+MMcYYYxrg4IkxxhhjTAMcPLFX2u3btzFmzBjs27evuavSaAkJCZg6dSqGDh2KqVOn4tmzZ81dJcYYa5VabfB048YNTJ8+HZMnT8aZM2eauzqshUpNTcXBgwdx8eLF5q5Ko1y7dg2DBg3C999/j7y8PBw5cgSJiYnNXa2X0pEjR2BhYYG5c+c2d1UYYy1Uq308y8WLF7F161YAQLt27eDl5dXMNapfVVUV1qxZg/z8fAwZMgQjR45s7iqxl8iWLVtQUVGBLVu2IDg4GNXV1c1dpRZt//79yMrKwpw5cyASieTWJScnIycnB7du3Wqm2jHGWrpWGzy9bHJycvC3v/0NADBs2DAOnphGZD/07777LgBAT0+vOavT4i1ZsgQ3b97EjBkzYGRkJLdu5syZ6NevH3r37t1MtWOMtXSt9rKdpogIRUVFGm2jaXpdqaioQFlZWbOUzVqmkpISAOAH8uqAkZERPD09YWlp2dxVYYy1UK9k8BQVFQU7OzuMHz8eBQUFmDt3LszNzWFqagorKyusXr1aafpJkyahqKgIYWFhQvqOHTvim2++gVQqFdL/4x//gL29Pfr06YNHjx7J5eXv7w87Ozu5y4jh4eHCGQOg5un0rq6u6NevH65cuQKg5rLe6tWr4eTkBGNjYxgbG8PR0RFr1qyRyz85ORnHjh1r8LlpiYmJ8PT0RGxsLFJTUxEYGIhu3brB0dERoaGhKCgo0KxRG5H31atX4eHhgejoaIW8jh49Cg8PD5w6dUplGcnJyfD394eNjQ369u0r13/79u3Dm2++CSsrKwwbNkxoT2UeP36MadOmoXv37rCzs8O0adOQkZGhNO3Bgwfh7e0NGxsbdO/eHb6+vrh06VK9bXHhwgW8+eabsLGxwdq1a+ttQwA4deoUfH19YWdnBysrKwwcOBDLli0TAiUA2LVrF3x8fHD37l0ANceXj48PIiMj6807MzMTs2fPxhtvvAFbW1u8/fbb8PHxgY+PD95//31kZ2c3en81Oa7UyV+dtvzll18QGBiIHj16wMLCAs7OzggLC0NeXh4AYPPmzfDx8cHDhw8BAKNHj4aPjw/8/f2FPG7cuAFPT09s2bJFaV3V6Rdt2+LMmTMYMWIEbG1t4eDggKCgINy/f19pPRhjzYhqqfP2pfbdd98RAAJAoaGhcutmz55NAKhLly7Up08fIV3t17/+9S+F9N26dSNXV1el6cPDw4X0EydOFJYnJCTIle3o6EgAqE2bNsKy9957T2meAGj37t1ERBQWFiYsk0gkZGBgQACoY8eOcvm7uLgQANqwYUO97XP8+HECQJMnTyZzc3OysLAgLy8vateuHQGgkSNHatbgjcg7JiaGAND8+fMV8oqMjCQAtG7dOqVlfPLJJ2RmZkY2Njbk4eFBRkZGBICWLFlCISEhBIAGDRpEzs7OQrs/fvxYIZ+3336bOnbsSJ06daKRI0eSnZ0dASB7e3vKzc2VKzs8PJwAkIODA82bN48mTZpEpqampKenR4cOHVJazxkzZpCxsTGZmZmRtbU1BQYG1tuGX331lVDfUaNGkZ+fH1laWhIAGjBgABUVFRER0fr168nFxUXY7169epGLi4vc8VhXdnY2denShfT19WnixIk0e/Zssra2JgBkZ2dHQ4YMoadPnzZqfzU5rtTNv6G2jI6OJgBkaWlJY8aMoU8++YQcHBwIAA0fPpyIiFauXEkuLi5kaGhIAMjZ2ZlcXFzI3d1doZzZs2dr3S/atMVPP/0ktENoaChNmzaNrKysaN68eSr7kjHW9JTFRq908CR7eXp60urVq2nIkCHCssGDB6tM/+6779LWrVtp/PjxwjIDAwPKyckhIs2DpxMnTtCCBQuEbRwdHWnx4sW0ZMkSevz4MRUVFZFEIhHqWlxcTNXV1RQfH09ffPGFXP59+/YlALRp06Z620f2xQ6Axo8fT8XFxURElJ6eLvwYXL9+XfOG1yLvxgRPACgwMJDKysqIiOjcuXMEgEQiERkbG9PRo0eFbQIDAwkARURENFjXsrIyevvttwkAffnll0J6Wf6DBw+mwsJCYXlSUhIZGRlRly5dqKKiQmn+Xl5elJ+fT0Qk9yNb19mzZ4VA5tGjR8Ly4uJi8vb2JgC0cOFCuW369+9PACg7O1tlvjJz584lALR3715h2dOnT8nU1JTeeustubSN2V91+l6T/Btqy3PnzlF0dDRVVlYK+ZSVlQmBc2JiorBc9k9GaWmpQvuoCp407RdN22L48OEkFospMzNTrv4PHz5UqCNj7MXh4Om/agdDAQEBVF1dTUREeXl5ZGJiIgRDytJPnDiRpFIpERFVV1fLnYn68ccfiUjz4Imo5sdLts2wYcPk1uXm5soFdcq+8GXS09Pp4sWLVFVVVW/7yL7Yhw4dKuy/jCyQ27hxY7156CrvxgRPXl5eCmXI+kR21k7m8uXLBIB8fX0V8nF3d1dos9OnTxMA6tu3r7AsICCAAFBcXJxCXWX9Hh8fr5C/jY2NwhksVcaNG0cAaNu2bQrrrl27JuRXmybBkyworHsceXh4EAAqKSkRlmm7v+r2vSb5a9OWRESfffaZ3OeTSLvgSdN+0bQt3nnnHRKJRJSSkqL2vjHGmp6y2OiVv9tuypQpEItrhn6Zm5vDyckJiYmJqKioQEVFBQwMDOTST548Wbi1WSwW44MPPsCff/4JAMI4Cl1r3749XnvtNdy4cQO//vorHB0dMXXqVHz66aewsbGRS2ttbQ1ra2u183Z2dhb2X8be3h4AkJ+f36h6N2XeMr1791Yow9bWFn/++SdcXFzklnft2hVAzXiful577TWFO9Tc3NwgEomQkpIiLJONmUpOTlYYD1VcXAwAePDgAd5++225db6+vmjfvr1a+3T58mUAwIgRIxTW9evXDxYWFkhPT0dOTg46deqkVp61WVhYAACysrLQvXt3AAAR4dGjRzA0NJQ75rXdX3X7Xpv81WnL7OxsPHnyBHl5ecjNzQWARo3jA7TvF3Xbws/PD/Hx8XBzc0NERAQmTJgAExOTRtWZMdY0XvngqS59fX3h79qDwFXp3Lmz8HfdQba6tG/fPnz44YdITk7GkydPsGTJEkRGRmLNmjWYOXOmTsuSBRHq7H9LyltGIlF+WGtatr6+Ptq1a4fnz5+jpKQEJiYmwqzdwcHBKsuuG9BqKisrC2KxGFZWVkrXW1paIjs7G/n5+VoFTxMnTsShQ4cwbdo0rFy5EiYmJli/fj0ePHiA6dOnywWRutxfZe2vy/yJCFFRUVi1apXCjRq6oMt+UdYWc+bMQWlpKZYuXYrg4GDMnz8fYWFhCA8Pl/teYow1v1fybjtdysnJEf6W3SZee9I9XQUJLi4uuHXrFrZv346BAwcCAMrLyxESEiKc+XpZydqr5uxoy0H/nb5CLBYLcwEZGxsDqAmUKysrFV7l5eWNnpDV0NAQUqlU4e4tGVnAYWZmplX+z58/BwD8/vvvcHV1RY8ePRAVFYWxY8cq3Gna1Pury/wXL16MefPmoWvXrjh69Cju3buHp0+fYsGCBVrXr7am7heRSIQFCxYgLS0N69atg5mZGSIiIjB9+nSt68wYaxocPGmo7mM8Tp48Kfwtm1RP9oMA1FxykElKSlJ563vtgKu8vFxpGgMDA0yZMgVXrlwRfhCkUinOnj2r2U60MLL2kt1OXtuLmktL2Q/ijRs3UFlZiR49egiXXZycnADUPNZFIpEovOpentGGrIxr164prEtPT0dmZiasra2Fy2+a+uqrr/Duu+8iLS0NJ06cwJEjR5CcnIyYmBiFeaKaen91mf+WLVsgEonw008/4YMPPoCTkxOsrKyUzn0l+7xp8s9NU/eLTLt27RASEoKEhAR06tQJe/fubXDqEcbYi8XBk4a+/vprLFy4EAkJCfj888+FMRtGRkYYNmwYAOAvf/mLkP6LL77AsWPHsGvXLnh4eAjjOOoyMzMTvtCvXbuG2NhYnD17Fk+ePMGzZ88wd+5cJCcnC+lrf0HXDtbi4uKwcuXKJnko7Pbt27F8+XJUVlbqNN+ePXsCAI4fPy43+WdsbCyWL1+u07JUiY6Oxt69e+WWrVy5EgAwatQoYZns7xUrVig9U6aLx6KMHj0aALB06VK5tiYiLFq0CFKpFAEBAVrnX1RUhJs3bwrPcOvRoweMjIyU7k9T768u85dKpRCLxXJjtsrLy5X+c9GhQwcAQFpamtr5N3W/1L3U2LFjR1haWqK6upoft8NYC8NjnjQkEomwbNkyLFu2TG75559/LpyuDwoKwldffYWysjLcvXsX77//vpCuV69euH37tkK+xsbGcHNzw/nz51FSUgJvb28AwO7du/Hmm29i3bp1WL9+PWxtbWFgYCBMitiuXTt89NFHQj4zZszA/fv3oaenh7CwMJ3u+8yZM1FRUYHRo0fr9NEVjo6OGDZsGE6fPg0PDw/4+/vj9u3b2LFjB1xdXfH777/rrCxVZJOgHj16FEOGDEF8fDz+/e9/o2PHjpg/f76QbtasWdi+fTtiYmKQk5ODoKAgmJubIyMjA3Fxcbh48SLS09MbVZfQ0FDs2LEDJ0+ehKenJwICAiCRSHDo0CGcOHECTk5O+PLLL7XOf+3atQgODsakSZPklhsbG2PUqFFYs2aNcNNBU++vLvP39vbGzp074e/vj5CQEOTl5SEyMlL4rNQ2YMAAnD9/HjNmzICfnx+SkpKwYcOGevNvyn7Jzc2Fg4MDAgIC4O3tDVNTUxw4cAA3b95EQECA3D9IjLHm12qDp9rjDtq1aye3rvbYpLqn9Nu0aQOg5odE2fPBoqKisHX3LfPRAAAgAElEQVTrVmGckYGBAebOnYuIiAghjaWlJaKjozFjxgzhUlTnzp2xatUq5ObmIjQ0VOldNOvXr4efnx/u3LkDoGawrKOjI+zt7eHr64sjR44gNTVVSO/p6YnVq1fLDVq3trbG/fv3GxxkKxuAWvduQlXriAjV1dXQ19cX7lrTVd4AsHXrVowdOxZXr17F1atXYWZmhmXLlqF///4YOnSoQnptypBIJBCJRHLLZWm//vprPH78GN988w32798PAOjbty927dol95iONm3a4Ny5c5g7dy4OHDiAuLg4YV3Xrl0VBu/XV09VzM3NceHCBcyZMwc//fSTMNO2oaEhJk6ciFWrVsHc3FxuGwMDA4jFYpWD5Wu7ePEixGIxIiMj0aNHD5SWliIvLw/Hjx/Hv//9b6SlpeHXX3/V+f4qW6dJ/g215dq1a5GXl4dDhw7h2LFjEIlE+PDDDxEREYEPP/xQbrvPP/8cFy9exIULF3DhwgXh7rf6ytG0XzRpiw4dOuDTTz/Ftm3bhJn2JRIJpkyZgqioKKX7yxhrPiKqda5cJBK1uEG7jVFWVgapVKo0UCksLIS+vr7CQ0GlUimKiopgbGwsfMGFhITgn//8J4CaS0nDhg1DYmIiiouL4ezsrBCc1S7/+vXrEIvFeP3114UvysLCQhgZGSm9g0YqlSItLU34T7R23nl5ecJZK3t7e6XP3qqsrERxcbHKOtVWVFQEExMTpeNKCgsL0bZtW+FS4uHDh+Hr64s5c+ao9WWuSd61paSkoKCgAD169BD+2y4sLISpqanaZVRVVaG8vFwIhGsrKSmBvr6+XNsXFRUJQXRRURHu378Pc3NzuR9UZUpKSvDgwQNUVVWhS5cuKp+FVl9bNKSgoACpqakQiURwcHBQuk9ATb9XVVU1eIbi119/xZAhQ/DXv/4VGzduVFjfq1cv3LlzB8+fP1c4hnSxv/X1vTr5q9OWubm5SEtLg7W1tfCPRXFxsdK2y8jIQF5eHhwdHRWOifrKUbdfNG2L8vJy3Lt3D2KxGPb29nzGibEWQFls1KqDJ12pGzzVfg7dq2LgwIHIysrCf/7zH3747Ets7969mDhxIhYuXIhvv/1Wbl1ubi4cHR0B1NxFquzMK2OMvWqUxUat9rId051Tp07ht99+Q2xsLAdOLzk3NzcYGRlh5cqVyM/Px8CBA9GmTRukpqZi48aNyMvLw9q1azlwYoyxenDwpIb6xki9Cnr27ImEhAS4uro2d1VYI3Xr1g1nzpzBokWLsH37dmGQtEQiwYABA7Bs2TKMHTu2mWvJGGMtG1+2U9OzZ89gaGj4SgZPrHWSSqXIzc2FVCpF+/bteRZrxhhTgsc8McYYY4xpQFlsxJNkMsYYY4xpgIMnxhhjjDENcPDEGGOMMaYBDp4YY4wxxjTAwRNjjDHGmAY4eGKMMcYY0wAHTwwJCQmYOnUqhg4diqlTp+LZs2fNXaUm11z7/Cq2tSrcFoyxlxUHT6+4a9euYdCgQfj++++Rl5eHI0eOIDExEUeOHIGFhQXmzp3b3FXUOVX73Fzltua2VqW5+kBXXsU+Y4z9Hw6eXnFbtmxBRUUFvvvuOyQkJCAzMxPu7u5ITk5GTk4Obt26JZd+//79iIqKeqknU1W1z81Vrqq2BlpHeyvTXH2gifravr4+Y4y1fjzD+CvOw8MD58+fR0pKCuzs7ITlZWVluHz5Mnr37g1LS0theZ8+fXDz5k2UlpbCyMioGWrceKr2ubnKVdXWQOtob2Waqw80UV/b19dnjLHWRVlsxA8GfsWVlJQAgMIz+4yMjODp6dkMNWp6qva5ucptzW2tSnP1ga68in3GGPs/fNnuFbVr1y74+Pjg7t27AAB/f3/4+PggMjISAHDjxg14enpiy5YtAIDNmzfDx8cHDx8+BACMHj0aPj4+8Pf3V8j74MGD8Pb2ho2NDbp37w5fX19cunRJId2ZM2cwYsQI2NrawsHBAUFBQbh//77GaXS1z4mJifD09ERsbCxSU1MRGBiIbt26wdHREaGhoSgoKGiScuu2NdBwe2tbV3X7Bmia/mmoLa5evQoPDw9ER0crbHv06FF4eHjg1KlTwjJt24GIsGPHDnh6eqJr165wdnbGnDlzkJ6ertaxrqzPZE6dOgVfX1/Y2dnBysoKAwcOxLJly4SAsbamOuYYY02Lg6dXVFFRER4/foyKigoAwJMnT/D48WPk5eUBANLT03Hu3Dlcv34dAFBYWIjHjx+jsrJSWP/48WNkZGTI5fvFF19gzJgxSE5Oxrhx4+Dh4YEzZ87A3d0dhw8fFtL9/PPPGDZsGO7evYuPPvoIXl5eiI2NxT//+U+N0uhyn588eYJz585h7969cHV1xcmTJ9GjRw/k5uYiKioKEyZMaJJy67Y10HB7a1NXdfsGaLr+aagt0tLScP78eaWDx+/cuYPz588LgZe27QAAU6ZMwdSpU5GUlIS33noL7du3x4YNG+Du7q7Wsa6szwBg0aJFeO+99/DLL7+gb9++cHd3R1paGhYuXAgPDw8UFxfLpW+qY44x1sSoljpv2Sugf//+BICys7Pllh8/fpwA0OzZs+WWu7i4EAAqLS1VyOvcuXMEgAYPHkyFhYXC8qSkJDIyMqIuXbpQRUUFERENHz6cxGIxZWZmCunKysro4cOHwnt10jTFPgOg8ePHU3FxMRERpaenk6WlJQGg69evN1m5dduaSHV7a1pXTfqGqOn7R1VbxMTEEACaP3++wjaRkZEEgNatW6d1OxARHT58mACQq6srFRQUCMuvX79O/v7+wvv6jnVlfXb27FkCQHZ2dvTo0SNheXFxMXl7exMAWrhwodJ8muqYY4w1nrLYiM88MZ3ZtGkTAODbb7+VG8vSq1cvfPzxx3j69CmuXr0KACgtLQURyV3KMDQ0RPfu3YX36qRpCkOHDsWePXtgYmICALC2tsbkyZMBAL/++muTlq0pdeuqSd8ALbt/lNGkz7Zv3w4A+Oqrr2Bqaios79u3L/bv3691HTZs2AAA+Pvf/46uXbsKy01MTLBs2TIAUHo5UtP6M8aaHwdPTGeuXLkCoOY27v3798u9ZJcrHjx4AADw8/MDEcHNzQ3btm1TOh5EnTRNwdnZGWKx/EfD3t4eAJCfn/9C6qAudeuqSd8ALbt/lNGkz37//XcANXf86dLly5cBACNGjFBY169fP1hYWCA9PR05OTkK61+mY44xxnfbMR2SzRAdHBysdL1EIoGNjQ0AYM6cOSgtLcXSpUsRHByM+fPnIywsDOHh4dDX11c7zYuip6cHAJBKpS+0XG0oq6smfQO8fP2jjKo+e/bsGfT19dGhQwedlpeVlQWxWAwrKyul6y0tLZGdnY38/Hx06tSpwfxepmOOsVcNn3liOmNsbAwAyM7ORmVlpcKrvLwcXl5eAGrmzViwYAHS0tKwbt06mJmZISIiAtOnTxfyUycNU48mfQM0X/+IRCIAaNL55gwMDFBZWakweLuxDA0NIZVKVZ6BkwWwZmZmOi2XMfbicfDENCL7cVP237CTkxMAIDU1FRKJROFV97IEALRr1w4hISFISEhAp06dsHfvXuFOLE3StFb1tbcmtOkb4MX3jyzIk919V1tRUZFWedbl4OAAALh582a96TRte1kbX7t2TWFdeno6MjMzYW1tDQsLC02qyxhrgTh4YhqRXepIS0tTWDdq1CgAwIoVK5SeOaiurhb+fvTokdy6jh07wtLSEtXV1UI6ddI0t+3bt2P58uXCbe26Vl97a0KTvgGar3969uwJADh+/DjKysqE5bGxsVi+fLlWedb13nvvAQCWL18u1xalpaWIiIgQ3mva9qNHjwYALF26VO54ICIsWrQIUqkUAQEBja0+Y6wF4DFPTCMDBgzA+fPnMWPGDPj5+SEpKUm4y2jWrFnYvn07YmJikJOTg6CgIJibmyMjIwNxcXG4ePEi0tPTkZubCwcHBwQEBMDb2xumpqY4cOAAbt68iYCAABgbG6uVpiWYOXMmKioqMHr0aPTu3Vvn+dfX3ppQt28ANGv/ODo6YtiwYTh9+jQ8PDzg7++P27dvY8eOHXB1dRUGezfGvHnzsGXLFhw4cADDhw/HiBEjkJubi927dyMjIwOLFi2CSCTSuO1DQ0OxY8cOnDx5Ep6enggICIBEIsGhQ4dw4sQJODk54csvv2x0/RljLUBDcxmw1m3w4MEkFovp+fPncst/+eUXAkBhYWFyy58+fUpvvfWWMDeNvb293PrMzEzy9/cnfX19IQ0A6tq1Ky1evFhIFxISQsbGxsJ6iURCU6ZMkZuDSJ00L2KfiYh27txJAGjVqlXCMqlUSnp6eqSvry83X5Auy1XV3prWlUj9viFq+v5R1RZERCkpKcI8UADIzMyMVq5cSXFxcQSANm3apFbbqWoHIqLExES5dgVAffr0oePHjwtp6jvWVZX76NEj8vX1JYlEImxnaGhIEydOpIyMDIV6aFt/xtiLoyw24gcDv+IqKytRVVWl9ExBUVERTExMlI6HycjIQF5eHhwdHZXeWVVSUoIHDx6gqqoKXbp0Ufrw1PLycty7dw9isRj29vZK66BOGk1pu8+FhYVo27atMBbm8OHD8PX1xZw5cxAVFdVk5QLK21uTutamTt8ATds/9bWFTEpKCgoKCtCjRw8hXWFhodzcTID27QDUzPCdkZGBzp07y83NVJuqY72+cgsKCpCamgqRSAQHBwe0adNG5X42pv6MsaanLDbi4IkxLQ0cOBBZWVn4z3/+89I+4JYxxlj9lMVGPOaJvbT27NmD0tJStdK6ubkJg5F14dSpU/jtt98QGxvLgRNjjL1i+MwTeymVlpYKj7JQR0REBBYtWqSz8h8+fIjnz5/D1dVVZ3kyxhhrefiyHWtVsrKy1J5PyMLCAoaGhk1cI8YYY60NB0+MMcYYYxpQFhvxJJmMMcYYYxrg4IkxxhhjTAMcPDHGGGOMaYCDJ8YYY4wxDXDwxBhjjDGmAQ6eGGOMMcY0wMHTK+z27dsYM2YM9u3b19xVaVG4XRhjjNWHg6dXWGpqKg4ePIiLFy82d1ValKZulyNHjsDCwgJz585tkvx17WWrL2OMNTUOnhhrAvv370dUVJTSSWeTk5ORk5ODW7duNUPNNPey1ZcxxpoaPxiYsSawZMkS3Lx5EzNmzICRkZHcupkzZ6Jfv37o3bt3M9VOMy9bfRljrKlx8MTYC2ZkZARPT8/mrobaXrb6MsZYU+PLdkzBxo0b4enpiQ0bNmi8bWJiIjw9PREfH4/09HRMnz4ddnZ2sLW1xeTJk/HkyROV2546dQq+vr6ws7ODlZUVBg4ciGXLlqGkpKRRZVy9ehUeHh6Ijo5WKPPo0aPw8PDAqVOnGty3X375BYGBgejRowcsLCzg7OyMsLAw5OXlCWk2b94MHx8fPHz4EAAwevRo+Pj4wN/fX0hz48YNeHp6YsuWLY1ug9jYWKSmpiIwMBDdunWDo6MjQkNDUVBQ0OD+yJw5cwYjRoyAra0tHBwcEBQUhPv379db37CwMPj4+Ci8QkND5fI+ePAgvL29YWNjg+7du8PX1xeXLl1Su26MMdYScfDE5OzcuRMzZ87Ew4cP8f7772u8/ZMnT3Du3Dns27cPffv2xcGDB+Hi4gKxWIxdu3ZhyJAhyM3NVdhu0aJFeO+99/DLL7+gb9++cHd3R1paGhYuXAgPDw8UFxdrXUZaWhrOnz+PxMREhXLv3LmD8+fP4+7du/Xu1/fff4/hw4cjNjYWr732Gt5//32Ul5dj7dq1GDdunJCusLAQjx8/RmVlJQAgPT0djx8/RkZGhpAmPT0d586dw/Xr1xvdBnv37oWrqytOnjyJHj16IDc3F1FRUZgwYUK9+yPz888/Y9iwYbh79y4++ugjeHl5ITY2Fv/85z/rrW92djZSU1OF1927d3Hy5EkcP35cSPPFF19gzJgxSE5Oxrhx4+Dh4YEzZ87A3d0dhw8fVqt+jDHWIlEtdd6yVu748eMEgGbPnk1EREeOHCGJREL29vaUmpraqDwB0NixY6mwsJCIiMrKyuidd94hABQeHi63zdmzZwkA2dnZ0aNHj4TlxcXF5O3tTQBo4cKFWpcRExNDAGj+/PkK9Y2MjCQAtG7dOpXtQkR07tw5io6OpsrKSmFZWVkZOTs7EwBKTEyUy9fFxYUAUGlpqco2qp1/Y9pg/PjxVFxcTERE6enpZGlpSQDo+vXrCmXXNXz4cBKLxZSZmSm3Xw8fPqy3vnUtWLCAANCKFSuE9gJAgwcPFvqHiCgpKYmMjIyoS5cuVFFR0WD9GGOsuSmLjfjMEwMAxMfHw9/fH926dcPZs2dha2vbqPzc3d2xb98+tG3bFgBgaGiIb775BkDNpbLaZJcH//73v6Nr167CchMTEyxbtgwAlF5y06SMxnJ3d0dgYCAkkv8bJmhoaIiRI0cCAO7du9eo/LVtg6FDh2LPnj0wMTEBAFhbW2Py5MkAgF9//bXBcktLS0FEcpcFDQ0N0b17d7XrnpCQgFWrVsHV1RVhYWEAgE2bNgEAvv32W6F/AKBXr174+OOP8fTpU1y9elXtMhhjrCXhAeMMSUlJGDVqFDp06ICzZ89q9MOpymuvvSYXaACAm5sbRCIRUlJS5JZfvnwZADBixAiFfPr16wcLCwukp6cjJycHnTp10qoMXcrOzsaTJ0+Ql5cnXB7UZIyRMtq2gbOzM8Ri+f+B7O3tAQD5+fkNluvn54f4+Hi4ubkhIiICEyZMEAIxdVRXVyM4OBhEhK1btwr9ceXKFQA10xzUvmQJQLj8+ODBA7z99ttql8UYYy0FB08MYrEYVVVVyMnJQXZ2tk6CJ2UkEgnatWuH58+fo6SkRPiRzsrKglgshpWVldLtLC0tkZ2djfz8fLnAQZMyGouIEBUVhVWrVuHRo0c6ybM2XbaBnp4eAEAqlTZY7pw5c1BaWoqlS5ciODgY8+fPR1hYGMLDw6Gvr9/g9qtWrcK1a9fw2WefoX///sLyZ8+eAQCCg4OVbieRSGBjY9Ng/owx1hLxZTuGnj17YvPmzSgvL8fYsWOVDujWBSJCUVERxGKx3NxHhoaGkEqlCneUych+iM3MzLQqQyQSCeu0tXjxYsybNw9du3bF0aNHce/ePTx9+hQLFizQOs/adNkGmhCJRFiwYAHS0tKwbt06mJmZISIiAtOnT29w2/v37yMiIgL29vb4+uuv5dYZGxsDqDlLV1lZqfAqLy+Hl5eXTveFMcZeFA6eGABgwoQJmDVrlnDbe2MCDQByd4bJXL9+HZWVlejZs6fcpSYnJycAwLVr1xS2SU9PR2ZmJqytrWFhYaFVGbIf8tpTCsgUFRWptT9btmyBSCTCTz/9hA8++ABOTk6wsrKSG89TmyxgU+fsD6B9G+hKu3btEBISgoSEBHTq1Al79+5FRUWFyvREhBkzZqC0tBSbNm1SOMMn25/U1FRIJBKFV91LjYwx9jLhbzAmWLNmDQYOHIhjx45hyZIlCuu3b9+O5cuXC7fh1yc6Ohq7d++WWxYZGQkAGDVqlNzy0aNHAwCWLl0qlzcRYdGiRZBKpQgICNC6jJ49ewIAjh8/jrKyMmF5bGwsli9f3uC+ADVBkFgshoGBgbCsvLwcZ8+eVZq+Q4cOAGqmSVCHtm3QWHUvQXbs2BGWlpaorq5GdXW1yu22bduGuLg4BAUFYfjw4QrrZe2/YsUKpYF4fXkzxlhLx2OemMDAwAAxMTHo168fIiIiMGjQILkfxpkzZ6KiogKjR49u8FEdpqamCAoKwrFjxzBkyBCcO3cOP/zwAzp16oT58+fLpQ0NDcWOHTtw8uRJeHp6IiAgABKJBIcOHcKJEyfg5OSEL7/8UusyHB0dMWzYMJw+fRoeHh7w9/fH7du3sWPHDri6uuL3339vsG28vb2xc+dO+Pv7IyQkBHl5eYiMjFQ5P9SAAQNw/vx5zJgxA35+fkhKSqp30lFt26AxcnNz4eDggICAAHh7e8PU1BQHDhzAzZs3ERAQIJyxU0ZWF6lUinnz5gnLxWIxIiIiMGvWLGzfvh0xMTHIyclBUFAQzM3NkZGRgbi4OFy8eBHp6ek63R/GGHthGprLgLVev/zyCwGgsLAwueXHjh0jPT09srKyoqqqKiIikkqlpKenR/r6+lRQUKAyz9pzAq1atYratGkjzEfUv39/hfmQZB49ekS+vr4kkUiE9IaGhjRx4kTKyMhodBkpKSnUv39/IZ2ZmRmtXLmS4uLiCABt2rSp3nbJy8sjX19fYXuRSES+vr50+PBhAkB79uyRK+/p06f01ltvCent7e0bbHdN2kBVHkREO3fuJAC0atUqpW1dW0hICBkbGwvlSSQSmjJlitzcTMrKsrKyErap/RKJRHT//n0iIsrMzCR/f3/S19eXS9O1a1davHhxg3VjjLGWQFlsJPrvCgA14zSokWNd2MulqKgIJiYmCmNQysrKQETC2YfDhw/D19cXc+bMQVRUlMr8Tpw4gREjRmD27NlYv349iouLce/ePbRv316tuaMKCgqQmpoKkUgEBwcHtGnTRqdlpKSkoKCgAD169BD2rbCwEKampmq1S25uLtLS0mBtbY3OnTsDqBl7payeAJCRkYG8vDw4OjrK3b2mKn9126ChPAoLC9G2bVth7FV9ysvLce/ePYjFYtjb2ys941RfWQ0pKSnBgwcPUFVVhS5dusDS0lLjPBhjrLkoi434st0rTtWA59p3wwE1Y3FsbW3x7bffapR/mzZt4OrqqnZ6MzMz9O3bt8nKkM2BVFvdwAlQ3S4dOnQQxjPVLl8VKysrpdMPqMofUL8N6stD2T6pYmhoiD59+mhdVkNMTEwazJ8xxl4mHDyxBp06dQq//fYbYmNjG/UjyhhjjLUGHDyxBvXs2RMJCQlqnd2RzTBdd+ZvXXoRZTDGGGOq8JgnpnMZGRno0KGD3G39L2MZjDHGmLLYiIMnxhhjjDEVlMVGPEkmY4wxxpgGOHhijDHGGNMAB0+MMcYYYxrg4IkxxhhjTAMcPDHGGGOMaYCDJ8YYY4wxDXDwxBhjjDGmAQ6eGGOMMcY0wMETY4wxxpgGOHhijDHGGNMAB0+MMcYYYxrg4IkxxhhjTAMcPDHGGGOMaYCDJ8YYY4wxDXDwxBhjjDGmAQ6eGGOMMcY0wMETY4wxxpgGOHhijDHGGNMAB0+MMcYYYxrg4IkxxhhjTAMcPDHGGGOMaYCDJ8YYY4wxDXDwxBhjjDGmAQ6eGGOMMcY0wMETY4wxxpgGOHhijDHGGNMAB0+MMcYYYxrg4IkxxhhjTAMcPDHGGGOMaYCDJ8YYY4wxDXDwxBhjjDGmAQ6eGGOMMcY0wMETY4wxxpgGOHhqwW7fvo0xY8Zg3759zV0V1kI09TFx9+5dfPzxx9i9e3eT5P8inT9/HoGBgbhy5UpzV4Ux1spw8NSCpaam4uDBg7h48WKT5H/kyBFYWFhg7ty5TZI/072mPiaOHz+OAwcOIC8vr0nyf5GuXr2K3bt347fffmvuqjDGWhkOnlq5/fv3IyoqCkSksC45ORk5OTm4detWM9SMtUS///47AGDAgAHNXBNWW32f4+bIh7FXHQdPrdySJUsQGhqK8vJyhXUzZ85EXFwc9uzZ0ww1Yy3RH3/8AT09Pbz++uvNXRVWS32f4+bIh7FXHQdPrzAjIyN4enrC0tKyuaui0r179xAUFIRjx441d1VaveLiYty5cwfOzs4wNjZu7uowxliL1WqDp8TERHh6eiI+Ph7p6emYPn067OzsYGtri8mTJ+PJkycqtz116hR8fX1hZ2cHKysrDBw4EMuWLUNJSUmjyrh69So8PDwQHR2tUObRo0fh4eGBU6dONbhvv/zyCwIDA9GjRw9YWFjA2dkZYWFhcuNUNm/eDB8fHzx8+BAAMHr0aPj4+MDf319Ic+PGDXh6emLLli2NboPY2FikpqYiMDAQ3bp1g6OjI0JDQ1FQUNDg/iiTnJyMyZMno3fv3vj++++hr6+vVT4yZ86cwYgRI2BrawsHBwcEBQXh/v37cmnUaVdAfp+Tk5Ph7+8PGxsb9O3bF6tXrxbS7du3D2+++SasrKwwbNgwpQOXG3Oc1nXw4EF4e3vDxsYG3bt3h6+vLy5duqT29gkJCZBKpQqX7DZs2ABPT0+sW7dO5ba12+TChQt48803YWNjg7Vr1wLQrm3VPZ6qqqoQGRkJV1dXWFlZCds3RJtjvLH9rUx9x6Y6n2NdfR/IqHscqfOZYqzVolrqvH2pHT9+nADQrFmzqEOHDtSxY0caOXIk2dnZEQCytbWlZ8+eKWz31VdfEQBq06YNjRo1ivz8/MjS0pIA0IABA6ioqEjrMmJiYggAzZ8/X6HcyMhIAkDr1q1TyH/27NnCsujoaAJAlpaWNGbMGPrkk0/IwcGBANDw4cOFdCtXriQXFxcyNDQkAOTs7EwuLi7k7u5eb/7atsHkyZPJ3NycLCwsyMvLi9q1a0cAaOTIkep2GRERPXjwgKZOnUoSiYREIhF9+OGH9Pvvv2uUR10//fQTASAHBwcKDQ2ladOmkZWVFc2bN09Io2671t7nTz75hMzMzMjGxoY8PDzIyMiIANCSJUsoJCSEANCgQYPI2dlZaM/Hjx8rzUvdY0hVn4WHhwv7OG/ePJo0aRKZmpqSnp4eHTp0SK12WrNmDQGg9evXExGRVCqlzz77TOj3jIwMldvK6jVjxgwyNjYmMzMzsra2psDAQK3aVpPjaezYsQSAOnToQCNHjiRbW1sSiUT0xhtvKHymZLQ5xnXR33U1dGw29DnW5fcBkfrHkTqfKcZaC2WxUasPngDQ2LFjqbCwkIiIysrK6J133iEAFB4eLrfN2bNnCQDZ2dnRo0ePhOXFxcXk7e1NAGjhwoVal6GL4OncuXMUHR1NlZWVwrKysjLhC/iR5OwAACAASURBVDsxMVEuXxcXFwJApaWlKtuodv6NaYPx48dTcXExERGlp6cLP0bXr19XKLuu1NRUmj59Ounr65NYLCY/Pz+1tlPH8OHDSSwWU2ZmprCsrKyMHj58KLzXpF1r73NgYCCVlZUJeQAgkUhExsbGdPToUWGbwMBAAkARERFyddP0GFJ1TACgwYMHC9sTESUlJZGRkRF16dKFKioqGmynSZMmEQD69ddfqaKiQqjzRx99JPSrKrX3w8vLi/Lz84mIqKioSOu2Ved4+vnnnwkA2dvb05MnT4iIqLKyUggClAVPjTnGG9vfdalzbBKp/hzr8vtAk+NI3Xoz1hq8ksGTu7u73BcLEdGZM2cIAL322mtyy8eNG0cAaNu2bQr5Xbt2jQCQjY2N1mXoInhSRXaG4Mcff5RbrmnwpG0bDB06lKqrq+XSL1iwgADQxo0bVda7pKSE/vrXv5K+vj7p6enRpEmTKCkpqcH91cQ777xDIpGIUlJSNN5WWbvK9tnLy0thn11dXQkA7d69W2755cuXCQD5+vrKLdf0GFLWZwEBAQSA4uLiFOo/ceJEAkDx8fEN7mvv3r1JIpFQdnY2+fj4CMdq3X1URlYvGxsbys3NbTA9Uf1tq+7xJNs/ZcdrcHCw0uBJ22NcF/1dl7rHZn2fY2W0+T7Q5DhqzGeKsZeNsthIglbutddeg0Qiv5tubm4QiURISUmRW3758mUAwIgRIxTy6devHywsLJCeno6cnBx06tRJqzJ0KTs7G0+ePEFeXh5yc3MBQOsxRjLatoGzszPEYvkhdPb29gCA/Px8leUlJSVh06ZNMDExwdGjR+Hl5VVv/QoLC7F161ZUV1cLy0QiEYKCgmBhYaF0Gz8/P8THx8PNzQ0RERGYMGECTExMVJahbrv27t1bYZ9tbW3x559/wsXFRW55165dAQCZmZlKy2zMMSQbW5OcnIyMjAy5dcXFxQCABw8e4O2331aZh2ywuLW1Nd5//31cu3YNmzZtwowZM+otuy5fX1+0b99e5Xp121bd4ykhIQEAMGzYMIU8evbsqbQO2h7juuxvGU2Pzfo09vtAk+NIl/Vm7GXU6oMnZSQSCdq1a4fnz5+jpKRE+NBnZWVBLBbDyspK6XaWlpbIzs5Gfn6+3JeqJmU0FhEhKioKq1atwqNHj3SSZ226bAM9PT0AgFQqVZnG2dkZ06ZNw65du+Dj44OgoCAsXLgQjo6OStM/fPgQ/+///T+F5W+88QaGDh2qdJs5c+agtLQUS5cuRXBwMObPn4+wsDCEh4cLA9F11a51AyAZddpCWV7qHEPPnj0DAAQHB6vMx8bGpt6yrl27BqlUCmdnZ1y8eBH6+vrw9vZWu6710VXbKmtDWZDQuXNntfPR9edc3boqo86xWR9dfh9ochw1tt6Mvexa7d129SEiFBUVQSwWw8jISFhuaGgIqVSqcLeNjOzLxczMTKsyRCKRsE5bixcvxrx589C1a1ccPXoU9+7dw9OnT7FgwQKt86xNl22gDiMjI2zduhV37txBQEAAdu7ciZ49e2LSpElKJ+/s06cPsrKy8PTpU+GVkZGhMnACatp9wYIFSEtLw7p162BmZoaIiAhMnz5dSNPU7aoNVcdpXbJpBbKzs1FZWanwKi8vb/CM3h9//AEAGDVqFP7nf/4HpaWlCAsL08l+NGXbyo7DoqIitbd50cd4fdQ5Nuujy7bV5DhqbL0Ze9m1+uBJdrq5tuvXr6OyshI9e/aUOw3v5OQEoOa/8LrS09ORmZkJa2trhctD6pYh+3JS9ugLdb/8t2zZApFIhJ9++gkffPABnJycYGVlhbZt2ypNLwvY1D3joW0bNJaDgwN27tyJ27dvIyAg4P+zd+9xUVX7//hfM9wGECSQQDG5eoPqgWl5C0FRQkvPVBqKgpTm+RzFlI+ZP82T5O1nKtlHy2Pa8ZaXTp7S1LyEhZpmdkwUQ7wCgtwvcp/hNu/vH5zZMcwMzB4GQXw/Hw8eD2bvtdZee+2197xn7zVr8NVXX+Hpp5/GxIkTceXKFY20zs7OcHV1Ff4MnafKwcEB0dHRSExMRLdu3bBv3z7U1NQAEN+upiamnzalPmbp6ekwNzfX+msur5o6eHruuefw7rvvwsPDA4cOHcLJkyeN3KM/tWXbqh+PXbt2TWudvkdW7dXHm9Nc3wT0n8emvB4Y049aqjdjnVWnD552796t9SOn69atA9DwKbuxCRMmAABWrVqF2tpaYTkRYdmyZVCpVAgPDzd6G+oxGMePH4dSqRSWx8fH46OPPjJof1QqFaRSKSwtLYVl1dXVOH36tM70jo6OAICMjAyDyje2DUzFx8cHu3fvRnJyMqZMmYKDBw9iwIAB+PHHH40us+njDCcnJ7i4uKC+vl4YOyW2XU1NTD9tSr1+7dq1Ou9qNh4fpo96ZnF/f3/IZDKsX78eAPDOO++0+s2wLds2ICAAQMNcVI2dOHECa9eu1Zmnvft4Y4b0TUD/eWzK64GYfmRovRnrrDr9mCc7Ozthhuphw4bhzJkz+Pe//41u3bphwYIFGmnnzZuHHTt24OTJkwgKCkJ4eDjMzc1x6NAhnDhxAj4+Pli6dKnR2/D29kZwcDB+/PFHBAYGIiwsDDdu3MCOHTvg7+8v/K5Yc0JCQrBz506EhYUhOjoaJSUlWLduHW7duqUz/aBBg3D27FnMmjULkyZNQkpKitYbjSnawNT69u2LvXv3YunSpVi+fLneRywtKS4uhpeXF8LDwxESEgI7Ozt8++23SE5ORnh4uHA3UGy7mpqYftrU7NmzsX37dhw4cACFhYWIjIxE165dkZubi4SEBJw/fx5ZWVl681dUVODmzZvo16+fMK7q9ddfx8iRI5GQkIANGza06hFbW7bt7NmzsWnTJnzzzTcICwvDyJEjcfnyZWzfvh0DBgzQeU51lD5uaN8E9J/HprweGNqPxNSbsU6rpa/jPaoaf6U7Li6ObG1thblaBg4cqDX/iVpmZibJ5XIyNzcX0ltZWdHUqVO1Jgk0ZhtpaWk0cOBAIZ29vT2tX7+eEhISCAB9/vnnQtpTp04RAIqJiRGWlZSUkFwuF/JLJBKSy+X03XffEQDau3evxvZycnJo8ODBQnpPT89myxfbBvrKICLauXMnAaC4uDidbf2wREdHk7W1tbAv5ubm9Oabb2rMZSOmXZvb58mTJxMASk5O1lheUFBAEomEAgICNJaL7UP6tp2Xl0dhYWFkYWEh5AdAPXv2pBUrVjTbPuqv1b/11lsay5OSksjCwoKcnJxIpVI1W0ZzbWKqttXXn/7zn/9Qv379hPIdHBxo3bp1dOHCBb1TZZiqj4s93k0Z0jeJ9J/HprweEBnejwytN2Odga7YSPLfFQAanodTJ/m17RMnTmDs2LGYM2cOPv30U1RWVuL27dt44okn4O7u3mL+srIypKenQyKRwMvLC7a2tibdRlpaGsrKytCnTx/hk1p5eTns7Ow00lVUVMDGxkZrvEFxcTEyMjLQo0cP4ZtGlZWVOusJALm5uSgpKYG3t7fGt2H0lW9oG7RURnl5Obp06SKMtWgv1dXVuH37NqRSKTw9PfV+Oja0XfXtc11dHaqrq3W2VVVVFSwsLDTa35g+1Fx7V1VVITU1FXV1dejevbvB48H0HSf14+XmBqwbUi+g9W3bXD0B4M6dO1AoFOjdu7dQ34qKCtja2urtf63t42KPty6G9k1A/3lsqutB47q31I/E1JuxR5mu2OixCZ4e1W2wzo37EGOMdWy6YqNOP2CcMcYYY8yUOm3wpJ68Tt8kdo/KNljnxn2IMcYePZ32sR3Q8Fzf0dFR42u8j+I2WOfGfYgxxjqux2rME2OMMcZYa/GYJ8YYY4yxVuLgiTHGGGNMBA6eGGOMMcZE4OCJMcYYY0wEDp4YY4wxxkTg4IkxxhhjTAQOnjq4xMREvPXWWxg5ciTeeustFBUVtXeVOq2KXyqQGpaKmyNuIm1qGpQ3lVApVCj/qRxVl6rau3odiq62ao3bt2/Dzs4Oq1evNlENO4YbN27gtddew/79+9u7KiazatUq2Nvb4/bt2+1dFcbaDQdPHdjly5cxZMgQfPnllygpKcHhw4eRlJSEw4cPw9nZGe+88057V7HTePDNA9wacQsPvn6Aip8rULyvGCXflSD9zXTcCr6FlOdTULy/uL2r2SHoa6vW+L//+z9UVFTg1VdfNVEtO4b09HQcPHgQ58+fN3nZ7XUdeO2111BeXo6NGzc+1O0y1pFw8NSBbdu2DTU1NfjHP/6BxMRE5OXlYcSIEbh79y4KCwtx/fp1rTxfffUVNm7cyJOdipS7JhdU39BmjpMd4TzHGbJ+MtTm1App6vLrhP+pjpC3Lg/ZS7NReqz0ode3PelrK2OVl5dj165dCAgIQP/+/U1VzU5D3znd3HWgLfXv3x8BAQHYsWMHysvLH+q2Geso+Ae1OjD1RXH06NEAADMzMwDA3/72NwwYMEDnG83KlSuRnJyMWbNmQSYz/g3tcaNIUgAALHtawnO/p7DczM4MhdsLYe5gDsepjsLyusI63H/vPgDALtgOXcd1fbgVbkf62spYR44c6ZR3nUxF3znd3HWgrcnlcvz88884evQopkyZ8tC3z1h74ztPHVhVVcM4my5dumgsl8lkCAoKgouLS3tUq0O5ffs2IiMjcezYMaPLoGoC1TR8qjd30fw8YTfSDp5feuKpTU/BvFsrP2sQoKpQGZxcpVBBpWw5PdVQi+kMSWOI5tpKd4aW9/nAgQMAgNDQ0FbX73HSntcB9bH65ptvHvq2GesIOm3wlJSUhKCgIJw7dw5ZWVl4++234eHhAXd3d0RFRSE7O1tv3h9++AFyuRweHh5wdXXFCy+8gDVr1gjBjCm20Zxdu3YhNDQUt27dAgCEhYUhNDQU69atAwBcu3YNQUFB2LZtm5Bn69atCA0Nxb179wAAEyZMQGhoKMLCwjTqGh8fj/T0dEREROCpp56Ct7c35s2bh7KyMr31OXjwIEJCQuDm5oZevXpBLpfjl19+0Ur3008/YezYsXB3d4eXlxciIyNx584d0WkMcffuXURFRaF///748ssvYWFhIboMAMiOzUbKCynCa+V1Ja77X8eNYTdAdYSCfxTgD+8/cP3p61BebxgUnbUkC7dH/zlYtvJiJa77X0fKgBRUXqwEAORvzMc1j2tInZyK+rJ6ZL6TiStdryDRLhFJrknI+zhPZ31UChVyPszBNc9rSLRJRKJ1Iq65X0PO8hxQ7Z+PbaiOkPdxHv7w+QOXrS8j0ToRf3j/gbwNeaLSmLKtjNlnIkJCQgKcnJy07qAYe3611fn722+/ITAwELt379ba5pEjRxAYGIgffvjBoLY8deoUIiIi0KdPHzg7O8PX1xcxMTEoKflz7FhL57Su60Br2kHMtcHX1xdOTk746aefDNpfxjqbThs8ZWdn48yZM9i/fz+effZZHDx4EH5+fpBKpdi1axeGDRuG4mLtAcDLli3DSy+9hFOnTuHZZ5/FiBEjkJGRgcWLFyMwMBCVlZWt3kZLKioqcP/+fdTU1AjbuX//vnBhzcrKwpkzZ3D16lUhT3l5Oe7fv4/a2lohzf3795Gbm6tR13379sHf3x8nT55Enz59UFxcjI0bN+q99f7+++/jtddew927d/HGG28gMDAQP/30E0aMGIHvvvtOSPf9998jODgYt27dwquvvopRo0YhPj4en332mag0LUlLS8OMGTPQr18/7N69G6+88gouXbqEMWPGGFxGY1W/VwmPoYCG4EVxVYHKC5VQVaqgSFagOrUaimQFarIbjkfV5SookhvlqWjIU3WlCtV3qgEAyltK1NyrQcXZCtwcfhP5m/JRX14PAKjNq8X9Bffx4OsHGnWhGsLtkNvIjs1GTXoNJBYSQArUZNQge1k2Ut9IFdJmvZeF+wvuo/puNSRSCSSWElSnViN3Va6oNKZsK2P2+c6dOygtLYWvr6/W9ow5v9ry/M3IyMDZs2eRlJSkVdebN2/i7Nmzwgee5nz55ZcYM2YM4uPj8cwzz+Dll19GdXU1PvnkE7zxxhtCupbOaV3Xgda0g9hrg5+fHx48eIC0tLQW95mxTocaafLykXb8+HECQABo4sSJVF5eTkRESqWSXnzxRQJAS5Ys0chz+vRpAkAeHh6UmZkpLK+srKSQkBACQIsXL27VNsQYOHAgAaCCggKd+zZnzhytPH5+fgSAFAqF3vaYPHkyVVZWEhFRVlYWubi4EAC6evWqRp4zZ84QABo6dKiwb0REKSkpJJPJqHv37lRTU0NERGPGjCGpVEp5eXlCOqVSSffu3RNeG5JGn/T0dHr77bfJwsKCpFIpTZo0Sau+xij9oZSylmXRJVyiS7hEV3tcpewV2ZT7cS4REd2bc09YVxpf2pDnRCndX3RfWH7N+xplr8im7JXZVHO/RivfJVyim0E3KffjXLox7IawLGVoikZdclbnCOvuv3efVEoV1ZXV0R35nT/rcLKU6ivq6Xfz34Vy6yvrieqJys+VU9b7WUREBqVpy7YydJ+/+eYbAkAzZszQ2p7Y86utz98DBw4QAFqwYIFWXdetW0cAaNOmTTr3ofG5eubMGdq9ezfV1tYKy5RKJfn6+hIASkpK0iijpXO66XWgNe1g6LWBiOjtt98mAHTo0CGtdYx1Jrpio05750ltxIgR2L9/vzBuyMrKCsuXLwfQcKu9sc2bNwMA/v73v6Nnz57CchsbG6xZswYAdN6yF7ON9jZy5Ejs3bsXNjY2AIAePXogKioKAHDhwgWNtJ9//jkAYPXq1Rrjrvr164fXX38dOTk5+O233wAACoUCRKTxSMDKygq9evUSXhuSpimFQoH/+Z//Qe/evbF9+3aEhYUhOTkZX3/9NZ599lkjW+FP9mPs4fr/uQqvLbpboPvS7nCJ0T+OxP4lezw5/0nhtaWHJbov7Y7u73eHhZv240PHcEf0+bEPXGJc4HPMB1KbhtOu6nfNxyeF2wob6uBigR6rekBiJYGZnRncVrsJaUqPloJqCFTX8AhPVa1quH8sBboM74IeK3sAgEFpxBLTVobuc0FBAQDgiSee0LtdQ8+vR+X8HTFiBCIiImBu/ueYMSsrK4wbNw4AWj1/krHtIObaAPx5zAoLC1tVX8YeRZ3+23bPPPOMxkUKAAICAiCRSLRuN//6668AgLFjx2qVM2DAADg7OyMrKwuFhYXo1q2bUdtob76+vpBKNWNmT8+Gb0yVlmp+5f7ixYsAGsYXqR8VqKlv+6empmL48OGYNGkSzp07h4CAAMTGxmLKlCnCRVjNkDRNpaSk4PPPP4eNjQ2OHDmCUaNGNZu+vLwcX3zxBerr64VlEokEkZGRcHZ2bjZvW3F600l4QG7W1QxWPlZQJCkaApwagsRSgrqiOlSnNTzyk1hKkBObI+RXVf854LrmXg3MnjCD9TPWUFxreGT2h/cf6PZWNzj/j7MQvBmSpr33GQAePGh4jGdvb6+3LEPPr0fx/C0oKEB2djZKSkqER4TNjT80hLHtIObaAABduzZ8w1R9DBl7nHT64EkXc3NzODg44MGDB6iqqhLewPPz8yGVSuHq6qozn4uLCwoKClBaWqpx0RGzjY5IPQWCSqX5rSj1bOYzZ87Umc/c3Bxubg13RebOnQuFQoFVq1Zh5syZWLBgAWJiYrBkyRJhMLchaZry9fXFjBkzhEH0kZGRWLx4Mby9vXWmv3fvHv73f/9Xa/lzzz2HkSNHGtAabU9iIRH+JxVBAgnqCv+cQ6omswY5q3J0ZRXyeu73xN2/3EX13WrUZtciZ2UOctfl4qkNT8H5b84Gp3lYdO1zY42DXUPoOr8elfOXiLBx40bExcUhMzPTZOWqmbId9F0bgD+PmUQi0VrHWGfX6R/b6UJEqKiogFQq1Zg3xcrKCiqVSuvbKGrqYKK5T8ktbeNRYm1tDaDh03Ftba3WX3V1tXAnSCKRYNGiRcjIyMCmTZtgb2+P2NhYvP3220J5hqRpSiaT4YsvvsDNmzcRHh6OnTt3om/fvpg2bZrOyQGffvpp5OfnIycnR/jLzc3tMIGTPlKrP09FWX8ZvA96a/99541enzc84rT2s4bfdT94bPeA7Qu2ABqmEciIzkDVlSqD07Q3BwcHAOLvtug6v9r6/FUHCdTKCWhXrFiB+fPno2fPnjhy5Ahu376NnJwcLFq0qFXlqpmyHZqjPmbqY8jY46TTB0+Nv1WidvXqVdTW1qJv374at6l9fHwANPwsSlNZWVnIy8tDjx49tB7/iNlGW1Nf4HV9UhRL3R7p6ekwNzfX+tO1Xw4ODoiOjkZiYiK6deuGffv2Cd8aFJOmKS8vL+zcuRM3btxAeHg4vvrqKzz99NOYOHEirly5opHW2dkZrq6uwl+bzIPT6MM2Vbd+NncLNwtIZQ3tWV9cj64vd4WD3EHzb4IDzJ3+vFkssZTA6U0n9LvYD66L/nuXQQVUnK4QlaY9qc+l5sbNGHp+tfX5q/4w0Xg6AbWKCsPbc9u2bZBIJDh69CheeeUV+Pj4wNXVVWs+NzWx57Sx7SCWOghrr8fhjLWnTh887d69G3v27NFYpp4vafz48RrLJ0yYAKDhhy/VXw8GGj5pLlu2DCqVCuHh4a3aRltzdGyYBTsjI6PVZanrvnbtWp2fths/amn6+MHJyQkuLi6or68X0hmSpiU+Pj7YvXs3kpOTMWXKFBw8eBADBgzAjz/+KGrfWsvM3kwIoKouV6Esvgzlp8tRm13bfEY9JBYS2L/UcCegNq8WmfMzoar6881SmaJE3vo81OXXoa6oDpnvZKL6brWw3ty5UVBlLTEoTUfwzDPPAGgY26aPoedXW5+/ffv2BQAcP34cSuWfP4QcHx+Pjz76qJm91KRSqSCVSmFpaSksq66uxunTp3WmF3tOG9sOYqnv/KqPIWOPk04/5snOzk6YgXrYsGE4c+YM/v3vf6Nbt25YsGCBRtp58+Zhx44dOHnyJIKCghAeHg5zc3McOnQIJ06cgI+PD5YuXdqqbbS1QYMG4ezZs5g1axYmTZqElJQU4ds3Ys2ePRvbt2/HgQMHUFhYiMjISHTt2hW5ublISEjA+fPnkZWVheLiYnh5eSE8PBwhISGws7PDt99+i+TkZISHh8Pa2tqgNGL07dsXe/fuxdKlS7F8+XK9jyjaitRaii4BXVBxtgKqKhVuhzR8Q8pzj6fGz7iI4bbaDWWnyqCqVKFgcwEKthTAwsUC9SX1UCkaAqkuL3aBmaMZ8jflI//TfFi6W0JqKYXyVsObuZmDGZ549QnUFdW1mKYj6N27N7p06YKUlBQhqGjK0POrrc9fb29vBAcH48cff0RgYCDCwsJw48YN7NixA/7+/rh06ZJB+xwSEoKdO3ciLCwM0dHRKCkpwbp16/TOESX2nDa2HcQgIqSkpKBr167CoHLGHistzWXwqGo8B0pcXBzZ2toKc5kMHDhQay4VtczMTJLL5WRubi6kt7KyoqlTp1Jubq5JtmGooUOHklQqpQcPHmgsP3XqFAGgmJgYrTw5OTk0ePBgoR6enp4t5tm5cycBoLi4OK11eXl5FBYWRhYWFkKZAKhnz560YsUKIV10dDRZW1sL683NzenNN9/UmB/KkDTtQVWjosuyy3QJl+jGiBsa64T5nCSXqOJChca6qqQq+qPvH8IcRr+b/y6kaS7fjREN8x5dtr5MqhqVZplXquhm4E26JLmkMWfSZdllujPhDtWV1JGqRtUw95P0kta8SpWXK4V9ainNw2yr5vZ5woQJBIB+/fVXjeXGnF9tff6mpaUJ868BIHt7e1q/fj0lJCQQAPr888810us670pKSkgulwtlSCQSksvl9N133xEA2rt3r0YZxpzTYtrBmGvDf/7zHwJAr7/+ulYexjobXbHRYxE8ERFVVFRQYmIipaenG5S/tLSUrl69SklJSVRRUaEzTWu30ZKamhqqqqrSua68vJzq6+v15s3JyaGUlBRhEsuW8pSVlZFKpdK5jqhhgr1r165RYmKi1sVXTalU0rVr1yg5OVlvvQ1J0x5UNSqqK60j0tE8dWV1VK/Q09b1RNVp1VT5eyXVPagzLF89UV1pnVYQ0VhtYS1VXKig8jPlVPVHlc60dQ/qqOJCBVVcqKCa3BodpRiWRiyj2qqZfd61axcBoA8//FBjeWvOr7Y+f1NTU+nKlSsafbisrExnWn3nXVFRESUmJmpMGquvrkTiz2kiw9qhpXJ0XRtWrFhBAGjfvn16y2Sss9AVG3X6x3Zqtra28Pf3Nzi9vb296EkYxW6jJRYWFnq/wq9vcKmaerC0oXns7OyaLc/GxgZPP/10s2msrKxMkqY9SCwkMLMw07nOzE73cgCAtGGSTEsPS61VevNJ/ztmqhnmTuYag8N11svBDLZDbFudRiyj2qqZfZbL5ejSpQsOHDiADz74QO92xZxfbX3+6npUpe8c0nfeOTo6CuOZGtdBH7HnNGB4O4i9NnzzzTewt7d/6GM6GesoHpvgqb3t3bsXCoWi5YRomKBPPTiVsbZC1YSkHkmoLzVssL7b/+8Gl4Wm/+aivb09Zs2ahY8//hgXL17E4MGDTb4NZjoXL17ElStXsHDhwhaDN8Y6q04bPKlnDG46c3B7bEOhUGDatGkGlxsbG4tly5a1qm6MtYTqCfVl9aB6w6ZaUP/Ib1uIiYnB999/j59//lkIntr6HH4Y14jO6OzZs+jbty/mzZvX3lVhrN1I/vs8r+GFRNLqCeA6ktzcXDg6Omp8Jbi9tpGfn9/iXEZqzs7OsLKyMkX1GGtWXVGd8E2+lli4WGjMFP4wtPU5/DCuEYyxR5uu2KhTB0+MMcYYY62hKzbq9JNkMsYYY4yZEgdPjDHGGGMicPDEGGOMMSYCB0+MMcYYYyJw8MQYY4wxJgIHY8s3ywAAIABJREFUT4wxxhhjInDwxBhjjDEmAgdPjDHGGGMicPDEGGOMMSYCB0+MMcYYYyJw8MQYY4wxJgIHT4wxxhhjInDwxBhjjDEmAgdPjDHGGGMicPDEGGOMMSYCB0+MMcYYYyJw8MQYY4wxJgIHT4wxxhhjInDwxBhjjDEmAgdPjDHGGGMicPDEGGOMMSYCB0+MMcYYYyJw8MQYY4wxJgIHT4wxxhhjInDwxBhjjDEmAgdPjDHGGGMicPDEGGOMMSYCB0+MMcYYYyJw8MQYY4wxJgIHT4wxxhhjInDwxBhjjDEmAgdPjDHGGGMicPDEGGOMMSYCB0+PmcTERLz11lsYOXIk3nrrLRQVFbV3lRhjjLFHCgdPj5HLly9jyJAh+PLLL1FSUoLDhw8jKSmpvavFTOjw4cNwdnbGO++8095VYYyxTsu8vSvAxKurq8OGDRtQWlqKYcOGYdy4cQbl27ZtG2pqarBt2zbMnDkT9fX1bVxT1ha++uor5OfnY+7cuZBIJBrr7t69i8LCQly/fr2dascYY52fhIhIeCGRoNFL1kHl5uaie/fuAIDg4GCcOnXKoHyBgYE4e/Ys0tLS4OHh0YY1ZG3p6aefRnJyMhQKBWQymcY6pVKJX3/9Ff3794eLi0s71ZAxxjoPXbHRY/XYrqKiQu86hUIBpVJp0jKNLZ+IUFpaipqaGtH1aU5VVRUAoEuXLiYtl3UcMpkMQUFBHDgxxlgb6rTB08aNG+Hh4YHJkycjPT0dgwcPhp2dHYKCgoQ0CoUCH374ITw9PWFjYwNra2u4u7tj+fLlqK2t1VnetGnTUFFRgZiYGHTt2hV2dnZwcnLC8uXLoVKpNPKIKV+pVCIuLg5DhgyBlZUVHBwcIJPJ4Ofnh82bNwvplixZgtGjRwuvL168CH9/fwwYMAAXL17U2Ra7du1CaGgobt26BQAICwtDaGgo1q1bp5Huhx9+gFwuh4eHB1xdXfHCCy9gzZo1QtCllpSUhKCgIMTHx+Pnn3/G888/Dzc3N3zyySd6j0fjPOnp6YiIiMBTTz0Fb29vzJs3D2VlZXrzNpWXl4c5c+bgueeeg7u7O4YPH47Q0FCEhobi5ZdfRkFBgZD24MGDCAkJgZubG3r16gW5XI5ffvnFZPUzpHxD2uvUqVOIiIhAnz594OzsDF9fX8TExKCkpERIs3XrVoSGhuLevXsAgAkTJiA0NBRhYWFCmmvXriEoKAjbtm3Tqqsxx9fQtvjpp58wduxYuLu7w8vLC5GRkbhz547ONmOMsUceNdLk5SNtzpw5BIB69uxJffr0IQAEgDw9PYmIqLq6ml588UVhuYWFBUmlUuG1XC7XWd5TTz1F/v7+QrrGf0uWLBHSiy0/JiZGZ5nqv02bNhER0UsvvaQ3zZ49e3S2xaeffkp+fn4kk8kIAPXr14/8/Pw06vvBBx8QALK1taXx48fTpEmTyMXFhQDQoEGDqKKiQkh7/PhxAkCzZs0ia2trsre3px49elBERITe46HOExUVRV27diVnZ2caNWoUOTg4EAAaN26cQce1oKCAunfvThYWFjR16lSaM2cO9ejRgwCQh4cHDRs2jHJycoiIaMmSJQSAvLy8aP78+TRt2jSys7MjMzMzOnToUKvrZ2j5LbXX7t27CQC5uLjQa6+9RtOnTycvLy8CQGPGjBHKWb9+Pfn5+ZGVlRUBIF9fX/Lz86MRI0ZobWvOnDkadTXm+BraFkePHhXaYd68eTRjxgxydXWl+fPnG3RMGWOsI9MVG3X64En95+7uTlFRUcIb1urVq4V17733HimVSiorKyO5XC4sP3nypN7yRo8eTV988QVNnjxZWGZpaUmFhYVGlT9v3jzq168fbdq0iZKSkigjI4O2bNkipH3mmWeIiOjEiRO0aNEiYbm3tzetWLGCVq5cSffv32+2TQYOHEgAqKCgQGP56dOnheAjMzNTWF5ZWUkhISEEgBYvXiwsV7+5AqBRo0ZRaWkpEZHGG3BTjfNMnjyZKisriYgoKytLeBO/evVqs/UnInrnnXcIAO3bt09YlpOTQ3Z2djR48GBh2ZkzZwgADR06lMrLy4XlKSkpJJPJqHv37lRTU2N0/cSU31J7nTlzhnbv3k21tbVCOUqlknx9fQkAJSUlabSBn58fASCFQqG3nRsHT605voa0xZgxY0gqlVJeXp5G/e/du6dVP8YYe9Q8tsGTn58fPXjwQGO9p6en8Gm/8ZvW9evXhXxz587VWd7UqVNJpVIREVF9fb3GnahvvvnGqPIbv5E31rt3bwJANjY2wrKcnByhjODgYIPbRF/w9MYbbxAA+uc//6mV5/LlywSA3NzchGXqN1c3NzcqLi42aNvqPCNHjqT6+nqNdepgcMuWLS2WM3z4cJ2BQ2BgIAGgqqoqIiIKDw8nAJSQkKBVxtSpUwkAnTt3zuj6iSnfmPYiInr33Xc1+pSa2ODJ2ONraFu8+OKLJJFIKC0tzeB9Y4yxR4Wu2OixmKpg9erVcHBwEF4XFRUhLS0NAGBpaYnY2FhhXXV1tfC/emxJU1FRUcJXxKVSKV555RVcuXJFyGNM+RYWFgCAtLQ0JCYmIj8/H9XV1cIg88b5TO3XX38FAIwdO1Zr3YABA+Ds7IysrCwUFhaiW7duwjq5XI4nnnhC1LZ8fX0hlWoOtfP09AQAlJaWtpjf2dkZAJCfn49evXoBAIgImZmZsLKygqWlJQAI47/u3r2L3NxcjTIqKysBAKmpqRg+fLhR9TOmfEPaq6CgANnZ2SgpKUFxcTEAiBoPpouxx9fQtpg0aRLOnTuHgIAAxMbGYsqUKbCxsWlVnRljrCN7LIKnphfywsJC4f/MzEysWrVKZz51QNOSJ598Uvi/oKDAqPJTU1MRFRWFn3/+2aBtmlJ+fj6kUilcXV11rndxcUFBQQFKS0s13lxNxczMDAC0BtzrMnXqVBw6dAgzZszA+vXrYWNjg08//RSpqal4++23hbLUM6fPnDlTZznm5uZwc3Mzun6mLJ+IsHHjRsTFxSEzM9OgPGKY8vjqaou5c+dCoVBg1apVmDlzJhYsWICYmBgsWbLE4HOIMcYeJY9F8NSUlZWV8H///v2xevVqrTRSqVTrroQ+jYOlLl26iC6fiDBhwgQkJycDACIjIzFs2DB07doV77//PlJTUw3bMSNZWVlBqVSiqqoKtra2WuvVgYK9vX2b1sMQDx48AABcunQJ/v7+wvKJEyfi448/Fl5bW1ujpKQEBQUFGncd1aRSqdZdFTFMWf6KFSuwbNkyDB06FJs3b0a/fv3QpUsXfPLJJ/joo4+MrqNaWx9fiUSCRYsW4a9//Sv27NmDtWvXIjY2Fmlpadi5c2drqs4YYx3SYxk8ubm5QSaTQalUori4GC+//LKoT8jnz5/XmC7g5MmTwv/9+/cXXf7t27eFwEkul2PXrl3CuvXr12ulbzyrtCke5/n4+OD333/H5cuXERAQoLEuKysLeXl56NGjh/DIrD198MEHGD16NL799lv88ssvqKmpgZ+fH7y8vDTS+fj4ICcnB+np6Rg0aJDJ62HK8rdt2waJRIKjR4/C0dFRWK5vPi718TfkTp26rg/j+Do4OCA6OhpTpkxBv379sG/fPmzdulV4lMoYY51Fp53nqTkWFhZ46aWXADTMGTR//nyNuW5SUlKwfv165Ofn68z/4YcfYvHixUhMTMTChQuF8S8ymQzBwcGtKr+4uFiYyfTo0aNCUNWYvb298AZ6+fJlxMfH4/Tp08jOzjamOTBhwgQAwKpVqzTmnyIiLFu2DCqVCuHh4UaVbWoVFRVITk4WfsOtT58+kMlkWrO/jh8/HgCwdu1anbPmt/anaUxZvkqlglQq1Qgyqqurcfr0aZ3p1QFWRkaGQeW39fFt+qjRyckJLi4uqK+v558AYox1So/lnSegYRD5qVOnUFlZic2bN2PLli1wcXFBSUkJFAoFAODFF1/UGM+kJpFIsGbNGqxZs0Zj+cKFC4VHH2LK7927N55++mn88ccfOHv2LHx8fGBra4tr164JY0was7a2RkBAAM6ePYuqqiqEhIQAAPbs2YOpU6eKbot58+Zhx44dOHnyJIKCghAeHg5zc3McOnQIJ06cgI+PD5YuXSq63LbwySefYObMmZg2bZrGcmtra4wfPx4bNmxAjx49MHv2bGzfvh0HDhxAYWEhIiMj0bVrV+Tm5iIhIQHnz59HVlaW0fUwZfkhISHYuXMnwsLCEB0djZKSEqxbt06Y1LSpQYMG4ezZs5g1axYmTZqElJQUjYlUm2rL41tcXAwvLy+Eh4cjJCQEdnZ2+Pbbb5GcnIzw8HBYW1sbVS5jjHVoLX0d71Gl/kq1RCKhCxcu6Exz5coVCgwMJIlEojGHk0wmowkTJlBJSYmQtvFUBZ9++qnG9ASWlpb07rvvan2tW0z5N27coEGDBmmkCwkJoY0bNxIAsrOz0yg7KSmJ+vbtK6Q1NzfXu59qQ4cOJalUqjVtAxFRZmYmyeVyMjc3F8q0srKiqVOnUm5urkbaU6dOEQCKiYlpdnuG5tm5cycBoLi4uBbLefPNN0kqlVJcXBwdOXKEvv76a9q6dSu9+uqrBICGDBkipM3Ly6OwsDCysLDQaNeePXvSihUrWl0/Q8tvqb1KSko05v+SSCQkl8vpu+++IwC0d+9ejfQ5OTk0ePBgIb164tfmtmWq46urLaKjo8na2lqjL7755psa818xxtijSlds1Kl/GLi8vBwWFhZaP57aVFFREW7fvo2amho4OTmhT58+WmOUoqOj8dlnnwEA4uPjERwcjKSkJFRWVsLX11fnoGEx5QMNj1HS0tKQnZ2NXr16CV/FLy8v1/gavppKpUJGRobw6b+5OgBAbW0t6urqmr0bUFZWhvT0dEgkEnh5eekcYAw0PD6zsbERNei6uTzl5eXo0qWLxniupi5cuIBhw4bhr3/9K7Zs2aK1vl+/frh58yYePHig0RZVVVVITU1FXV0dunfvrvd334ytnyHlG9JexcXFyMjIQI8ePYQ7npWVlXqPQW5uLkpKSuDt7a3Rn5rblimOr662qK6uxu3btyGVSuHp6cl3nBhjnYau2KhTB0+m1DR4ajxgnD0c+/btw9SpU7F48WKtbzAWFxfD29sbQMO3H3U97mSMMcbE0hUbPbZjntijJyAgADKZDOvXr0dpaSleeOEF2NraIj09HVu2bEFJSQk++eQTDpwYY4y1KQ6eDKT+2rhEItH7FXLWtp566in89NNPWLZsGbZv3y4MkjY3N8egQYOwZs0aTJw4sZ1ryRhjrLPjx3YiFBUVwcrKioOnDkClUqG4uBgqlQpPPPEEz2TNGGOsTfCYJ8YYY4wxEXTFRo/lJJmMMcYYY8bi4IkxxhhjTAQOnhhjjDHGRODgiTHGGGNMBA6eGGOMMcZE4OCJMcYYY0wEDp6Y0W7cuIHXXnsN+/fvb++qsE6I+1fb4vZlzHgcPLWzmpoazJo1C8uWLWtVOYcPH4azszPeeeedNs3TWHp6Og4ePIjz58+brEzG1HT1L1PqbH1V7P60dfsy1plx8NTOqqqqsG3bNuzatatV5dy9exeFhYW4fv26xvKvvvoKGzdu1Dn5qb48bVEPxtqLvnOgs/VVY64BrG09am3/qNW3XVEjTV6yh+DBgwcEgNzd3VtVjkKhoISEBMrNzdVY7ufnRwBIoVAYnMdQx48fJwA0Z84ck5XJmJqu/mUMfedAZ+urYq8Bpmpfpl9z19+O6FGr78OiKzbiHwbuJGQyGYKCgto8T3uUyVhb6Gx9tbPtD2MdGT+266CSkpIQFBSE+Ph4pKenIyIiAk899RS8vb0xb948lJWVaaS/du0agoKCsG3bNgDA1q1bERoainv37gEAJkyYgNDQUISFhenNo3bq1ClERESgT58+cHZ2hq+vL2JiYlBSUtJivfWVGRMTg9DQUK2/efPmaaQ7ePAgQkJC4Obmhl69ekEul+OXX34xuN1aU3exbS6m3gkJCQgMDMQ///lPrbxLly7FqFGjkJ6errFcpVLh1VdfxdSpUw3ef137c+7cOWRlZeHtt9+Gh4cH3N3dERUVhezsbJ35fvjhB8jlcnh4eMDV1RUvvPAC1qxZg6qqqlaV/9tvvyEwMBC7d+/W2uaRI0cQGBiIH374waB9M+Q4t3QO6OurxraDMf0GMF3fMOYaoJaZmYmoqCj07NnT4Ho3Zuh519q2aszQa0Xjbd69exdhYWFwc3PDs88+i48//lhIt3//fjz//PNwdXVFcHAwLl68qLMcQ/p7S22/detWBAUF4ccff9S5bzNmzEBoaCjq6+ubbYOffvoJY8eOhbu7O7y8vBAZGYk7d+6IbicxfYX9V0u3pljb0vfYTn1LPSoqirp27UrOzs40atQocnBwIAA0btw4nenVt+DXr19Pfn5+ZGVlRQDI19eX/Pz8aMSIEXrzEBHt3r2bAJCLiwu99tprNH36dPLy8iIANGbMmGa3qW8ZEdHUqVOpb9++wp+npycBoN69ewtplixZQgDIy8uL5s+fT9OmTSM7OzsyMzOjQ4cOtdiWYuqui9g2F1PvGzduEADy9/fXyFtbW0v29vYEgD7++GONdb/++isBoFdffbXFuje3P7NnzyZHR0dycnKicePGkYeHh9DnioqKNPJ88MEHBIBsbW1p/PjxNGnSJHJxcSEANGjQIKqoqDC6/AMHDhAAWrBggVZd161bRwBo06ZNWuU37UuGHueWzoHmHlsZ0w5i+42aqfqG2GuAOv2wYcPoiSeeEF1vNWOuGca2lZqYa4V6m9OnTyd7e3tyc3OjwMBAkslkBIBWrlxJ0dHRBICGDBlCvr6+wrG/f/++VjmG9PeW2l59Lrzyyita+5aSkkIAaOjQoc22wdGjR4U2mDdvHs2YMYNcXV1p/vz5otvJkPeLx5mu2IiDp3bWUvAEgCZPnkyVlZVERJSVlSVcxK9evaqVvukbQXPPsHXlOXPmDO3evZtqa2uFZUqlUrigJCUlNZvf0HEUixYtIgC0du1aYbvqC0Z5ebmQLiUlhWQyGXXv3p1qamqaLVNM3XUR2+Zi6923b18CoHFBPnfunLDN0aNHa5StfgPftWtXs/U2ZH8mTpwo1E+pVNKLL75IAGjJkiVC+tOnTxMA8vDwoMzMTGF5ZWUlhYSEEABavHix0eWbKngSe5zFjvlpTTsY2m+aMkXfEHsNMEW9iYy7ZrRmm2KvFY23GRERQUqlUqMciURC1tbWdOTIESFPREQEAaDY2Fid5RjS34n0t311dTU5OjqShYUFFRQUaKxTH9vNmzc32w5jxowhqVRKeXl5wjKlUkn37t0zqp2aq+/jTldsxI/tOriRI0di7969sLGxAQD06NEDUVFRAIALFy6YfHsjRoxAREQEzM3/HA5nZWWFcePGAQBu377d6m0kJiYiLi4O/v7+iImJAQB8/vnnAIDVq1ejS5cuQtp+/frh9ddfR05ODn777beHUncxbS6m3n/5y18AAMeOHRPSnTp1CgDg5+eHs2fPoqKiQlh37NgxmJmZ4ZVXXjGo3vqMGDEC+/fvF+pnZWWF5cuXA2h4XKa2efNmAMDf//539OzZU1huY2ODNWvWAIDOR26Glm8qbd1HjW2H1pyr7dU3WltvwLjj0ZptGnutGDVqFHbu3AkrKyuh3v7+/iAibNu2TaMt58yZAwC4cuWKzv1tbX+3tLTElClTUFtbi6+//lpj3b/+9S9YWFjgjTfeaLYMhUIBItJ4jGxlZYVevXoBMM01lenHA8Y7OF9fX0ilmjGup6cnAKC0tLRNt11QUIDs7GyUlJSguLgYAESNSdClvr4eM2fOBBHhiy++EC646vEFd+/eRW5urkaeyspKAEBqaiqGDx/e5nUX0+Zi6v2Xv/wFa9euxdGjR/H2228DAOLj4+Hn54eoqCgsXLgQp06dglwuR0FBAX7//XcEBgbC0dHRoHrr88wzz2i8sQFAQEAAJBIJ0tLShGW//vorAGDs2LFaZQwYMADOzs7IyspCYWEhunXrJrr8ttAWfdTYdmjNudpefaO19W7K0OPRmm0ae63o37+/1jbd3d1x5coV+Pn5aSxXB815eXla2zdVf58+fTo+++wz7NmzB7NnzwbQEKzdvHkTf/nLX+Dk5NRs/kmTJuHcuXMICAhAbGwspkyZIgSjgOmvqUwTB0+PIDMzMwANg0ZNjYiwceNGxMXFITMz0+Tlx8XF4fLly3j33XcxcOBAYXlRUREAYObMmTrzmZubw83Nrdmy27Lu+tpcTL2HDBmCJ598Ej/++COqq6tRW1uL3377DXPmzMG4ceOwcOFCfP/995DL5Th+/DiICHK53KT70bheDg4OePDgAaqqqmBjY4P8/HxIpVK4urrqzOPi4oKCggKUlpZqBA2Glm8qbd1HTdkOhp6rHalviKk3YLrjYeg2TXGtaJy2NXVpXI7Y/v7888/Dz88PFy5cQGpqKry8vPCvf/0LADBt2rQW88+dOxcKhQKrVq3CzJkzsWDBAsTExGDJkiWwsLAwaTsxbfzYjmlYsWIF5s+fj549e+LIkSO4ffs2cnJysGjRolaXfefOHcTGxsLT0xMffvihxjpra2sADZ9ca2trtf6qq6sxatSodqu7PmLqLZVKMX78eFRWVuL06dM4ffo0amtrMWbMGPj6+sLDwwPHjx8H8Ofjm7Z6gyQiVFRUQCqVQiaTAWi45a9SqbS+Taamvhjb29sbVb5EIhHWtUZbH2dTtoOhOlLfEOthn3emuFaYmq7+bojp06cDAPbu3Qug4ZGdg4MDxo8f32JeiUSCRYsWISMjA5s2bYK9vT1iY2OFO5cdsZ06Ew6eOjn1G5ahn6C2bdsGiUSCo0eP4pVXXoGPjw9cXV01npkbg4gwa9YsKBQKfP7551qfzHx8fAA0/GSEubm51l/T2+0Ps+7NEVtv9diW77//HvHx8bC0tERgYCCAhsdEWVlZuHz5MuLj4+Hv7w93d/dW11F9i76xq1evora2Fn379hXqqN6Xy5cva6XPyspCXl4eevToAWdnZ6PKV1/MdU0b0Xg8T0vEHmex54Cx7dBabdU3xO6/WA/7vDPFtaI1DO3vQMttHxERATMzM+zduxcXL15EWloaJk6cKIzLMoSDgwOio6ORmJiIbt26Yd++faipqTGqndq6r3QmHDx1cuoxERkZGQalV6lUkEqlsLS0FJZVV1fj9OnTrarHP//5TyQkJCAyMhJjxozRWq/+pLV27VqddyZamu8EaLu6N0dsvUePHg0bGxt8//33OHXqFIYOHQpbW1sAEAbYfvDBByguLjbZnYXdu3djz549GsvWrVunUX+gYW4XAFi1ahVqa2uF5USEZcuWQaVSITw83Ojy+/btCwA4fvw4lEqlsDw+Ph4fffSRwfsj9jiLPQeMbYfWaqu+IXb/xXrY550prhWtYWh/B1pue1dXV7z00ku4efMm3nvvPQANAZUhmj4idXJygouLC+rr61FfX29UO7V1X+lMeMxTJzdo0CCcPXsWs2bNwqRJk5CSkiJ8m0iXkJAQ7Ny5E2FhYYiOjkZJSQnWrVuHW7dutaoeS5cuBdBwoZ0/f76wXCqVIjY2FrNnz8b27dtx4MABFBYWIjIyEl27dkVubi4SEhJw/vx5ZGVlNbuNtqp7c8TW29raGiEhITh06BAAYOXKlcK6UaNGQSaT4fvvvwfw552I1rKzs0NkZCSOHTuGYcOG4cyZM/j3v/+Nbt26YcGCBUK6efPmYceOHTh58iSCgoIQHh4Oc3NzHDp0CCdOnICPj49wHI0p39vbG8HBwfjxxx8RGBiIsLAw3LhxAzt27IC/vz8uXbpk0P6IPc5izwFj26G12qpviN1/sR72eWeKa0VrGNrfAcPafvr06Th27BjOnj0Ld3d3BAQEtFiH4uJieHl5ITw8HCEhIbCzs8O3336L5ORkhIeHw9ra2qh2auu+0qm0NJcBa1vl5eUklUo1JoskIjp16hQBoJiYGK08O3fuJAAUFxfXYvqcnBwaPHiwMD+Jp6dns3lKSkpILpcL6SUSCcnlcvruu+8IAO3du7fZ/Prq4erqKpTZ+E8ikdCdO3eIiCgvL4/CwsLIwsJCI03Pnj1pxYoVLbalmLrrIrbN1cTWe8+ePQSApFIp/f777xrrJkyYQACoT58+Le5vSxrP+xMXF0e2trZC3QYOHKhz3qvMzEySy+Vkbm4upLWysqKpU6dq/WaaMeWnpaXRwIEDhXT29va0fv16SkhIIAD0+eefC2n1HQ+xx1nfOdDc8RbTDsb2G11a0zfEXgNMVe/WXjOM2aaYc665bU6ePJkAUHJyssbygoICkkgkFBAQICwzpr83d/1VUyqV9OSTT2rNH9aS6Ohosra2Fso2NzenN998U2NOJ7HXJkPq+zjSFRtx8NQBVFVVUXV1tdby8vJyqq+v15mnrKyMVCqVwelzcnIoJSVFa1I0fXmKioooMTFRYwK2xrMqN5e/uXoYorKykq5du0aJiYlG/WiroXXXRWybNyam3hUVFTonolOpVFRaWkp1dXUG1bc5TSdNrKiooMTEREpPT28xb2lpKV29epWSkpL0tl1ryk9NTaUrV65QVVWVsKysrEwrXXPHQ+xx1nUOtNRXDWmHlsppqd801Zq+IfYaYMp6t+aaYew2DT3n9G2ztrZW73GtrKzUOdmmMf1d3/VXbdCgQQSArl+/3mJZjSmVSrp27RolJydrnEu69kXMNbWl+j5udMVGkv+uANAwWIxa+U0YxljHcOLECYwdOxZz5szBp59++siVz1hH0lb9/erVq/D398dzzz2H33//3WTlMtPRFRvxmCfGHgF79+6FQqEwKG1AQIAwOJsx1rGpf8jZkLmdWMfBwRNjHZxCoRB1YY2NjcWyZcuECQD1TQTYWm1dPmMdSVvxMQGlAAAgAElEQVT0dyLCvn37YGtriylTppisXNb2+LEdY4+A/Px81NTUGJTW2dlZmCcmNzcXjo6OGl8jN6W2Lp+xjqQt+ntxcTGsrKyEaSlYx6MrNuLgiTHGGGNMD12xEU+SyRhjjDEmAgdPjDHGGGMicPDEGGOMMSYCB0+MMcYYYyJw8MQYY4wxJgIHT6xDuXHjBl577TXs37+/vavCGGOM6cTBE+tQ0tPTcfDgQZw/f97kZR8+fBjOzs545513TF42Y4yxxwdPDczaRF1dHTZs2IDS0lIMGzYM48aNeyjb/eqrr5Cfn4+5c+dCIpForLt79y4KCwtx/fr1h1IXxhhjnRMHT6xNFBYW4r333gMABAcHP7TgaeXKlUhOTsasWbMgk8k01v3tb3/DgAED0L9//4dSF8YYY50TP7brgCoqKvSuUygUUCqVJivP2PKJCKWlpQb/ZEhHIJPJEBQUBBcXl/auCmOMsUcYB0/tbOPGjfDw8MDkyZORnp6OwYMHw87ODkFBQUIahUKBDz/8EJ6enrCxsYG1tTXc3d2xfPly1NbWapU1bdo0VFRUICYmBl27doWdnR2cnJywfPlyqFQqrToYWr5SqURcXByGDBkCKysrODg4QCaTwc/PD5s3bxbSLVmyBKNHjxZeX7x4Ef7+/hgwYAAuXrxoVDtt2bIFQUFBGttpbOvWrQgNDcW9e/cAABMmTEBoaCjCwsKENNeuXUNQUJDwK+ZqSUlJCAoKQnx8PO7evYuwsDC4ubnh2Wefxccffyyk279/P55//nm4uroiODhY774cPHgQISEhcHNzQ69evSCXy/HLL79opfvpp58wduxYuLu7w8vLC5GRkbhz547otmGMMfaQUSNNXrKHYM6cOQSAevbsSX369CEABIA8PT2JiKi6uppefPFFYbmFhQVJpVLhtVwu1yrrqaeeIn9/fyFN478lS5ZobF9M+TExMTrLVP9t2rSJiIheeuklvWn27NnTbHscP36cANCcOXOEZTt27CAA5OHhQenp6TrzrV+/nvz8/MjKyooAkK+vL/n5+dGIESOaLbvx8unTp5O9vT25ublRYGAgyWQyAkArV66k6OhoAkBDhgwhX19fAkC2trZ0//59jbKWLFlCAMjLy4vmz59P06ZNIzs7OzIzM6NDhw4J6Y4ePSqkmzdvHs2YMYNcXV1p/vz5zbYPY4yxh0tXbMTBUztTBzzqP3d3d4qKiqKIiAgiIlq9erWw7r333iOlUkllZWUkl8uF5SdPntRZ1ujRo+mLL76gyZMnC8ssLS2psLBQ2L6Y8ufNm0f9+vWjTZs2UVJSEmVkZNCWLVuEdM888wwREZ04cYIWLVokLPf29qYVK1bQypUrtYKNppoGOIcPHyZzc3Py9PTUGzg15ufnRwBIoVC0WHbT5QAoIiKClEolERGdOXOGAJBEIiFra2s6cuSIkCciIoIAUGxsrLBMnX7o0KFUXl4uLE9JSSGZTEbdu3enmpoaIiIaM2YMSaVSysvLE9IplUq6d+9ei/vIGGPs4eHgqQNqHPD4+fnRgwcPNNZ7enoSAHJxcaHa2lph+fXr14V8c+fO1Spr6tSppFKpiIiovr5e407UN998Y1T56jf+pnr37k0AyMbGRliWk5Mj5A8ODja4PRoHOD///DNZW1uTp6enwUFFa4KnUaNGUX19vcY6dbs1vWP266+/at2ZCw8PJwCUkJCgte2pU6cSADp37hwREb344oskkUgoLS3NoP1ijDHWPnTFRvxtuw5k9erVcHBwEF4XFRUhLS0NAGBpaYnY2FhhXXV1tfC/epxPY1FRUcJX9aVSKV555RVcuXJFI73Y8i0sLAAAaWlpSExMRH5+Pqqrq4UB5o3ztFZKSgrGjx8PR0dHnD59Gr169TJZ2fr0798fUqnmMEB3d3dcuXIFfn5+Gst79uwJAMjLyxOWqcdA3b17F7m5uRrpKysrAQCpqakYPnw4Jk2ahHPnziEgIACxsbGYMmUKbGxsTL5PjDHGTI+Dpw6k6ZtnYWGh8H9mZiZWrVqlM586qGnOk08+KfxfUFBgVPmpqamIiorCzz//3OL2WksqlaKurg6FhYUoKCh4KMGTLubmuk8RMzMzANAYgF9UVAQAmDlzpt6y3NzcAABz586FQqHAqlWrMHPmTCxYsAAxMTFYsmSJQceTMcZY++HgqQOzsrIS/u/fvz9Wr16tlUYqlWL48OEtltU4UOrSpYvo8okIEyZMQHJyMgAgMjISw4YNQ9euXfH+++8jNTXV8B0zQN++ffHWW28hPDwcEydOxO+//w5HR0eTbsPUrK2tUVJSgoKCAo07iGpSqVS4syWRSLBo0SL89a9/xZ49e7B27VrExsYiLS0NO3fufMg1Z4wxJgYHTx2Ym5sbZDIZlEoliouL8fLLLxt8V+L8+fMa0wWcPHlS+F89SaSY8m/duiUETnK5HLt27RLWrV+/Xit949m9jX2cN2XKFJw7dw6bN29GREQEjh49qjVruL7t6pqSoa35+PggJycH6enpGDRokEF5HBwcEB0djSlTpqBfv37Yt28ftm7dCktLyzauLWOMMWPxPE8dmIWFBV566SUADWNr5s+fj6qqKmF9SkoK1q9fj/z8fK28H374IRYvXozExEQsXLhQGI8jk8kQHBzcqvKLi4vRMIYOOHr0qBBUNWZvby8EMpcvX0Z8fDxOnz6N7OxsUW2wYcMGvPDCCzh27BhWrlzZYnr13amMjAxR2zGF8ePHAwDWrl0rtE9j9fX1wv+ZmZka65ycnODi4oL6+nqNdIwxxjoeDp46uNWrV8PW1hYAsHnzZtjZ2aFHjx6wsbGBr68vFi5cqPORmUQiwZo1a/Dcc89p3BlauHAh7O3tRZffu3dvPP300wCAs2fPwsfHB88++yzGjx+vMZGmmrW1NQICAgAAVVVVCAkJwciRI5GQkCBq/y0tLXHgwAE4OjoiNjYW8fHxzaZX3/GZNWsWNm3ahNmzZ4vaXmvMnj0b/fr1w4EDBxAcHIydO3fi4MGD+Mc//oE33nhDGLdVXFwMLy8vTJ8+HXv37sXhw4cRFRWF5ORkTJ48GdbW1g+tzowxxozQ0tfxWNtSz4ckkUjowoULOtNcuXKFAgMDSSKRaMzjJJPJaMKECVRSUkJEmlMVfPrppxrTE1haWtK7776r9VV8MeXfuHGDBg0apJEmJCSENm7cSADIzs5Oo9ykpCTq27evkNbc3FzvPqqdOnWKAFBMTIzG8mPHjpGZmRm5urpSXV2d3vw5OTk0ePBgrclGmytb33IiEubISk5O1lheUFBAEomEAgICNJbn5eVRWFgYWVhYaLRTz549acWKFUK66Ohosra21mibN998U2N+KMYYY+1PV2wk+e8KAA13K0jH4wbWtsrLy2FhYaH1Q7ZNFRUV4fbt26ipqYGTkxP69OmjMUYpOjoan332GQAgPj4ewcHBSEpKQmVlJXx9fXUOYhZTPgAQEdLS0pCdnY1evXoJd1PKy8thZWWlNVZHpVIhIyNDuNvSUh2Aht/is7Gx0Zo2QKlUgogMujOTm5uLkpISeHt7a+yDvrL1La+rq0N1dbVwd66xqqoqWFhY6BwnVlVVhdTUVNTV1aF79+46f0+vuroat2/fhlQqhaenJ99xYoyxDkhXbMTBUyfSNHhqPGCcMcYYY+Lpio14zBNjjDHGmAgcPHUi6vmbJBKJ8D9jjDHGTIsf23UyRUVFsLKy4uCJMcYYMwEe88QYY4wxJgKPeWKMMcYYayUOnhhjjDHGRODgiTHGGGNMBA6eGGOMMcZE4OCJMcYYY0wEDp4YY4wxxkTg4Im1q5obZ1CxfwEqDiyGqjSvvavDWKdz5swZTJkyBb/88kt7V0VLSkoKJkyYgN27d7d3VR6qx3W/m3qU24GDJ2aYuhpU//Y1yve8g9JNE1G6eQoq/r0UNTdOt67YuxdQk5KAmmsnUV+YbpKqMtaW6urqsGHDBrz66qv4+eef27s6LfrPf/6Dr776CpcvXzZ52UVFRdiwYQPkcjkGDx6M0NBQbNiwAQqFwqD89+7dw5EjRzpkYNeW2nq/Dx06hCeeeAKzZ89uk/JN5VE+/ubtXQHW8VFVCcp2zPp/7J15XFTV+8c/Mwy7KKAIAgmiqUEabqkoigqK5IILoiiKqfXNJfVbZpml36R+5lLmlmmZGmIupangghsuuYtg5oaCIpsg+zYMzPP7g+bKMNu9wyBo5/16zesF557zPM95zjLPnHvuuajMTFRKr8y4g/KEaDQauxwm7gPqyToBVFag9Nw2kLQIxi09YdyuD69iv/zyC548eYL//ve/EIlEdWwkoyYNyf9xcXGYOnUqF4gMGjQI3t7e9WpTfXHhwgUMGjQIBQUFMDIygomJCUpLS3HkyBHs2LEDp06dgoWFRX2b+a8kOTkZeXl5uHfvXn2b0qDGryFhK08MnZQcWcUFTmJbZ5j3nQqz3pMgeaUjAIDKiurTPN7IS/NRemwtys5sQdn5SN7lvv76a3z44YeQSqV1aB1DEw3F/59++inefPNNZGdn/2sDpupcu3YNr776KqKiolBSUoKioiIcOHAAZmZmuHz5MtauXVvfJv5rmT59Os6cOYPISP7zXF3RUMavoWHBE0Mn5X8f5/5u/PaPMB8wHRYDZ6PxtC1o/M42GLfuobEslZeAyktqbYMQOVReClTKaq2TwVBQUVGBb775BvPnz8etW7fg5eVV3ybVO1OmTMHly5cREBAAExMTiMViDBkyBJMnTwYAnDx5sp4t/PdiYmKC3r17w87Orr5NeWlhwRNDO5UykLT42f8i5S4jcX4d4ib2SmkkK0Pp8fXIWzEYueG9kRveG3kr/FF6fD1QUc5btRA5JC1GydHvkLd8EHLDeyHni54o2DgRsrtnAQAlMatRuHkal7/i8Q3krw1C/toxqEhJUKt/w4YN8PX1RXJyMgAgICAAvr6+GDlyJADg+PHj6NWrFzZt2qRS9tNPP0WfPn2QmKh8q5OIMGzYMAQFBSmlR0dHY8iQIXB2dkazZs3QuXNnLFmyBEVFulf14uPj0bt3b5w5cwYpKSmYPHkynJ2d4eTkhPHjx+PRo0cqZQ4fPoxx48bBzc0NNjY2aNu2LWbNmoWcnByN8o8ePYrY2Fh07twZ9vb2WL58OZdnz549GDBgAOzt7eHo6IghQ4bg7NmzWmUlJSUhJCQELVq0QMuWLTFz5kwUFBRweXX5HwCOHj0KPz8/ODk5oWXLlhg3bhzu3r1rcJ9JJBJkZGQgPDy8Vrei+PpdiJ8UyGQy/N///R9ef/11NGvWDF5eXoiOjuZtm1CfmJqaqr0N4+bmxltndRQ6HR0d4ezsjEmTJiEtLY27vmHDBvTu3RtHjhxRWz4sLAz9+/dHZWWlVj112QZCxlV1hNZNV79PSEhA7969sX79+lrXKT09He+++y46duwIJycndO/eHb6+vvD19cWgQYOQman+QR8+47c6ycnJmDBhAhwcHLTaA/Cfb+oSFjwxtGNkDHHj5ty/hVvfQ8XjvzTnr5ShcMt/UBr7I+QFmYCRBBCJIS94gtLYH1G4cx4/vQLkkKwMBT9NRdnZrZAXZv2TKEfF479QtPuTKnHpd5Q2pFN5KSqf3Eflk0TIcx+rNaGsrAzZ2dnchPX06VNkZ2cjPz8fANCyZUv8+eefWLdunbLplZVYt24dzpw5g99//13p2pUrV3DgwAHI5XIu7fPPP8dbb72F2NhYdOvWDQMHDkRmZiY+//xzeHt76wyg0tPTce7cOWzfvh0dO3ZEVFQUunTpAgsLC0RGRsLLywtZWVlc/q1bt2Lw4ME4ffo0unXrhlGjRgEA1q5dC39/f5UXYCrk79mzB/7+/njw4AHMzMyQkFAVdM6fPx9BQUHcZDxgwACcPn0aPj4+KvWvbqunpydOnjyJN954AyUlJVi3bh3GjRvH2//79+/HoEGDkJSUhHHjxiEgIABnzpzB999/r9Vf+vgMAJo0aaJTrjaE+F2InxQEBwdjwYIFyMzMRK9evfDkyRMMGTIEERERvOzTxyfqUHyJu7q68tILVH2pd+rUCdHR0ejWrRvMzMywbds29OzZE9nZ2QAAOzs7nDt3Dt9++61K+Vu3bmHr1q0oLi6GkZGRRj112QZCx1V1hNSNT79PS0vDuXPnuDGqb52ysrLQqVMnbNmyBZ07d0ZQUBDS0tJw/PhxPHjwAGVlZRqDVV3jtzrXr19Hp06dcPz4cXh6emrt50LmmzqFqlHjXwaDiIhKL+ykp591UvoU/PwOld+/pJK3JPZHLk/xkVUkl0lJLi2mwsj/cunld89x+YsP/t+z9MQLeskpOb6eS8tbM5qkf8VQ+e3TVLhzPuV80ZOIiMoTL1DJsbXP8n07jEpPb6bS0z9TZUGW1vp7eHgQACotLVW51r59ewJAKSkpXNr58+cJAAEgHx8fpfyLFy8mALRt2zYiIjp16hQBIBcXF7p79+4zn5eW0uDBgwkAzZs3T6t9hw4d4vQFBQVRUVFRVZ3Ly8nHx0dFxpkzZygyMpIqKiq4NKlUSm+88QYBoOvXr2uU379/f8rPzyciopKSEjp58iQBoJ49e1JBQQFX5vbt22RmZkbNmzcnqVSqVlZISAiVlJQQEVFGRgY5Ojqq1a/J/76+viQWiykzM1OpHo8ePdLqL318VpP58+cTAPr+++916lIgxO9C/XTgwAECQK1ataKMjAwiIqqsrKRFixZxctasWVOnPiGq6rd2dnYEgGJiYnT6pLrOsWPHcvWUSqXUt29fAkAfffQRl9a0aVMyMjLi6qjgs88+41XHumwDfWS/++67guvGp9/XlK9vnWbOnEkAaOfOnVxaRkYGNW7cmLp27arV1wq0zZ9C7RE63xgKdbERW3li6MTszSCYeU8Gqi3Ryx5cRuGWd1G0+xOQ7NlGQOnVfQAAcaOmsPCdCZHEBCITC5j7znxW9p7u5VUhcqRx+6sSRGJYjV8FEw9fGLfzRqMxS9Fk9l4AgHHr7jDtPpYrK7ZuATPvyTDzDoPYqplQl3AMHz4cAJRuj8TExAAAPDw8cO7cOaWl5+joaBgZGeGtt94CAG5ZffHixXj11Ve5fGZmZvi///s/AOB9Bkrv3r0RGRkJS0tLAICxsTG++OILAMDBgweV8o0bN07pF7qJiQkCAgIAAPfv31cr38nJCXv27EHjxo0BAObm5vjhhx8AAF999RWsrKy4vO3atcPo0aPx5MkTlV+/ANCnTx/88ssvMDc3BwDY29tj4sSJAKqe4uJDWVkZiEhpZc7ExASvvPIKr/IAf58ZAn38ztdPO3bsAFB1u9jevuo2ulgsxuLFizFt2jQIoTY+Wb58ObKystCvXz/4+vry1unt7Y2IiAiuniYmJliyZImSThMTE4wbNw6VlZXYuXOnUvmdO3dCIpEgODhYZ93qqg30HVdC62aIfs+3TnFxcQCAYcOGcWn29vbo3Lkzrly5gpKS2u9nFWKPvvNNXcCCJ4ZuRCJY+M1C43cjqh7vrxZEld84gpLDKwAAVJIPeW5q1QUjCUpPbkDp8XUoPb4O0mt/cGXkeela1QmRIy96yh2uaWTnBrGNk5IscWPl/ViGRhE8RUVFcWkxMTFwd3fH5MmTIZPJuGAqOzsbV65cgbe3N2xtbQEA58+fBwD4+/uryH7jjTdgZ2eHzMxMZGRk6LTFw8MDEony6SO9evWCkZERHj58qLZMVlYW4uPjERsby90e0bTPYMiQIbCxsVFKu3z5MgDgzp07iIiIUPoo5Kj70njttdcgFitPP4rbPOqW9dURHBwMIoK3tzd++OEHFBcX6y5UA318Zgj4+p2vn65fvw4AagOWtm3bCrJNX5+cP38eS5YsQZMmTfDTTz8J0unu7q5yu02dzkmTJgGA0lNk169fx927dzFo0CBBG6QN3Qb6yK4O37oZot/zrZNCZ/X5h4jw+PFjmJqawtTUVLDu2tij73xTF7Bznhi8kTi+BqvxVccWFO9fgoqUGwAA6ZXfYd7vP6CyQi6vPD8TpbEaJlCx9m4nL8nlLYdKnw0ssaWN+nx1SPfu3WFvb4/jx49DKpVCJpPhwoULmD59Ot566y18+OGHiI6OxqhRo3Do0CHI5XIu4AKqJlmxWMytFtTE3t4eWVlZyM/Ph4ODg2D7xGIxbG1tkZWVhZKSElhYWICI8N133+Gbb75BSkqK3nUHqvYxAMB//vMftdeNjIx4f6Epvjyr7wfTxowZM1BaWorw8HD85z//wfz58zFr1ix89tlnMDEx4SVDHep8ZggM5Xd1flJsSG7evLnaMrVFl08SExMRGBgIIsLOnTvRqlWrOtHZtWtXvP7667h48SISExPRpk0b/PrrrwCA0NBQnTLrsg1qK5tv3eqq36urU2hoKPbt24cpU6ZgxYoVaNSoEb7//nskJiZi2rRpWveX1RZ19hhyvqktbOWJIRgj+zawCvsBIvN/NtASQZ6bCpHk2cA1smuFRuNWqn5CvoXlsIVa5QuSUy0Qk1cL3p4Xisezi4uLcerUKcTGxkImk8HX1xft27eHm5sbDh8+DODZrb3qwZOpqSnkcrnGX4+KyULfzcpEhPz8fIjFYpiZmQEAlixZgrlz58LJyQlRUVG4f/8+0tPT8emnnwqWr1hmz8rKgkwmU/mUl5ejf//+etmuC5FIhHnz5uHx48dYt24drK2tER4ejqlTp9ZKrjqfGQJD+r0milupfJ7O1AdtPnn8+DH8/PyQlZWFzZs3Y9CgQQbTW1hYqKKz5grNrl27YGVlpXRrSRN12QaGkM2nbnXV79WhWDW7fPkyOnfujLZt2+Lbb7/FqFGj8M033xhcny7qc76pCQueGFohWRkqs5JU0kVGxqja5/fP/xZNILZqzgU+VFoAk7beMHmtn/KnfV+ILLQHAkLkGDVxAIyMAQCVT+5DXqz8SLC84NljtKJqxyxQJf8jExSPY2taEal+6y4mJgbGxsbo27cvgKrHc9PS0nD16lUcPXoUHTt2VPpV3qZNGwBQ++qM1NRUZGZmwt7enteqk7oALD4+HuXl5WjTpg23LL5p0yaIRCJERUUhICAAbm5ucHBwQKNGjXTqqInC/uTkZEgkEpVPzaV4fdDlfysrK0yfPh3Xr19H8+bNsWPHDpSVlfGSzddnhsCQfq+Js7MzgCrba6LrdlFNhPgkKysLfn5+SE5Oxtq1a3mt/vDVefPmTZSVlaF169ZKOidMmAAjIyNs374dFy9eRFJSEkaNGsV9sWqjLtvAELKF1K02/Z4vixYtgq+vL1JSUnD48GHs378f9+/fx549e3jXS9f4FcLzmG/4woInhlYqHsYhf20QinbNR/mtk6h8klh1BMCeBaDSqknZqJkrjJq6AEYSGLepOjxQXvQUxYeWK50RVZmVhLIzWyAvzNauVIgciQmMW3f/54IMRTs/QsWj66hIu4WSI6uQ9+1Q4J9BK7JoAoirloIr025BlngesqQrkBc80WqOYn+S4rySmvj6+sLCwoILnrp3785tZlRsFl20aBFycnKUVp2AZxsxv/zyS8hkygd7Ll68GHK5HBMmTNBqn4LIyEj88ssvSmmKs5iGDBnCpcnlcojFYqUl/vLycpw4cYKXnuoMHToUALBs2TK1j2LrOnOHD5r8X/PWiLW1Nezs7FBZWYmKigpesvn6zBAY0u81UZx4vnbtWqV2OHr0KJYtWyZIFl+f5OfnY9CgQbh9+za+/vrrWr1HTZ1Ohd0128HBwQGDBg3C3bt38dFHHwHgd8sOqNs2MIRsPnUzRL/nS1FREW7evImDBw/Czs4Obdu25VbL+aJr/hTC85hv+ML2PDG0IjI2B0iO8r9iUP5XjGoGiQkshz1bljb3mwnZg4ug8lJIL+2G9PIeiCysgfIS7qk8SUtPnU+4CZFjMWA68u9fBCplqEi+hoIf334mqPovEZEYkpaeqEi+CpJJUbhtBgCg0ehwmHQM0GhLt27dcPr0aUyZMgVjxozBnTt3sGHDhme2mptj4MCB2Lev6gnB//3vf9y1fv36cYEVAJXgafbs2fj5559x9OhR+Pj4ICQkBMbGxti3bx8OHTqENm3a4LPPPtPqKwVWVlaYNGkSDh06BC8vL8TGxmLPnj1o2rQp5s17di7WwIEDsWXLFowZMwYzZ85Efn4+li9fzutwyZpMnz4dmzdvxu7du5GdnY2JEyeiSZMmyMjIQGxsLGJjY5Gerv0BAV2o8/9XX30FNzc3hISEwM/PDxYWFti3bx9u3ryJMWPG8P5VzNdnABAeHs7dxjh37hwAYPfu3bh9+zaAqoMMPT09NeoypN9rMn36dKxZswZ//PEHgoKC4Ovri2vXrmHz5s3o1KkTrly5wlsWX598/PHHiIuLg42NDRISElSCfJFIhDlz5qBLly46dbZq1QqTJk1CdHQ0vLy8cO7cOezcuRM2Njb48MMPVfKHhYUhOjoap0+fhpOTE3x8fHjVrS7bwFCytdUtJyfHIP2eL6tWrcLUqVNV2tbU1BRDhw7Fd999B0dHR60ydM2fQnge8w1vdJ1lwPiXI6+k0tM/U+7yQcpnPX3emQo2v0OyxzdVilSk36H8n6bS0887K5XJ+V93Ktw+l+SlhVze4qPfcfJkjxL0llP+4DLlrR6plC93mR+VXdqtLDMzkfK+G/Es36KuKnprkpmZST169ODOI3F1dVXJs337dgJAYrGYLl1SPv9qxIgRBIDc3NzUyk9JSaERI0aQRCLhdJiamtL48eNVznxRR/UzXb799luytLTk5HTp0oXi4+OV8ufl5VFgYCCXRyQSUWBgIB08eJAA0Pbt25XyHz9+nADQrFmzNPonODiYjI2NOZkAyNnZmZYsWcJb1tatWwkArVy5UkW+Ov/PnDmTzM3NuXSJREKTJk3izqEypM+IiDu/SNPnxx9/1KpTiFB7JRYAACAASURBVN/18dPly5e5c8cAkLW1NS1fvpw7d2zDhg0G9UloaKhWf6jrSzU5duwYAaCIiAhaunSpks6OHTvStWvX1JYrKyuj5s2b8zp7qjp12QaGkq2rbnz6vSb5Qus0efJkEovFtHLlSjpw4ADt2rWLNm3aRKNGjSIA1KNHD02u5tA2f+o7H/CdbwyFutiIBU8M3lTmPCZZchzJHiWQvET3F5S8OI9kjxJIlnSVKjITiSpk6vOVFZFcpvlgM75yOBsfXqeKrCQiuVyDwEqqzE0lWdotkpcWqM+jhvT0dLp16xaVl5ervV5UVKT2IDi5XE75+flKh+epo6CggOLj4ykhIYE7oJAPNQ/EKyoqori4OEpOTtZa7unTpxQXF6d02J4mvYWFhVRZWalVXnFxMd24cYPi4uK0Bn3aZBUUFJBcQ7up839ZWRnduHGDbt68yR2wxwd9fWYI+PpdXz/du3eP4uPjlfpiYWGhxvwK6ssnhYWFSn/HxcXRgwcPdJbr2rUrAaAbN24I1lmXbWAI2brqxqffa5LPt05//vmn2oM2FbRr144AUG5urtrrNdE0f+rbz/nON4ZAXWzEbtsxeCO2cVI5R0kbIosmkFh00J3P1NIgcgCeNorEEFs7Qmytfbm5Jg4ODlo3bisOFVRRJxJxT0Npw8rKCh07dhRkkyY7tN0+UmBra8vtR6heVh18bgdYWFjg9ddf15lPm6zqB9/VRJ3/TU1NeenUBV+fGQK+ftfXT4pNtXxlaeJ5+aS6bY0aNeKlMz4+HleuXIGnp6de7V+XbVBb2Xzqxqffa5LPt05JSVUPCtWsCwDk5uYiMzMT1tbWWvtidTTNn/r2c77zTV3BgicGg8FgvFAoXsat79N9DZmGUrfevXvD1NQUK1asQGFhIXr06AFLS0skJydj/fr1yMvLwzfffFOnZz01ZFjwxGC84ChOg655KjRDM8xnqrwoPiEiREZGwsLCAiEhIfVtjkFpSHVr2bIlTpw4gUWLFmHjxo1Yu3YtgKqDKLt27YqdO3dizJgx9WpjfSL6535e1T8ikdY3PzMYjIZJRkYGbG1ta3XC8L8N5jNVXhSf5OTkwNTUVONt5heZhli3iooKZGdnQy6Xo2nTpgZ7LcuLgrrYiAVPDAaDwWAwGBpQFxuxQzIZDAaDwWAwBMCCJwaDwWAwGAwBsOCJwWAwGAwGQwAseGIwGAwGg8EQAAueGAwGg8FgMATAgicGg8FgMBgMAbDgicFoINy+fRsjR47Ejh076tuUeqe+fBEXF4e3334b/fr1w9tvv42nT58+V/0vOoby38s4Fk6fPo3Q0FBcvHjxX2PDy9iOCljwxGA0EJKTk7F3716cO3euTuTv378fdnZ2eP/99+tEviGpa1+o49q1a+jRowd++eUX5OXlYf/+/UhISHih/FafaPKfPjzv9n8ebXzp0iVERETg8uXLBtMrtLw6G+qS+hjHzwsWPDEYLxm//vorVq9erXKo2/3795GdnY2///67nixTRpOd9cWmTZtQXl6O77//HnFxccjMzESfPn20+q2h1aE+0eQ/TTQk39XX2Kit3oY2pv9NNOyXGDEYDMGEh4fj5s2beOedd2BmZsalv/fee+jUqRNee+21erTuGZrsrC8UX0C+vr4AwL3wVJvfGlod6hNN/tNEQ/JdfY2N2uptaGP63wQLnhiMfwlmZmbw8fGpbzMaLCUlJQCARo0aKaUzv/FDk/9eBOqrjWurl/XN+oPdtmO8NCQkJMDHxwdnz55Famoqpk2bBldXV7i4uCAsLAxpaWlqyx09ehSBgYFwdXWFg4MD3nzzTSxdupT7MtBX/qVLl9C3b19s27ZNReeBAwfQt29fHD16lFfdjh07htDQULRt2xZ2dnZwd3fH3LlzkZeXx+XZuHEj/P398fDhQwDAsGHD4O/vj+DgYADAjRs34OPjg02bNhnEDzExMUhOTkZoaCheeeUVtG7dGrNnz0ZBQYHWuuiysyYpKSkICwuDs7OzTh179+7FwIED4eTkhJYtWyIwMBB//vmnVnu2bt0Kf39/3L17FwAQHBwMf39/LF++HIB6v/Gpg75+4luHEydOYPDgwXBxcYGbmxsmTpyIxMREwXm0wadP6PJfTRpa+wOax4Y+bVhRUYHly5fD09MTDg4OXHk+er///nv4+PjgxIkTavNPmTIFfn5+kMvlWu0WYoM+8xSf+UgXte2b9Q5Vo8a/DMYLxaFDhwgATZ8+nWxtbalp06YUEBBArq6uBIBcXFzo6dOnSmU+//xzAkCWlpY0dOhQCgoKInt7ewJAXbt2paKiIr3l7969mwDQBx98oGLr8uXLCQCtWbNGRf6MGTOU8m7bto0AkL29PY0cOZImTZpEbm5uBID8/Py4fCtWrCAPDw8yNTUlAOTu7k4eHh7Up08frfL19UNYWBg1adKE7OzsqH///mRtbU0AKCAgQGs76bKzug4vLy+ysbHhpWPBggUEgNzc3GjOnDk0YcIEsrKyIiMjI9q3b59Ge9auXUseHh5kZmZGAKh9+/bk4eFBCxYs0Og3IXUQ4ie+dTh48CCXb/bs2TRlyhRycHCgOXPmCMqjDb59Qpf/atLQ2r+6vppjQ582HD16NAEgW1tbCggIIBcXFxKJRNS5c2edY37Xrl0EgAIDA1Xk3rlzhwBQ9+7dddotxAah8xTf+UibfbXtm88bdbERC54YLw2KgQqARo8eTYWFhUREVFZWRr179yYAShP6qVOnCAC5urpSSkoKl15cXEwDBw4kAPTJJ5/oLd9QwVNsbCxt27aNZDIZl1ZWVkbu7u4EgBISEpTye3h4EAAqLS1V65+a8mvjh7Fjx1JxcTEREaWmpnJfrvHx8Sp1rokmO/XRERsbSwCoZ8+eXLsQEd26dYvMzMyoRYsWVF5ertWeLl26EADKyspSa4u6oLO+6uDn50disZgyMzO5fGVlZfTw4UPufz55NCG0TxBp9p8mGlL76wqe+NoRFRVFAKhVq1aUlpZGREQymYwL7HSN+dLSUmrcuDGZmppSfn6+ki1ffPEFAaDVq1drtVuoDULnKSHzkSa/1qZv1gfqYiN2247x0tGnTx/s2LGD23thamqKL774AkDVMrSC9evXAwA+++wzODs7c+kWFhZYunQpAKhdyuYr35D1CQ0NhUTybIuiqakpAgICAAD37t2rlXx9/dCvXz9s374dFhYWAABHR0eEhYUBAM6fP18rm4Tq+OGHHwAAX331ldKem/bt22PUqFFIT0/HpUuXDGKTUOqiDqWlpSAipdtnpqamaNmyJfc/nzya0LdPGJqG0v587YiMjAQALFy4EC1atAAASCQSfPnll5g6dapOPWZmZhg1ahSkUin27t2rdG3nzp2QSCQYO3asVhm1tUEXhpiPatM3GwpswzjjpaNDhw5KAxsAvL29IRKJkJSUxKVduHABADB48GAVGZ06dYKdnR1SU1ORnZ2NZs2aCZZfF2RlZSEtLQ15eXnIyckBAJ17jHShrx/c3d0hFiv//mrVqhUAID8/v1Y2CdWhOPTv/v37yMjIUMpfXFwMAHjw4AF69eplELuEUBd1CAoKwtmzZ+Ht7Y3Fixdj3Lhx3Be7Aj55NKFvnzA0DaX9+doRFxcHABgwYICKjHbt2vHSNWHCBPz888/49ddfMWnSJABVTzLevHkTAQEBsLOz01reEDbwRd/5qDZ9s6HAgifGvwKJRAJra2vk5uaipKQEFhYWePLkCcRiMRwcHNSWsbe3R1ZWFvLz83V+QaiTbyiICKtXr8bKlSuRkpJiMLkKDOkHxePpig2tdYE6HYqTrDX9spZIJHBycqozm4RS2zrMmjULpaWl3GrCBx98gLlz52LBggUwNjbmnUcThuwThqahtL86OxQBRPPmzfWW6+PjA2dnZxw7dowLTnfu3AmgKrDShSFs0IYh5qPa9M2GArttx/hXQEQoKiqCWCzmzpQxNTWFXC5XeZpMgWJCbty4sV7yRSIRd602LFmyBHPmzIGzszMOHDiAe/fuIT09HfPnz6+VXAWG9EN9YW5uDqDql7BMJlP5SKVS9O/fv56t1I6QOohEIsyfPx+PHj3CmjVr0LhxYyxevBjTpk3j5PHJo4kXrU80lPZX+KOoqEhvGWKxGOPGjUNFRQV+++03AMCuXbvQqFEjDB8+3OA2CJ2nDDEf1aZvNhRY8MR46VAs01cnPj4eMpkM7dq145bf27RpA6DqtRI1SU1NRWZmJhwdHVWWyfnKV0zo6h7fFTK5btq0CSKRCAcPHsSQIUPQpk0bODg4aDxPRzEZ8l390dcPtUWondpQ1CE5ORkSiUTlU/OWi6Go7zpYW1tj5syZiIuLQ7NmzRAZGYny8nLBeTTZUpd9or59Vxco9ofduHFD5ZqQ2+uKFaYdO3YgISGBe0ccnxVtoTYInaeEzkfa0KdvNhRY8MR46di2bRsiIiKU0hRnzgwdOpRLGzZsGADgyy+/hEwm49KJCIsWLYJcLkdISIje8hX7Cw4dOoSysjIuPSYmBl9//TXv+sjlcojFYpiYmHBpUqkUp06dUpvf1tYWAPDo0SNe8vX1Q20Raqc2FH5ftmyZ2l/QlZWVtdahjvqqQ83bJU2bNoW9vT0qKyu5fHzyaOJ59ImXof1r4u3tDeDZhnsFhw8fxrJly3jL6dixIzp06IAzZ87g22+/BcDvlp0+Ngidp4TOR+rg0zfLy8uxYsUKjefS1TdszxPjpcPKygoTJ05EdHQ0vLy8EBsbiz179qBZs2b44IMPuHyzZ8/Gzz//jCNHjsDHxwchISGQSCTYt28fDh8+jDZt2mDhwoV6y2/dujUGDBiA48ePo2/fvggODsbt27fx888/w9PTE1euXOFVn4EDB2LLli0IDg7GzJkzkZeXh+XLl3OHEtaka9euOH36NN555x0EBQXh1q1bKhNpdfT1Q20Raqc2pk+fjs2bN2P37t3Izs7GxIkT0aRJE2RkZODkyZM4d+4cUlNTDVyD+qlDTk4O3NzcEBISgoEDB8LKygq///47bt68iZCQEJibm/PKo43n0SdehvZXZ8eaNWvw22+/ITg4GP369cO1a9ewefNmdOrUifeYB4Dx48fj448/xpYtW+Dg4MD7tqNQG4TOU0Lno5rw7Ztnz57FvHnzAADDhw+vsz1ceqPrLAMG40Wh+pkiK1euJEtLS+5cky5duqich0RElJKSQoGBgSSRSLi8pqamNH78eMrIyKi1/KSkJO78GwDUuHFjWrFiBZ08eZIA0A8//MDlPXbsGAGguXPnKsnIy8ujwMBAToZIJKLAwED6448/CABt375dKX96ejp1796dy9+qVSut8oX6QZucLVu2EABauXKlyrWaaLJTXx2ZmZkUHBxMxsbGnEwA5OzsTEuWLNFpT8+ePUksFlNubi7v+tZXHWbOnEnm5ubcdYlEQpMnT1Y644hPHm0I6RPa/KeJhtT+mvTpY8fly5epffv2nH5ra2tavnw5nT9/ngDQhg0beMlPSUnhDh79+OOPBdktxAYiYfOUkPlIk318+uaNGzdIIpGQjY0NlZSUqK3/80JdbCT65wKAqnvQ1ADecM1g6MPhw4cxePBgzJgxA2vXrkVxcTHu3bsHGxsbuLi4aC1bUFCA5ORkiEQiuLm5wdLS0qDyk5KSUFBQgLZt23K/rAoLC2FlZaWUr6ioCBYWFmr3aOTk5ODRo0dwdHTkfoUVFxertRUAMjIykJeXh9atW3NPsGiTz9cPuuQUFhaiUaNG3J4WXaizszY6SkpK8ODBA1RUVKBFixawt7fnZYdMJkNFRYXaVRldfquPOkilUty7dw9isRitWrVSazefPLrg2ye0+U8bDaX9NenT147ExESUlpbi1Vdf5R4iKSoqgqWlpVJ+bfLLy8tRXl6udT+RtvJ8bVDAd54C+M9Hmuzj0zeLi4shkUhgamqqsf7PA3WxEQueGC8NNYObF00+g8FgMBoe6mIjtmGcwWAwGAwGQwAseGK8NChO/a55+veLIp/BYDAYLwbsth3jpSIjIwO2trZKj9G+SPIZDAaD0bBge54YDAaDwWAwBMD2PDEYDAaDwWDUEhY8MRgMBoPBYAiABU8MBoPBYDAYAmDBE4PBYDAYDIYAWPDEYDAYDAaDIQAWPDEYjDrl9u3bGDlyJHbs2PFcZZw+fRqhoaG4ePGi3nr/TTREfxmi77xoxMXF4e2330a/fv3w9ttv4+nTp/VtEkMNLHhiCIKIcPToUbz//vsICAiAj48Pxo4di5UrVyIpKam+zWM0QJKTk7F3716cO3eOV/79+/fDzs4O77//vt4yAODSpUuIiIjA5cuXBdtsCCorK7F69WoEBQXh7Nmz9WKDEOrCX3l5eVizZg1Gjx6NXr16YciQIVizZg3Kysp4lden3V9krl27hh49euCXX35BXl4e9u/fj4SEhPo2SyPqxuq/BXZUMoM3d+7cwYQJE3DlyhUAgJWVFaysrHD+/Hns3LkTH330ET755BOEh4fXs6V1z6+//oonT55g1qxZvF+A2xB1NETu37+P7Oxs/P333/Vtit4kJCRg6tSpXCAyYMAA9O7du56ter5cvnwZgwYNQm5uLsRiMYyNjSGVShEVFYXt27fj5MmTer2o+GVm06ZNKC8vx6ZNmzB16lRUVlbWt0laeRnGqr6wlScGL27duoWePXviypUrGDduHG7cuIGCggKkpqaiqKgI0dHR8Pf3R0RERH2b+lwIDw/H7NmzIZVKX2gdDZH33nsPJ0+exPbt2+vbFL1YtGgRunbtivT0dPTq1au+zak3Ll++jJYtW+KPP/5AcXExiouLsXfvXpiamuLixYvYsGFDfZvY4FAEIb6+vgAAIyMjGBkZ1adJWnnRx2ptYMETQyeVlZUICgpCbm4uFi5ciMjISLz++uvcdWNjYwwePBhRUVEvxO0JRsPGzMwMPj4+sLe3r29TBFNRUYGlS5fiv//9L27fvv2vW22qzttvv41r165h2LBhMDMzg5GREQIDAzF58mQAwIkTJ+rZwoZHSUkJAKBRo0b1bAk/XuSxWltY8MTQye7du3Hz5k288cYb+N///qc1r7Ozs9r0vXv3YuDAgXByckLLli0RGBiIP//8UylPQkICfHx8EBMTg+TkZISGhuKVV15B69atMXv2bBQUFOgtu6b8M2fOoFu3bnBycsKqVau4PMeOHUNoaCjatm0LOzs7uLu7Y+7cucjLywMAbNy4Ef7+/nj48CEAYNiwYfD390dwcLDedtVEm46TJ0+ib9+++Omnn1TKLVy4EP3790dycrJSulwux4gRIzB+/HiVMkePHkVgYCBcXV3h4OCAN998E0uXLuUmcV0QEX7++Wf4+PjA2dkZ7u7umDVrFlJTU9XmT0lJQVhYGJydnTW2640bN+Dj44NNmzbxsqGiogLLly+Hp6cnHBwcuDbWxIkTJzB48GC4uLjAzc0NEydORGJiokHqKpFIkJ6ejqVLl8LS0pKX/erQ1Q8V6DNmhPpLHXx8YWZmBrFY9SumdevWgnQpePz4MaZMmYKWLVvC1dUVU6ZMQUZGBnd948aN8PHxwfHjx9WWnzJlCvz9/TXeClP48uzZs0hNTcW0adPg6uoKFxcXhIWFIS0tTW05Q8w/W7duhb+/P+7evQsACA4Ohr+/P5YvX86VFzJWdc111a/fv38fwcHBcHJyQseOHfHNN99wcnbs2IFu3brBwcEBAwYMUHmYQN1Y1Xcez8zMxIwZM9C5c2e4uLigV69e8Pf3h7+/P9566y1kZWWpLVdvUDVq/MtgEBHRmDFjCAB9//33epVfsGABASA3NzeaM2cOTZgwgaysrMjIyIj27dvH5Tt06BABoLCwMGrSpAnZ2dlR//79ydramgBQQECA3rKry3/nnXfI3NycGjduTI6OjhQaGkpERNu2bSMAZG9vTyNHjqRJkyaRm5sbASA/Pz8iIlqxYgV5eHiQqakpASB3d3fy8PCgPn366G1XTbTpuH37NgEgT09PpTIymYwaN25MAOibb75RunbhwgUCQCNGjFBK//zzzwkAWVpa0tChQykoKIjs7e0JAHXt2pWKioq02klENGnSJAJAzZs3p5EjR5KXlxeJxWJyc3NT8buXlxfZ2NjobFdF/hkzZmhNUzB69GgCQLa2thQQEEAuLi4kEomoc+fOBIDWrFnD5T148CDXLrNnz6YpU6aQg4MDzZkzxyB1rcn8+fMFjx0+/bCmX4SMGSH+MqQvFLzzzjsa27Imivr16tWLmjZtSs2aNaOAgABydXUlANSqVSvKyckhIqLdu3cTABoyZIiKnFu3bhEA6tmzp05d06dPJ1tbW2ratKmSLhcXF3r69KlSGUPNP2vXriUPDw8yMzMjANS+fXvy8PCgBQsWEJHwsaprrlNcnzRpEjVu3JicnJyob9++nP7w8HCaOXMmAaAePXqQu7s7p//x48cqetSNVSF9Misri1q0aEHGxsY0fvx4mjFjBjk6OhIAcnV1JS8vL0pPT9fYdnWNutiIBU8MnbRu3ZoA0I0bNwSXjY2N5SatwsJCLv3WrVtkZmZGLVq0oPLyciJ6NugA0NixY6m4uJiIiFJTU7mJIj4+Xi/ZNeX379+f8vPziYi4iSc2Npa2bdtGMpmMK1NWVsZNHAkJCVy6h4cHAaDS0tJa1VkbmnS0a9eOAChNYmfPnuXq5uvrq5RfMfFu3bqVSzt16hQ3MaWkpHDpxcXFNHDgQAJAn3zyiVb7/vjjDy6QKygo4NLj4+MpODiY+19ouwoJnqKiorgv0bS0NCKqCiQVX2o1gwE/Pz8Si8WUmZnJpZWVldHDhw8NUtea6BM8CemHQn0r1F+G9IWiHnZ2dgSAjh8/rtMXmupXVlZGvXr1IgC0cOFCIiKSSqVka2tLxsbGlJWVpSRHMQbWr1/PS9fo0aO5sVtWVka9e/cmAFwwQ2T4+YeIqEuXLgRAyX59xqouXdWvh4aGUllZmVKdRCIRmZub04EDBziZoaGhBIAWL16sokfdWOXbJ4mI3n//fQJAkZGRXFp6ejpZWVlR9+7d1TXXc4UFTwy9UKxoPHnyRCm9Z8+eZGRkpPSp+cs4JCSEANDJkydV5I4fP54A0NmzZ4no2aDr168fVVZWKuVVfAlt2LBBL9nV5Ts5OXG/Vvnw4YcfEgD67bffuDRtwZNQuzShScdHH31EAGjjxo1c2uLFiwkAeXh4kImJidJk3rVrVzIyMlL61axYTfzpp59U9F67do3zkzaGDx9OAOj333/Xmk9ouwoJnhT+VFePqVOnqgQDvXv3JpFIRElJSVptrgnfutZEn+BJE+r6oVDfCvWXOvT1BRFReHg4AaABAwbwyq+oX58+faiiokLp2vHjxwkAdezYkUubMWMGAaB169Yp5W3Xrh0ZGxtTdnY2L13VA1ciohMnThAA6tChA5dWF/OPuuBJn7GqS5fiev/+/VX6jaenJwGgiIgIpXTFCnZgYKCKHHVjlW+fJCIuEK451/Xt25cAUElJiUodnifqYiN2VAFDJyYmJgCA0tJSpfSgoCC4u7sDAKRSKSIiIvDgwQOlPIp75Pfv31fanwAAxcXFAIAHDx4oPZXk7u6usleiVatWAID8/PxayQaAwMBA2NjYaK1zVlYW0tLSkJeXh5ycHADQeK++JvraxZfhw4dj2bJlOHjwIKZNmwYAiImJgYeHB8LCwjBv3jwcO3YMgYGByMrKwtWrV9G3b1/Y2tpyMi5cuAAAGDx4sIr8Tp06wc7ODqmpqcjOzkazZs3U2qE4sqJv37687ObbrkKIi4sDUHUUQE3atWunkqY4c8nb2xuLFy/GuHHjYGFhoVOP0LoaCr79kK9vhfpLHfr64sKFC/jiiy9gY2Ojds+eNjp06KDy1Jm3tzdEIpHS+XKTJk3CunXrEBERgenTpwMArl+/jjt37mD48OFo2rQpL10SifJXozpddTn/VKc2Y1WXrtdee02l37i4uOD69evw8PBQSlfsZ83MzORlt5DxbmdnBwB48uQJWrZsCQAgIqSkpMDU1JT7DmpIsOCJoRMnJydkZ2fj1q1bXMcGgLlz53J/Z2dnqz2mQHE67tSpU9XKlkgkcHJy0mmDYuKUy+UGl62AiLB69WqsXLkSKSkpvMvVxNB21aRHjx5o3rw5jh8/DqlUCplMhkuXLmHGjBkICAjAvHnzEBUVhcDAQBw6dAhEhMDAQCUZT548gVgshoODg1od9vb2yMrKQn5+vsbg6enTpzA2NlYKyoSirl2FoAgomjdvziv/rFmzUFpaii+//BJTp07FBx98gLlz52LBggUwNjbWWM4QdeWLofqhOt8K9Zc69PFFYmIihg8fDrlcjl27dsHFxUVv/QqMjY1hbW2N3NxclJSUwMLCAt26dYOHhwfOnz+PBw8ewM3NDTt37gQATJgwQW9dEolERVddj3MFhhirQqgZOCqo7VjVJmP8+PHYt28fpkyZghUrVsDCwgJr167FgwcPMG3atAZ5XAN72o6hE8Xj1r/99pvgsopD8LKysiCTyVQ+UqkU/fv318suQ8tesmQJ5syZA2dnZxw4cAD37t1Deno65s+fX6921UQsFmPo0KEoLi7GqVOncOrUKchkMvj5+cHd3R2urq44dOgQACA6OhoAVIInU1NTyOVyjU/VKb4YGjdurNEOExMTyGQy7ld2faCwr6ioiFd+kUiE+fPn49GjR1izZg0aN26MxYsXcyt4mniedTVUP1SHUH+pQ6gvHj9+DD8/P2RnZ2Pr1q3cGUa1hYhQVFQEsVgMMzMzLn3SpEkAwJ09tHPnTlhbW2Po0KEG1VXX41yBIcZqQyc3NxdA1aqmp6cn2rZti9WrV2P06NFKT/81JFjwxNDJlClTAADbtm0T/KqANm3aAKh6zYJEIlH5qHuUub5kb9q0CSKRCAcPHsSQ0moStwAAIABJREFUIUPQpk0bODg4qD1zRXHit7pfYYayS5uO4cOHAwCioqIQExMDExMT7jbK4MGDkZqaimvXriEmJgaenp4qv/QVNl67dk1FdmpqKjIzM+Ho6Mgtp6vDzc0NAHDz5k1e9akLFLcSbty4oXJN221Wa2trzJw5E3FxcWjWrBkiIyNRXl6uMf/zrKuQfigUff1VHSG+yMrKgp+fH5KTk7F+/XqEhIQIsPYZ6gKHGzduQCaToW3btkpjKjQ0FEZGRti+fTsuXryIpKQkjB49Gqamprx0qQsK4+PjIZPJ0K5dO05XXc5t1THEWG3ofP755/D19cWjR49w+PBh7N+/H/fv38fu3bsb7JlXLHhi6KRTp06YMmUKpFIpBg8erPYgTE1fPIpfe8uWLUPVvjtlavP6AUPLlsvlEIvFSvfXpVIpTp06pZJXccvi0aNHdWaXNh2+vr6wsLBAVFQUjh07hp49e3LnCgUEBACompBycnJUVp2AqrOjAODLL7+ETCbj0okIixYtglwu1/lFN2jQIADA119/rVTP0tJSLF68mFcda4u3tzcAYP369Urphw8fxrJly1Ty17wN1rRpU9jb26OyslJruzzPugrph0IR6i918PVFfn4+Bg0ahNu3b2PlypV499139bZ727ZtiIyMVEpbsWIFAKisKDk4OGDQoEG4c+cOPvroIwBVAZUQXTW3ICjOW6quqy7ntuoYYqw2dIqKinDz5k3uXXlt27aFmZmZWr82FNieJwYv1q5di5ycHOzduxfe3t7w8vJCjx49YG5ujqSkJERFRQFQXTqePn06Nm/ejN27dyM7OxsTJ05EkyZNkJGRgZMnT+LcuXMaD1TUhaFlDxw4EFu2bEFwcDBmzpyJvLw8LF++nDu4rjpdu3bF6dOn8c477yAoKAi3bt3ivpAMZZc2Hebm5hg4cCD27dsHAErvE+zfvz/MzMy4NlGsUlVn9uzZ+Pnnn3HkyBH4+PggJCQEEokE+/btw+HDh9GmTRssXLhQq31z5szBpk2b8Pvvv8PPzw+DBw9GTk4OIiIikJGRgUWLFtX5O/mmT5+ONWvW4LfffkNwcDD69euHa9euYfPmzejUqRO3uRmo2u/j5uaGkJAQDBw4EFZWVvj9999x8+ZNhISEaH3PmpC6hoeHIzs7GwC4F9ru3r0bt2/fBgCEhYXB09NToy4h/bAu/aUJvr74+OOPERcXB1tbW1y7dk1lz5FIJMLcuXPRuXNnnTpdXV0xYcIEHDhwAF5eXjh79ix27dqFpk2b4oMPPlDJP2nSJERHR+P06dNwcXHhgkY+WFlZYeLEiYiOjoaXlxdiY2OxZ88eNGvWTElXXc5t1THEWG3orFq1ClOnTlXpI+bm5hg6dCi+/fZbODo61pN1GtD1OB6DoUAul1NkZCT16NGDjIyMuLM8AFCLFi3ovffeo8TERJVymZmZFBwcTMbGxkplnJ2dacmSJVy+Y8eOEQCaO3euiowtW7YQAFq5cqVesnXJJyLKy8ujwMBAToZIJKLAwEDuXJvt27dzedPT06l79+5c3latWultlyZ06YiIiCAAJBaL6erVq0rXhg0bRgCobdu2GuWnpKRQYGAgSSQSToepqSmNHz+eMjIyeNmYkJCgZCMAev311+nQoUNcHqHtqi6/NhmXL1+m9u3bc/qtra1p+fLldP78eZXHomfOnEnm5uZcXolEQpMnT1Y62qE2dSUiatasmVKemp8ff/xRqx4h/VCfMSPEX7XxheJcIG2f6nVRh6J+ERERtHTpUrKwsODKduzYkeLi4tSWKysro+bNmxOg+7wyBdUfu1+5ciVZWlpyurp06aJ0vpYCQ84/RFXHv4jFYsrNzVVKFzpWdenSdn3s2LEEgG7evKmUnpWVRSKRiLy9vbXK0adPTp48mcRiMa1cuZIOHDhAu3btoo0bN9KIESMIqDqosz5RFxuJ/rkAoOqXADXgZTJGw6GoqAhpaWkoLS1F8+bN0aJFC51lSkpK8ODBA1RUVKBFixZq34dUVFQECwsLtfsFCgsL0ahRI7WrGXxk65KvICcnB48ePYKjoyP3VFJxcbHa121kZGQgLy8PrVu3Vvu0Fl+7tKFNR3FxMYyMjJQ2zAJVS/qFhYWwtLTU+aRKQUEBkpOTIRKJ4ObmptdrRdLS0pCRkYHmzZurfUWP0HZVl19X2yUmJqK0tBSvvvoq54+ioiJYWloqyZZKpbh37x7EYjFatWqldcVJn7oaCr79UN8xw9df2ngevigqKuL2vRQVFSExMRFNmjThHnvXRLdu3XDlyhX8/fffeO2113TqOXz4MAYPHowZM2Zg7dq1KC4uxr1792BjY6Pz6UBDzT8ymQwVFRUa+6SQsapLl6brFRUVkEqlamWXlJTA2NhYaR4SOlZr9snz58/Dy8sL7777rtqXRbdv3x537txBbm4urK2tNda3LlEXG7HgicFgMBgvFfHx8fD09ETnzp1x9epVXmVqBk+M50NkZCTGjx+PTz75BF999ZXStZycHO5diNnZ2fV2ZIG62IjteWIwGAzGS4XiRbW1OduJ8Xzw9vaGmZkZVqxYgfz8fLz55puwtLREcnIyNmzYgLy8PKxatarBnfXEgicGg8FgvDQQESIjI2FpaYlx48bxLqc4HFLTIZGMuuGVV17BiRMnsGjRImzevJl7KEYikaBr165YunQpRo8eXc9WqsJu2zEYDAbjpSInJwempqaC9+9lZGTA1ta2Qb4O5N+AXC5HTk4O5HI5bGxstJ76/zxhe54YDAaDwWAwBKAuNmKHZDIYDAaDwWAIgAVPDAaDwWAwGAJgwRODwWAwGAyGAFjwxGAwGAwGgyEAFjwxGAwGg8FgCIAFTwwGg8FgMBgCYMETg8Goc27fvo2RI0dix44d9W3KvxLmfwbDsLDgicFg1DnJycnYu3cvzp07V9+m/Cth/mcwDAsLnhgMxkvBr7/+itWrV/9rD/r9t9f/ecJ8zWDBE4PBeCkIDw/H7NmzIZVK69uUeuHfXv/nCfM1gwVPjJcWWYUccrnuX4al0kqN1yrlhJKySvD9gVlRSSivkNc6jy6E2iUUqUwuyEZtPmQwGIyXDRY8MV4qSqWV2Bz9EOPDryBg/nkMnn8ec9fewNU7eQCAvWfSMSH8Cr785Q4yc6SY9V08hi24gA/W/8XJqKgk/HY6De+siMPgj/7E8E8vYMjH5/HxDzdxPTFfRWelnLAnNg2TvrqKgPl/4q355zHxq6v47XSaoDy6EGLX+n0PMCH8CqYtj0NGTpnStdxCGd5deR0Twq9g65FHXLpUJscvR1Mw4csrGPLxebw1/zzGh19BxNEUVFQ+i9L4+FAbjx8/xpQpU9CyZUu4urpiypQpyMjI0Jh/7969GDhwIJycnNCyZUsEBgbizz//5K5v3LgR/v7+ePjwIQBg2LBh8Pf3R3BwMADg5MmT6Nu3L3766ScV2QsXLkT//v2RnJyslC6XyzFixAiMHz9ekC365E1ISICPjw9iYmKQnJyM0NBQvPLKK2jdujVmz56NgoICjb7hU/+apKSkICwsDM7Ozjp1CKmvpnqdPXsWqampmDZtGlxdXeHi4oKwsDCkpan2/WPHjiE0NBRt27aFnZ0d3N3dMXfuXOTl5amVHRMTgzNnzqBbt25wcnLCqlWrBNsvxP98fX3ixAkMHjwYLi4ucHNzw8SJE5GYmMjLb4wXAxY8MV4apDI5Plj/F3Ycf4wnuVXL6XI54a+kAizZdhsA8DirFJm5UtxMKsDHG2/i9qMiAODyV8oJC3/6Gxv+SEJSegm3slNeIcfVu3n4aMNfOHb1iZLeTQeS8cP+JKQ9LYNYJILESIT0p2WIPJYiKI82hNolMRIjM1eK5IwSxF7PVpJ17q+neJBWjMxcKUwkVVNARSXh4x9uYtuRR8jMkUJiJIJIVOWXrUceIXzbHa68Lh9q4/r16/D09MT+/fvRoUMHiEQibN68GV5eXsjNzVXJ/+mnn2LkyJG4f/8+xowZg759++LEiRPo06cP/vjjDwBAYWEhHj9+DJlMBgBITU3F48ePuYDM0dERp0+fxtq1a5VkV1RUYM2aNTh58iT27t2rdO3y5cvYt28fSktLBdmiT960tDTExsYiMjISnp6eOHLkCNq2bYucnBysXr0a48aN0+pTXfWvTlxcHN544w1ER0ejXbt2WnUIqYM6FPXasWMHOnbsiL1798LDwwNisRhbt26Fl5cXcnJyuPy//PIL/Pz8EBMTgw4dOuCtt96CVCrFqlWrMGbMGLWy9+zZg0GDBuHu3bsAgGvXrgm2X4j/+fg6KioKAwYMwN27dzFixAj0798fMTExWLdunU6fMV4gqBo1/mUwXii2HHpIvv89S77/PUuTl16lE9ey6OyNbPrflls09JPzRES0+rf7XB7f/56l8Usu07Idd2np9rtERLTzxGPu2sSvrtDp+Gy6/aiQ1vz+rNywT85TcVkFERGVSito0IfnyPe/Z+mDdTeoTFpJcjnRXw/yaXN0Mu88uhBq162HBVz6rO/ilWQt2HiTu/Yos4SIiCKPpXBpmw4kUbmskorLKmjR5ltc+pXbubx8qI5Dhw4RAAJAY8eOpeLiYiIiKisro169ehEAWrhwoVKZ2NhYAkA9e/akwsJCLv3WrVtkZmZGLVq0oPLyci7dw8ODAFBpaamK/nbt2hEAevz4MZd29uxZziZfX1+l/J9//jkBoK1btwq2RajdmnyTmppK9vb2BIDi45XbUB3a6i9Uh9A6qKO6ztGjR3NyysrKqHfv3gSAFixYoKRz27ZtJJPJuLSysjJyd3cnAJSQkKBWdv/+/Sk/P5+IiIqKigTbr4//tfnaz8+PxGIxZWZmKtXj4cOHWv3FaLioi43YyhPjpeHI5aqVF5EICJ/qjn6dmqHX603x+aT22DSvk0p+VwcLbPjAE/PGvor5Ia8CAA78mfFMxhR3eHdsinavNMLMEW7o0tYaAFAircTFv6tWSSoqCZX/7KuSVcohEleV9WjVGJMHu/DOowuhdrVvaYXmNqYAgNuPCpFTWA6g6rZm3D+3+NxaWOKV5uYAgOgLmQAAGytjTA5wgbFEDAtTI7wd8My+C38/WyXQ5kNt9OnTBxEREbCwsAAAmJqa4osvvgAA7N+/XynvDz/8AAD46quv0KhRIy69ffv2GDVqFNLT03Hp0iWdOgFg+PDhVfWMjubSjh07BgDw8PDA6dOnUVRUxF2Ljo6GkZERhgwZItgWfe3u168ftm/fzvnG0dERYWFhAIDz58/zqqcu+OowpO/79OmDHTt2cHKqt/mBAweU8oWGhkIikXBppqamCAgIAADcu3dPRbaTkxP27NmDxo0bAwAsLS31tt9Q/i8tLQURoaSkRKkeLVu25C2D0fCR6M7CYDR8cgtlyMqrum3kYm8Bx6ZmStft/wkkqvN2gAsamT8bAnlFMm5/kLOdORdYKHjzNRtcvVu19yIpvRj9OjVDI3MJWrWwQFJ6Cf5OLsTEL6/Cv7s9hvR0QLMmJgDAK09SegmW7biL6vvbRSJg1gg3ONmZC7YLAPp0bIo9sWkgAs7fzMFbPRxw5U4eZP9sBO/zRlMAQEFxBSdfYiTGtmr7oGQVzwzKVHNbrqYPddGhQwcYGRkppXl7e0MkEiEpKUkp/eLFiwCA+/fvq9yCKi4uBgA8ePAAvXr10ql3+PDhWLZsGQ4ePIhp06YBAGJiYuDh4YGwsDDMmzcPx44dQ2BgILKysnD16lX07dsXtra2gm3R1253d3eIxcq/Z1u1agUAyM9X3WunD3x1GNL3HTp0UAqIAM1triArKwtpaWnIy8vjbu2p25cVGBgIGxsblXR97DeU/4OCgnD27Fl4e3tj8eLFGDduHBeQMV4eWPDEeCkoKJFxf1s3MuZVxtRYeaLMK9Iuo3paSbWnyxZMaIdFm28h7WkZnhaUY3tMCnadTMV7w1thqJcDrzxpT0uRmFqsovPRk1JYVgtOhNjl3bEZ9sRWbcr980ZV8HT+5rPVoz5vVAVZ+cXP6p2VJ0XksccqOgBAYiRSSavpQ30wNjaGtbU1cnNzUVJSwn3RPH36FAAwdepU9fZIJHBycuKlo0ePHmjevDmOHz8OqVQKmUyGS5cuYcaMGQgICMC8efMQFRWFwMBAHDp0CESEwMBArrwQWwxptyLQlMtr93SmUB2GrIOm8jXbnIiwevVqrFy5Eikp/PYCasJQ9uvj/1mzZqG0tBRffvklpk6dig8++ABz587FggULYGzMb25iNHxY8MR4Kaj+xV5UWqGXDJNqgUBxqeqj9wUlz+RWX21xdbDAT/M74/jVLBw8n47bj4ogq5Bjze/34e5ihdZOljrzvO76/+ydeVxUVfvAvzOsgiiiLAopoqnhEqbm624uoOZCpam4/9Qy9xbzzUwtrUzzfXvVzDLX3EpTSkETF3ApzRXNNHEhFAFBBNkZ4Pz+mObKMMMwM+CSne/nM58PnPvc53nOuefeeeac55xbhRFBtSkqtveASqXi2aeqkae59+C2xK+n6rjg7upAcloepy+nk5lTwLELqYrPuhEsXdI4QG3PSnpTdTrUKhWNfauU0nLlQwhBZmYmarUaR8d7I4aVKlUiLS2N5ORkXF1dDX1Sqw1GCkpDrVbTp08fVq5cSWRkJBqNBo1GQ/fu3fH398fX15ddu3YB96b2igdPlvhSkX4/LO53HYxd87lz5zJ79mzatGnDsmXLaNSoEZUrV+azzz7jk08+eaT8N4VKpWL69Om8+uqrrF+/ngULFjBnzhyuXbvGmjVr7otNyYPn0b6DJRIz8XB1UAKo2MRsvVEkgNS7+WbpsPsrkIi7la03IgNwJube0H29Ws56x2xtVAQ968GSKU8zsIsPAEJA9JV0s2SqVrZjaOATDA+qrXyGBT5B9Sr2VvulUkGHZtqpOU1BEWt2x3E3Sxtodfpr1AmgelV7JYDKyC6g9VNutGtSXe/TprEbVZzL/1ureB6IjnPnzqHRaGjQoIHeF1r9+vUB7atFbG1tDT4lv/xUKu31L22UQJf3FBYWRkREBPb29nTq1AmAnj17Eh8fz6lTp4iIiCAgIIA6de4FkZb4YqnfFUVZ9beEiqyDbpqsONHR0Wg0Gho2bKjoWrFiBSqVip07d9K7d2/q16+Pl5eXXs7Sw/DfGOa0taurKxMnTuT06dPUqFGDjRs3kp9f9nNI8vdABk+SxwI7WzXPPKn9hVlQKJi77g/Ox2YQcyOTr8P+ZNiHJ8vcUNLWRkXLhvd0LNwUw82UXDKyC9h28CY/n9dOBVRxtuXZp7R5FnezCvh8+1Vu3r63l5JrsSDD3k5tlkxF+6WjY7EgaefPiUbLbW1UtGyk1X8nQ8MXP1wjL//el0JcUg5bIuMNAlJrWLduHRs3btQr+/TTTwHo06ePXrnu/wULFhh9DUZhof4onC4/KS4uzkAWoFu3bjg5OREWFsbevXtp06aNkmCsS0qeNWsWqampeqNOlvpiqd8VRVn1t4SKrMO6detYv369XtnChQv17IA2EFGr1djb2ytleXl5REZGWuK6nt77dQ1MtXXJKcfq1avj6elJYWHhfbv2kgePnLaTPDaM7FmbUzFpFBQKzl5JZ+qSs8oxtVpl1nuoRj9fh9Mx6eTmF3Lswh2OXTipd1ylgin96yu5PnezNYQeTuCHIwl4VHPAzkbNjWTt3kCVK9nSvml1s2Qq2i8d/nVccK9qT3J6vrLiz9fLidqe+knn/9erDqcuafX/eCSBHT8nUM3FnqycAmXasEndKmbnk5WGr68vQ4cOZceOHbRt25bDhw/z3XffUb16dd5880092fHjx7Nq1Sq2bNlCSkoKw4cPp2rVqiQmJnLgwAGOHDlCfHy8It+yZUsOHjzIK6+8woABA7hw4QLLli1TjleqVInAwEBCQ0MB7Ss2dHTp0gVHR0fCwsKAe6NU1vhiqd8VRVn1t4SKrIOLiwvDhw8nPDyctm3bKvsz1ahRQ++aBwYGsmbNGgYOHMjEiRNJS0tj4cKFyh5OD8t/Y5TW1qmpqfj5+RESEkJgYCAuLi5s27aN8+fPExISQqVKlcpWLvlbIIMnyWPDkz6Vmf9qYxZ/f4W4pHubG7pVsWd40BOo1SoqOWgTQFUqlL+LU8fTif9ObMrn26/y2zX91T1+tZx5pbcvLRrey6HwcnOkXZPq/Hz+Nkmp91ajPV2vKuP61cW1sh2VK9mWKVMWlvqlQ6WCHq09+WbPdeX/oGc9jer/36SmfB56jXNX0xHi3lSnva2aFg1dqe2pTeQuqw2NoUuUff/997lx4wYffPABmzdvBqBZs2asXbsWT099v5ydnYmKimLy5Mls27aNAwcOKMd8fHx47bXX9OSnTZvGkSNHOHToEIcOHVJWShWnf//+hIaGolar6dmzp1Lu5OREYGAgP/74Iw0aNCAgIMBqXyz1W9c2xUdczDlWElP1t9SGpXUwxdChQ/Hz82PWrFls2rQJgBYtWrB69Wo8PDwUuc8++4y0tDRCQ0MJDw9HpVLRr18/5syZQ79+/fT8K6tdLPHfmvYvra3d3NwYN24cK1euZN26dYA2OX3UqFEsXrzYzBaT/B1QiWI/x1Uq836dSySPOgm3c0nN0FDFyRYf90qoii0Uy84rxNZGpZcobYy0TA03U3IRQuDh5oh71dK/wDJzCrh+Sxuwebk5Us3FMCAyR8YcLPFLR35BEZoCgb2tSsmfKo27WQXEp+RQUChw+av9Sq60M7cNi5OZmankr2RmZnL58mWqVq1qNMgpSXZ2NlevXqWgoICaNWsaBFrFSUxMJC0tjXr16hld3ZSVlYWNjY1ecjpok5gzMjJwdnY22E7BWl/Mlc3MzMTJycloLk5GRgaVK1dW8mzKorT6W2vDkvoWZ/fu3fTs2ZMJEyawdOlSsrKyiImJoVq1anr5ZCVJTU0lLi6OWrVqKcFVVlaWMsVqTn0s9d/atimtrfPy8oiJiUGtVlO3bl054vQ3x1hsJIMniUQikVQ4JYMnieTvirHYSCaMSyQSiUQikViADJ4kEolEUuHodhUvubu4RPI4IKftJBKJRHJfSExMxM3NzayEd4nkUUXmPEkkEolEIpFYgMx5kkgkEolEIiknMniSSCQSiUQisQAZPEkkEolEIpFYgAyeJBKJRCKRSCxABk8SiUQikUgkFiCDJ4lEIpFIJBILkMGTRPKAuXjxIi+++KLyktRHiYrwzVIdBw8eZNiwYRw7dsxqm48Lj3LfkGi539foYdyDEsuRwZOkTO4WZPPuhQ1MPPsVk899zaLLP5CuyTZ5zvrrUUw59zUTz37Fm7+t5lp20gPy9tEnNjaW7du3c+TIkYftigGW+vbjjz/i7u7O5MmTrdbx66+/sn79eo4fP26Vz6YoLCxk8eLFDBgwgMOHD1e4flMYa5uyeJT7hkTL/b5G9+setKY/SkpH7psvKZNtN4/y0aWtemVHUi+y7dnpRuVDE44x7NRnemWFoojPmo622ocCUch/r+wgXZNFW7dG9PJs8UjoKo3Nmzdz69YtJk2aZPRt7I8LV65cISUlhd9///1hu2LA2bNnGTNmjBKUde3alfbt2z8w+6W1zT+lb0geDObeg6bkZJ+0HBk8Scokt0ij/G2ntkFTVMgPiceIz72Nt2N1A/nlsT8BYKuyoUAUGuiwhpT8DN4+vxaAru7NyhXwVKSu0pg3bx7nz5/nlVdewdHRscL1Pyq89tprNG/enKeeeuphu6LH7Nmz+fjjj/H09KRdu3YPZSSntLb5p/QNyYPB3HvQlJzsk5Yjp+0kFtHdPQCAIiHYcP2gwfH43NtEJJ8BINAj4IH6pkMgSNdkk19UUCH6cgrzyx38Pa44OjrSuXNnPD09H7YrCgUFBcyfP5833niDixcvPtDRpuI8im0jefwwt5/J/lixyOBJYhG9PFtQxdYJgG9uRBocXxt3gKK/3gEU4tOxVD0fx3xP3YhXabJ/CtdzUvSODTzxKb4Rr9DlyCwAZvy+nm5HZivHj925REDk6zSPfINjdy4B2pGtRZd/4F8Hp+OwYwCu4UNw3PEyjfdPZtm1Xcq55ugCbcD0/h/fUjfiVZx2DqTSjpeps+cVPvjjOzRFhaXW66uvvqJHjx78+eefAPTt25cePXowcOBAo/LXr19n5MiR+Pj4UK9ePaZMmcLdu3eNym7fvp3AwEC8vb2pXbs2wcHB/Pzzz6X6UhIhBKtXr6Zz5874+Pjg7+/PpEmTiI+Pt9q3c+fO0blzZ1asWFGm/YKCAhYuXEhAQABeXl507tyZiIgIs/03tx62trYkJCQwf/58nJ2dLdZ/4MABOnXqxMqVKw2OzZw5ky5duhAbG6tXXlRUxAsvvMCQIUOUspJtcz/7Rkn2799Pz549qVOnDn5+fgwfPpzLly8byO3Zs4fg4GB8fX3x8vLi2WefZf78+WRn6+c0nj17VrleV65cYeDAgXh7e9OsWTP+85//KHKbNm2iVatWeHl50bVrV5OLAMrTn3X+HD58mPj4eMaOHYuvry916tRh5MiR3Lx5s1T/Dx06RKtWrfD29uazz+6lF5jbFsW5ceMGo0ePpnbt2vj6+jJ69GgSExONyu7du5dhw4bRoEED3N3d8ff35/XXXyctLa1c+s29B43JmeqTX331FZ07d2bfvn1G9Y0ePZoePXpQWFj68/BxRgZPEotwUNsSXLM1AL/djeNM+jW942uvHwCgjVtD6jl7larn/N04YrNvcT4jjtv5GXrHTqZd4c/sZH69EwPAqfSrnM+IU45nFuQSnR7LmfRrXM7SPkhm/L6et86v4didS0pwIxD8nnGdCWe/Yum1cLN15RcVEPjLHOZc3Exs9i3s1DaoVSricpKZfXETL59YWGq9MjIyuHHjBhqNdqQqPj6eGzduGH2gnj59mqeffprw8HAaNmy8niA4AAAgAElEQVRIamoqixcvZvDgwQay7777Li+++CJXrlzh5ZdfplOnTuzfv5+OHTvyww8/lOpPcUaNGsX//d//ceHCBVq3bk21atVYtmwZHTsaBrnm+hYfH09UVBTR0dFl2h88eDBvv/02169fp0WLFsTGxhIUFGTxiiBz6uHm5maRzuLUqlWLgwcPsnTpUr3ygoIClixZwoEDB9i+fbvesePHjxMaGkpOTo5SVrJt7lffKElYWBhdu3bl0qVLvPDCC3Tp0oWIiAg+//xzPbnZs2cTFBTE3r17adasGR07diQuLo533nmHTp06kZWVpcjevHmTqKgoNmzYwDPPPMORI0d48skniYmJ4c033+TDDz9k0qRJhISEYGtrS/Xq1dm/fz9du3Y1GpyXtz/r/Nm0aRPNmjVj+/btNG7cGLVazdq1a2nbti2pqakG8lu3biUoKIhLl7Q/lE6dOmVxW+g4c+YMAQEB/PjjjzRt2hSVSsWqVato27Ytd+7c0ZP95ptv6N69OxERETRt2pTnn3+evLw8PvvsM15++WWjdTRXv7n3oDE5U33Szc2NqKgovQBTx8WLF1m1ahV3797FxsbGpN3HFlGMEv9KJEIIIb64tlsQGiwIDRYrYveIXUmnlP/fOLdKkTt8+4JSvvRquPgl9Q/l/1fPfKGnc8iJ/yjHTqdd1TtWL2KcIDRYOO8YJIQQYnfSKTH9/DpFvl7EODH3j+/EvD+2iBs5KUIIIaac/Vo02jtBLLkaJs6mx4q47GSxvJjfTfdPMVvXR5e2KsffPr9W5Bbmi7uabBF87GOl/Kek0ybbrHHjxgIQOTk5Bsd27dolAAGIQYMGiaysLCGEEPHx8cLT01MAIjo6WpGPiooSgGjTpo3IyMhQyi9cuCAcHR1FzZo1RX5+vkl/fvjhBwGIgIAAcffuXaU8OjpaDBw40GrfdPITJkwwWRYWFiYAUbduXXHz5k0hhBAajUbMmDFDsbdkyRKTdbCkHsWZPn26AMQXX3xh9LgxGjZsKABx48YNpezw4cOKr926ddOTnzVrlgDE2rVrlTJj7SBExfYNY3Tv3l2o1WqRlJSklOXm5oo///xT+T8yMlIAwtfXV1y/fl0pz8rKEoGBgQIQ77zzjlG/hg0bJnJzc4UQ9/qmSqUSlSpVEjt27FDOGTZsmADEnDlz9PyriP5c3J/+/fsrenJzc0X79u0FIGbMmGFUvkuXLiI9PV0IIURmZma52qL4NcrNzRXt2rUTgJg5c6ZBndetWyc0Go3eNfH39xeAOHv2rNX6zb0HS+uPQhjvk3l5ecLNzU3Y2dmJ5ORkPXldf1+2bJnhxXkMMRYbyZEnicV0c29GDfsqAGy8cZBCUQTAmrj9gDZRfKB3uwqzF+TRnKn1+ij/+zp5MLPBAN5t0F9JWF/YeCQXui5lYt1eNK1Shycq1eBV3yCedK4JwJW/RpXM0bUiVjuV5OngyodPDcFBbYeLbSU+emqoct7OpBPlrtdzzz3Hhg0bcHLSToPWqlWLkSNHAvDLL78ocl9++SUAH330EZUrV1bKGzVqxEsvvURCQgK//vqrSVurVq0CYNasWbi4uCjlzZo1Y/PmzVb7Zi4bN24EtNNeNWtqr4mtrS0ffvghY8aMMVuPpfWwln79+gEQHh6ulO3duxeAxo0bc/DgQTIzM5Vj4eHh2NjY0Lt37wqxX572z8nJQQihN93k4OBA7dq1lf+XLVsGwHvvvYePj49S7uTkxPz58wFYt26dge4uXbqwZs0aHBwcAOjYsSMBAQEIIVixYoVe/SdMmABoR1CKUxH9WUfHjh3ZtGmTosfBwYEPPvgAgB07dhjIe3t7s3XrVqpU0T6/nJ2drW6Ljh07sn79euUaFbf9448/GsgOGzYMW9t7a7QcHBzo1asXADExMeXSfz+wt7dn8ODBaDQavvvuO71j3377LXZ2dqWOmv0TkMGTxGJsVTa8VKsNAIl5aexNjianMJ/v4rUrmoI8ApTg6kFhp9YOHV/LTmJbwlGWx/7E/67uVBK988xM+L6dn6HsSWWvtmXOxc3MvLCBmRc2sCru3tz/n9nJ5fbZ398ftVr/Fqxbty4A6enpSpkub+TKlSts3rxZ76ObTrh69apJWydOaIO9Tp06Vahv5nL69GlAu11ASRo2bGi2HkvrYS264Gnnzp1KWUREBI0bN2bkyJHk5+crwVRycjInT56kQ4cO5ZouLE552n/AgAEIIejQoQMrV640mrNz9OhRAHr27GlwrHnz5ri7uxMfH09Kin4+4lNPPWXgV506dQBtUFkcXSCSlKS/x1tF9GcdTZs21QtIADp06IBKpeLatWsG8sHBwVSrVk2vzNq2aNq0qcGUlSnbOpKTk4mOjiYqKkqZWjSWy2at/opkxIgRAKxfv14pO3PmDH/88Qe9evWienXD1db/FORWBRKrGOTdni//2pLgm+uRJOfd5W6B9iE99InOD9yfq1lJjDy9mEO3y7ffUEr+vYfY9ZwUPiyxv5UOXbBW0egelkVFRUrZ7du3AUodobG1tcXb29uk3tu3b2NnZ1euL3djvpmL7kvCw8PDavtQMfUwh3/96194eHiwb98+8vLy0Gg0/Prrr0yYMIFevXoxbdo0wsLCCA4OZteuXQghCA4Ovq8+mdv+kyZNIicnRxnVe/PNN3n99deZMWMGdnZ2ANy6dQu1Wo2Xl/G8RE9PT5KTk0lPT6dGjRom7ZUMXsrytyL6c1n+uLq6cufOHbKzs5WRm9KoyLaws7MzalsIweLFi1m0aBHXr1+3rmIm9N8vWrVqRePGjfnll1+4evUqfn5+fPvttwAMHTq0jLMfb+TIk8QqOlZvTC1H7RfY9oRjfP5XQnZlW0f6erUq8/ziG7EVIcrli0DQ99hHSuA0/InnWP70ODa1fBM/Z8uW5Tqo7ZS/n3LxYfuz/zb4/ND6Hb58+rVy+WwJlSpVArS/WDUajcEnLy+PLl26mNRhb2+PRqMxmvj6INBNkxSf6rKGB1UPtVpNnz59yMrKIjIyksjISDQaDd27d8ff3x9fX1927dKu4tRN7d3v4MlcVCoV06dPJy4ujiVLllClShXmzJnD2LFjFRkHBweKiopKXUmmC3B0160iqYj+bAohBJmZmajVarP2LKrItijN9ty5c5k6dSo+Pj7s2LGDmJgYEhISmD7d+EbDluq/n+hGnzZs2ABop+xcXV3p06ePqdMee2TwJLEKtUrFgFptAcguzOPoX8v8X6zZBicbhzLPr6S2V/6+mnVvtdGFjBsk5hou3S2+523JKbiYzARlBV1wzdasfWYyr/oGMci7PdXsKlMSU7q8Havj+FcAlZqfyfOeLQmu2Vrv09frWarbu2AKXXBozShNSerXrw9oX7lga2tr8Ck5jWIMPz8/AM6fP19uf6xBN4Vz7tw5g2PmLr+HB1sP3dRdWFgYERER2NvbK9OFPXv2JD4+nlOnThEREUFAQIAyfVUWFdk3TOHq6srEiRM5ffo0NWrUYOPGjeTn5wP3+pRutVlx4uPjSUpKolatWri7u1e4XxXRn3UYC6Kjo6PRaDQ0bNjQLF3WtoWxYOvcuXNoNBoaNGigZ3vFihWoVCp27txJ7969qV+/Pl5eXno5XyWxRH95MdUnhw0bho2NDRs2bODYsWNcu3aN/v37K3lv/1Rk8CSxmkE+HQzKhj5hXi7Kk5VrKX+/e2ED4UknWXv9AJ2OvEtWYa6BfBVbJ1R/hT2n0q4SkRxNZMpv3MxN1ZNLzc9E/DWStTPxBOfvxlmky05tQ5BHcwCS8tKY+ttKsgvzlHMvZNzg08uh3MoznXeim1aKizO0bym6X3gLFixACMNROnP2WQkKCgLgk08+0dORk5PDnDlzyu1jWXTooO0ruuRcHbt372bBggVm63mQ9ejWrRtOTk6EhYWxd+9e2rRpo+wbpUv0nTVrFqmpqRaNOlVk3zBGyWmh6tWr4+npSWFhodJX+vbtC8CHH36oLFMH7cjG7NmzKSoqIiQk5L74VxH9Wce6dev08nEAFi5cqGenLKxti3Xr1ikLIXR8+umnRm0XFRWhVquxt7/3ozEvL4/IyMhS/bJEf3kx1Se9vLwICgrijz/+4O233wa0AdU/HZnzJLGaf1VrQF0nTyXB2svBlS41mpp17vAnOjPrwkZyizRcyrzJ80fnKccaVfbmYqb+3jCVbOzpUN2fg7fPk12YR+DPcwBY3+J1Qnw60KRKbX67G8fB2+epv/c1nG0cOXf3T2xUhr8PTOka4tORj/yHsjf5LFmFuSy7tovlsbvxdHAlTZNFTqH2l3v76v54OFQttX4tW7bk4MGDvPLKKwwYMIALFy4YBA7mMn78eFatWsWWLVtISUlh+PDhVK1alcTERA4cOMCRI0dK3ehSx9SpU1mxYgXbtm2je/fu9OzZk9TUVNavX09iYiKzZ8++r++0Gj9+PEuWLOH7779n4MCBPPfcc5w6dYpVq1bRvHlzJRG8LMytx7x585QEX92rWbZs2cLFixcBGDlyJAEBpnfAr1SpEoGBgYSGhgLaV1jo6NKlC46OjoSFhQH3RqnMoSL7RklSU1Px8/MjJCSEwMBAXFxc2LZtG+fPnyckJESZMpsyZQqrV6/mp59+onPnzsr+TKGhoezevZv69eszc+bMCvGpJBXRn3W4uLgwfPhwwsPDadu2rbKXU40aNXjzzTfN0mFtW/j6+jJ06FB27NhB27ZtOXz4MN999x3Vq1c3sB0YGMiaNWsYOHAgEydOJC0tjYULFyr7TRnDEv3lpaw+OWLECMLDwzl48CB16tRRfgz9k5HBk6RMXGwrGf0bYEydbrx7QTsXPrpON71gxdnGAbVKRZEQVClxnqeDK+taTOWVM8tI02iH3j0cqrKo8ShSNZlMOfc1Trb2eucsbTaWAccX8sdfgZWtyoZ6zl6oULG11dsMPfkZJ9IuczVLG8wFegTQ27Mlk899bTCVWJouAH+XJzjS4WOm/PY1B1N+p0gIEnK1m9I5qu0I9GjOU5V9MMW0adM4cuQIhw4d4tChQ8pKKUBJ2i3+K9TUMWdnZ6Kiopg8eTLbtm3jwIEDyjEfHx9ee63s/CsvLy8iIyMZO3Ys+/btU3YNbtKkCV9++aUSOFnqm7llHh4e/PTTTwwbNozvvvuO7777DldXV+bPn0/79u1p06aNcl5F1ON///ufweqo/fv3s3+/djuNpk2blhk8AfTv35/Q0FDUarXeaiwnJycCAwP58ccfadCggVFdpbVlRfaNkri5uTFu3DhWrlypLK+3tbVl1KhRLF68WJGrWrUqhw4dYtKkSezcuVPZ2dvBwYEhQ4awaNEiqla99+PAGr9sbW1RqVQG5RXRn3UMHToUPz8/Zs2apWy22qJFC1avXq23OMGU/9a2xfvvv8+NGzf44IMPlG0ymjVrxtq1aw1egfLZZ5+RlpZGaGgo4eHhqFQq+vXrx5w5c+jXr5/R+8dc/eW5L3WY6pOg/XHg4eHBrVu3CAkJkS8PBlSi2LipSqUyOowqkeQU5qNSqZR8oOJkF+YhEDjbGCYw5hcVoBEFRo+B9rUq0enXUKvUPF3FF3u1Np7PKMjBUW1vsKqtSAjicpJJ1WTi5+SJq929128IBNeybnEzN5XaTjWoXcld0eWgtlN0m6NLx+38DGKyEsgv0lDd3oUGzt4WrbRLTEwkLS2NevXq6QUHmZmZODk5Gc1byMjIoHLlykYfUNnZ2Vy9epWCggJq1qxp1Xuqbt68SWJiIh4eHnr72ljrmzF5UzouX75MTk4OTz75pJL0mpmZibOzs0UP5bLqUVFkZWVhY2NjkKArhCAjIwNnZ+dSd1k21Q4V3TeKk5eXR0xMDGq1mrp16yojTsa4e/cusbGxqFQq/Pz8Sn2lTWl+FRQUkJeXZ/S87Oxs7OzsSg2Mre3Pu3fvpmfPnkyYMIGlS5eSlZVFTEwM1apVKzX3zFS76rCkLXT5SpmZmVy+fJmqVasaBB0lSU1NJS4ujlq1ainBXVZWloEdS/Wbew+W1Qal9UnQrrw7ceIEv//++yP3IvD7jbHYSAZPEolEIvlbUTJ4ktxfoqOjCQgI4JlnnuHkyZMP250HjrHYSCaMSyQSiUQiKRXdy4T/6Xs7FUcGTxKJRCL5W6HbmLO0DTolFYcQgo0bN+Ls7GzWi6n/KchpO4lEIpH87UhMTMTNzc1kAr2kYkhNTcXBwaHUHLDHHZnzJJFIJBKJRGIBMudJIpFIJBKJpJzI4EkikUgkEonEAmTwJJFIJBKJRGIBMniSSCQSiUQisQAZPEkkEolEIpFYgAyeJJIHzIULF+jbt6/y7rFHiYrwzVIdUVFRDB48WHmn2D+ZR7lvSLTc72v0MO5BieXI4ElSJumabKb/vo5x0csZf/ZLPrq0lTuaTJPnrIrbx4SzXzEuejlTzn3N5ayEB+Tto8+ff/7Jjh07HslgwVLfQkNDqVatGuPHj7dax/Hjx9m8eTOnTp2yymdj3L59m//+978EBwfTunVrevTowX//+19ycnIqzEZZGGubsniU+4ZEy/2+RvfrHrSmP0pKR27PKimTbQm/sCBmu17Zr3diCG39jlH57QlHGX1a/31ThaKIpc1esdoHTVEhn14JJV2TTTu3RvTxavVI6CqNb775hlu3bvHGG2881m8gj42NJS0tjZiYmIftisLRo0cJCgri7t272NjYYG9vT05ODj/99BObNm0iMjISJyen++5HaW3zT+kbkgeDufegKTnZJy1HjjxJyiSvqED521alfXv8jqTj3Mi5bVR+eexPerIAuUWacvlwW5PBjN/X80nMNv53decjo6s0PvnkE9566y3y8vLui/5HhfHjx3Po0CE2btz4sF1ROHXqFE8++SRhYWFkZ2eTmZnJjh07cHR05Pjx4w/sRbKltc0/pW9IHgzm3oOm5GSftBwZPEksopt7MwCKhGDDjSiD4zdybrM3ORqAII+AB+qbjkJRxO38DHIK8ytEX2ZBLpkFuRWi63HD3t6e9u3b4+7u/rBdURg9ejTHjx+nV69e2Nvbo1ar6d27N6NGjQLgwIEDD8SPR7FtJI8f5vYz2R8rFhk8SSyip2cLXO207zf65rph8LT2+gGK/trGfohPp1L1fHhpK0/sGUOjfROJzb6ld6z/8QX4/DSG9oe004L//v0bOh+eqRw/mnqJJvun0PTAFH5J/QOAnMJ8FsRsp1XUNBx2DKDGruE47RxIg73j9UaXzNEFkF2Yx3sXNvLEnjG4hA3GJWwwPj+N4b0LG8kzMYq2fPlyunXrRmxsLAC9evWiW7duvPjii0blY2NjGTp0KF5eXtSuXZuJEydy9+5do7Jbt26la9eueHp6UqtWLXr37s3hw4dL9aUkQghWrlxJhw4d8PLyokGDBkyYMIHr169b7dvZs2dp3749y5YtK9O+RqPh448/pkmTJtSoUYO2bdsSHh5utv/m1sPBwcHo1IOfn59Z+vft20e7du2UN8kX591336Vjx45cvnzZwKe+ffsyYMAApaxk29zPvlGSPXv20L17d7y9valduzaDBw/m0qVLBnLh4eH07t0bHx8fatSowTPPPMPcuXPJzNTPaYyOjqZ9+/bs2bOHmJgYXnrpJTw9PfH39+eTTz5RXl2xefNmmjdvTo0aNXjuuec4duxYqT6Wpz/r/Dl06BDXr19n1KhR+Pj44O3tzZAhQ4iLiyvV/6ioKJ555hk8PT1ZuHChxW1RHJ3tWrVq4ePjw4gRI7h586ZR2d27dzN48GD8/PyoVq0aDRo0YNKkSaSmppZLv7n3oDE5U31y+fLltG/fnp9++smovpEjR9KlSxcKCwtN2n1ckcGTxCLs1bYE12wNwPmMOE6nX9U7vjZuPwDPVnuSJyvXLFXPhYzr3Mi5zR+Z8aTk638hnEm/RnzubU6kXVH+/yMzXjmeVZjL+Yw4frsbx9XsJADe+f0bpv++jhNplykURYpsTFYCU8+t5LMrO8zWlV9UQLefZzPv0hZu5NzGTm2DWqUiPvc28y5tof/xBaXWKzc3l5SUFOWBcvv2bVJSUkhPTzeQPXPmDM2bN2ffvn0EBASQnZ3N559/bvTN5dOnT2fAgAFcu3aNkJAQunbtysGDB+ncuTPbtm0r1Z/ijBo1ijFjxnDp0iXatWuHu7s7y5cvp0OHDlb7dvPmTY4cOcLZs2fLtD9w4EBmzJhBUlIS7dq149atW/Tu3Zv169eb5b819SiOLnjw9fU1KVe7dm1+/vlnPv/8c73ywsJCPv/8cw4dOmTQ5idOnGDHjh0UFd3reyXb5n71jZL8+OOPBAUFce3aNQYPHkyvXr04dOgQX3zxhZ7crFmzeP7554mKiqJVq1YEBgaSlJTErFmz6NChg17QkJCQwJEjR1i/fj0tWrTg+PHjNG3alNjYWP79738zZ84cJk+ezODBg3F2dqZWrVpERkbStWtX4uPjS7pY7v6s82fDhg00a9aMsLAwWrRogZOTExs3bqRt27YkJycbyG/dupUePXpw9epVHB0dlWtjSVvoiI6Opnnz5oSHh9OqVSscHR1Zt24dbdq0ISUlRU927dq19OzZk4MHD9KqVSteeuklAJYuXUqPHj2MvlPWXP3m3oPG5Ez1SXd3d44cOcJ///tfA10XLlxg7dq1ZGVlYWNjY3D8H4EoRol/JRIhhBBfXNstCA0WhAaLL67tFj8lnVb+f/3cKkXuUMrvSvn/ruwUx+/EKP+PPr1UT+eQE/9Rjh2/E6N3rF7EOEFosHD4cYAQQoiIW2fEu7+vV+TrR7wmPr70vZh/6XtxMydVCCHE1HMrReN9k8Wyq7vE73evi5s5qeLr2AjlnEZ7J5it68M/tijH3z6/VuQU5osMTY544dh8pXxX0imTbda4cWMBiJycHINju3btEoAAREhIiMjOzhZCCJGYmChq1aolAHHmzBlF/sCBAwIQbdq0EXfv3lXKL168KBwdHYWHh4fIy8sz6U9oaKgAREBAgJ6O3377TQwaNMhq33Tyr776qsmyHTt2CEDUrVtXJCYmCiGEKCwsFLNnz1bsLVmyxGQdLKlHSXJycoS7u7sARERERJl2GjVqJABx/fp1peyXX35RfO3cubOe/Jw5cwQg1q1bZ7IdhKjYvmGMbt26CbVaLZKSkpSyvLw8ERcXp/wfGRkpAFGnTh1x6dIlpTwnJ0f07NlTAGLatGlG/Ro+fLjIzc0VQghx+PBhpbxSpUpix44dyjkjR44UgJg5c6aefxXRn4v7M2DAAJGZmSmEECI/P1907tzZpP9dunQR6enpQgghsrOzy9UWgwYNUq5RXl6e6NSpkwDE22+/refvoUOHxMaNG0VBQYHeNXn66adLvafM1W/uPVhafxTCeJ/My8sT1atXFzY2Nso9q+O9994z+559HDAWG8mRJ4nFdHVvhrtDFQA23TiojPSsua4ddbJRqRnk3b7C7HVzf5qJfs8r/9dxcuffT77I9CdfpKZjNQAWNh7Bb13+x2t1e/CUiw81Hasxuk43nnTWjn7pRpXM0fX1n3sB8HRw5cOnhuCotqOyrSMfPjVEOS886WS569WxY0e++eYbKlWqpLXn6cnw4cMB7YoxHV9++SUAH330ES4uLkp5w4YN6d+/P7du3SrzV+eqVasA7S/s4joaN27Mpk2brPbNXHQ23n33XTw9PQFQq9XMmTOHsWPHmq3H0nroWLhwIcnJyTz33HN069atTDv9+vUD0JtWjIiIUGwdOXJEbwotPDwcGxsbnn/+eSqC8rR/bm4uQgi90RJ7e3ueeOIJ5X/d1M2cOXN48sknlXJHR0c+/vhjAKN7BHXq1InVq1fj4OAAQLt27WjevDkAK1asoHfv3orsa6+9BsDp06f1dFREf9bRvn17Nm7ciLOzNpXAzs6ODz74AICdOw0Xg3h7e7N161aqVNE+vypVqmR1W3To0IH169cr18je3p65c+catd2+fXsGDx6sN0pjb29Pr169ALhy5Uq59N8P7O3tGTx4MIWFhXz77bd6x7799ltsbW0ZOHDgfffjUUUGTxKLsVGpGVCrHQCJeWnsTY4muzCPLfHaPUW6uz+Nh0PVB+qTbmXftewkticcZXnsT/zv6k5llV9+sRWDpridn8G1vwIte7Utcy5uZuaFDcy8sIFVcfsUuT+zk0tTYTZPPfUUarX+LaibUio+lXP8+HEA/vjjD9avX6/30X2BG3v4FufkSW2w16lT6Xlo1vhmLmfOnAEwGrg0aNDAbD2W1gPgl19+Ye7cuVStWpWVK1eadY4ueAoLC1PKIiIi8Pf3Z9SoUWg0GiWYSklJ4cSJE3To0AE3Nzez/TJFedp/4MCBCCHo0KEDX375JVlZWQYyv/zyCwA9evQwOPb000/j7u5OUlISiYmJescaNWpk4Fft2rUBbVBprPzWLf2cxorozzoaN26Mra3+jjvt2rXDxsaGP//800C+d+/eVKtWTa/M2rbw9/c3mLIyZVtHcnIy0dHRREVFKdNvxnLZrNVfkYwYMQJAb4XemTNnuHTpEkFBQf/o5HO5z5PEKgZ5t2fZtV0AfHM9klt56dwtyAZg6BOdH7g/V7OSGHl6MYdu/14uPcXzr67npPDhpa1G5ezU92eeX/ewLJ47c/u2dkuIcePGlXpOWQ+x27dvY2dnV64vd2O+mYsuKdbDw8Nq+2B5PS5fvkxwcDBCCL799lvq1q1r1nmtW7fG09OTffv2kZeXh0aj4ejRo4wfP57nn3+et956i/DwcF566SV27dpFUVGREnDdL8xt/wkTJpCTk8O8efMYN24c06dPZ9KkSbz33nvY29sD2i9wtVqtjAKWxNPTk+TkZNLT0/Hy8jJpr2TwUrK8pL8V0Z9NoVarcXNzIzk5mezs7DL39KrItijNthCC//3vf/znP/8pdYGGOVhat/LSsmVLmjRpwm78VKsAACAASURBVLFjx7h8+TL169dn8+bNAAwbNuy+2n7UkSNPEqtoX/0pfCpVB2B7wjElkHKycSC45rNlnl98NVSRkWRJSxAI+h77SAmchj/xHMufHsemlm/i52z8gVgaDmo75e+nXHzY/uy/DT4/tH6HL59+rVw+W4Ju2D45ORmNRmPwyc/Pp0uXLiZ12Nvbo9FojI5CPAh00ySmVi6ZgyX1uHHjBt27dyc5OZlVq1YRFBRkth3d9gZZWVlERkYSFRWFRqOhW7duNGrUCD8/P3bv3g3cm9q738GTuahUKqZNm8aNGzf4/PPPcXV1Zd68eYwZM0aRcXBwoKioqNR21AU4VatW/AhyRfRnUwghSE9PR61W4+joWKZ8RbdFRkaGge25c+fy+uuv4+3tTVhYGFeuXCEhIYF3333XLJ1l6b+flBx9+u6773BxcaFv374PxP6jigyeJFahQsXAv/KasgvzOHpHu5IpuGZrnG3Kvqkrqe2Vv3X5SAAXM+NJzE0zkLcp1lVLbhUQk5nA+Yw4xf7aZybzqm8Qg7zbU82uskW6vB2r4/hXAJWan8nzni0Jrtla79PX61mq27tgCl1waM0oTUnq168PaJeu29raGnxKTqMYQ7dM//z58+X2xxp8fHwA7Qqikpi7/B7Mr0dycjLdu3cnNjaWpUuXWvUrufjUXUREBHZ2dsp0Ya9evbh58yYnT55kz549NGvWzOxRrYrsG6ZwcXFh/PjxnDlzBg8PDzZt2kRurna/Ml2fMvZKnPj4eJKSkvD09CxzpMUaKqI/6zAW8ERHR5Ofn0/9+vXN0mVtWxizff78eXJzc6lXr56e7RUrVqBSqQgLC6NXr174+fnh5eVF5cqGzydr9JcXU31y6NCh2NjYsGHDBo4dO8a1a9d46aWXlCD4n4oMniRWYywpfKiJvZ2K82TlWsrfMy9s4MfEX1kVt4+Oh2eQVWi4IWV1exclr+lk2hX23DpDZMpvxOfq73Kemp+JQDuStTPxBOfvxlmky05tQ5CHNgE2KS+NKb99TUbBvfehXci4wScx20jIvWOyfrppJd3+KeWhT58+ACxYsMDokmZz9lnR5XMU35MHICcnh9mzZxvVW5HothFYunSpnq09e/awYEHpWz+UxJx6pKenExQUxMWLF/nkk0+sfpdXt27dcHJyUoKn1q1bKwnOukTf2bNnk5qaatGoU0X2DWOUnBZydXXF3d2dwsJCCgq0uX+6UYMPP/wQjUb/B8ScOXMoKipi6NCh98W/iujPOjZu3Mg333yjV6bbu6l48roprG0LY7Z1fbmk7aKiItRqtTJtCpCfn8/+/ftL9csS/eXFVJ/08vIiKCiIS5cu8fbbbwNyyg5kzpOkHLR0rU9955rKS3/dHarQ3eNps84d/kRnZl3YSG6RhitZifQ79rFyrFFlby5m6u8No1apaFe9EVEp58kpzCfol/cBWN/idUJ8OtCkSm1+uxvHwdvnqRfxGi62lTh7NxYbleHvA1O6hvh05CP/oexNPktWYS5fXNvN8ms/UcPBhcyCXGXX8nZuTymr84zRqlUrDh48yOjRo3n55Zf5448/WL58uVltU5Lx48ezatUqtmzZQkpKCsOHD6dq1aokJiYSFRVFVFQUCQmmX7w8depUvvrqK7Zt20aXLl3o0aMHqampbNy4UdnP5n7u1zJ+/HiWLFnCDz/8wIABA+jWrRunTp1i1apVNG/enBMnTpilx5x6/Pvf/+b06dNUq1aNs2fPGnzxqVQqpk6dSosWLUzaqlSpEoGBgYSGhgLw/vvvK8eee+45JbACy6bsKrJvlCQ1NRU/Pz9CQkLo3r07Tk5OhIaGcv78eV5++WVlpGPKlCmsXr2aPXv20LlzZ0JCQrCzsyM0NJRdu3ZRv3593nvvvQrxqSQV0Z91uLi4MGLECHbt2kXbtm2Jiopi69atVK9enWnTppmlw9q2qFu3LiNGjCA8PJy2bdty5MgRvv32W6pVq8Zbb72lJxsYGMiaNWt4+eWXmThxIunp6SxcuNDoxqXW6C8vZfXJkSNHEh4ezsGDB/H29qZz584Vav/viAyeJGXiYntveLaKrf5Q7Zg63fj379pfR/9Xu5ve++ycbRyxUakpFEVUsdVPbPR0cGVdi6m8cmYZaRrt8LS7QxUWNR7F3YIcJp79CicbB71zPm/2Ci/9ukDZ5NJWZUM9Zy9UqNja6m2GnvyME2mXldVygR4B9PN6lgkW6ALwd3mCIx0+ZspvX3Mw5XcEguQ87dSSo9qOII/mNK1Sx2Sbvf322xw5coSjR49y9OhRvY0Zdb8+i/8KNXXM2dmZqKgoJk+ezLZt2/ReL+Lj48OECRNM+gLapNfIyEjGjh1LZGQkkZGRgHa10pdffqkETpb6Zm6Zh4cHP/30E8OGDeP777/n+++/x9XVlfnz59O+fXvatGmDnd29fLPy1EM33XHnzh02bNhgVE/Pnj3LDJ4ABgwYQGhoKGq1mp49eyrljo6OBAUFsX37dvz8/IzqKq0tK7JvlMTNzY1x48axcuVKZXm9ra0tI0aMYPHixYpc1apVOXToEJMnT2bHjh38/LN2payDgwNDhgxh0aJFejk+pmzrrlvJYzY2NqhUKoPyiujPOgYNGkSjRo2YOXOmslVFixYtWLVqld40myn/LW0LXX3ff/99bty4wdy5c5Uk6mbNmrFmzRpq1aqlZ+Ozzz4jLS1NCchUKhX9+vVj7ty59O7dW88vS/WX577UYapPgnZ0zsPDg1u3bhESElKhU4Z/V1Si2LipSqW678P3kr8nOYX5qFQqJR+oONmFeQiE0Vyn/KICNKKg1Dyo3CIN0enXUKvUPF3FF3u1Np7PKMjBUW1vsKqtSAjicpJJ1WTi5+SpvCoGtInj17JucTM3ldpONahdSbtiJ7MgF3u1raLbHF06budnEJOVQH6Rhur2LjRw9rZopV1iYiJpaWnUq1dPLzjIzMzEycnJ6EMoIyODypUrG33FSHZ2NlevXqWgoICaNWuWukLIFDdv3iQxMREPDw8lF6k4lvpmTN6UjsuXL5OdnU2DBg2UpNfMzEycnZ0teqN7WfWoKHS7KJdM0BVCkJGRgbOzc6mjdqbaoaL7RnHy8vKIiYlBrVZTt25dk/kpGRkZXLt2DZVKhZ+fn7Jnkrl1KSwsJDc31+h52dnZ2NnZlRoYW9ufd+/eTc+ePXn11VdZvnw5WVlZxMTEUK1aNerUMf7DxlS76rCkLXSjeJmZmVy+fJmqVauWmfeWmppKXFwctWrVUlaeZmVlGdixVL+592BZbVBanwTt6NSJEyc4d+4cTZo0MVnPxw1jsZEMniQSiUTyt6Jk8CS5v0RHRxMQEEBAQIDBpqf/BIzFRnLsTSKRSCQSSanoXpItE8XvIYMniUQikfyt0G3AWdoGnZKKQwjBxo0bcXJyIiQk5GG788ggp+0kEolE8rcjMTERNzc3kwn0koohNTUVBweHUnPAHndkzpNEIpFIJBKJBcicJ4lEIpFIJJJyIoMniUQikUgkEguQwZNEIpFIJBKJBcjgSSKRSCQSicQCZPAkkUgkEolEYgEyeJJIJBKJRCKxABk8SR4KBw8eZNiwYRw7duy+yD/OyLYw5OLFi7z44ovKy2Eljy/yWkseBWTwJLGY77//nqFDhzJ9+nSrdfz666+sX7+e48eP3xd5SygsLGTx4sUMGDCAw4cPV7j+iuZ+tEVaWhpLliyhf//+tGvXjt69e7NkyRJyc3MrzMb9JDY2lu3bt3PkyJGH7YrkPnO/r/WPP/6Iu7s7kydPvi/6JY8Hcm97iUUIIXjzzTf5888/Aejbty/t2rV7yF5Zz9mzZxkzZowSiHTt2pX27ds/ZK8eLMePHycoKIg7d+6gVquxs7MjLy+PsLAwNmzYwIEDB6hUqVKZejZv3sytW7eYNGkSKpXqvvj6IGxIHn9M9aMrV66QkpLC77///pC8k/wdkCNPEos4dOgQf/75J/Xr1wfgm2++ecgeWc/s2bNp2bIlCQkJf+sAsLwcP36c2rVr88MPP5CVlUVWVhbbt2/HwcGBY8eOmf3W+nnz5jFlyhTy8vLum68Pwobk8cdUP3rttdc4cOAAGzZseAieSf4uyOBJYhHr168HYPXq1Tg6OrJlyxby8/MfsleWU1BQwPz583njjTe4ePHiP260qTj/93//x6lTp+jbty+Ojo7Y2NgQHBzMqFGjANi/f/9D9lAieXA4OjrSuXNnPD09H7YrkkcYGTxJzCYvL48tW7bg7+9P+/bt6d27N6mpqYSHh5d6TkFBAQsXLiQgIAAvLy86d+5MREREhckbQwjB6tWr6dy5Mz4+Pvj7+zNp0iTi4+MVGVtbWxISEpg/f365Xna5d+9ehg0bRoMGDXB3d8ff35/XX3+dtLQ0PbmzZ88qdYmNjWXYsGE88cQT1KtXjylTpnD37l0D3Q+qLRwdHVGrDR8F9erVM8vGV199RY8ePfSmcnv06MHAgQP15Pbs2UNwcDC+vr54eXnx7LPPMn/+fLKzsyvMBsD169cZOXIkPj4+JttXx/bt2wkMDMTb25vatWsTHBzMzz//XKZP1lxTc+0dOHCATp06sXLlSoPzZ86cSZcuXYiNjdUrLyoq4oUXXmDIkCFl+nz48GHi4+MZO3Ysvr6+1KlTh5EjR3Lz5k2j51ly7Sy18euvv9KpUyfWrVtnoGvHjh106tSJPXv2lFonHebci+b0o3PnztG5c2dWrFhhdTtY2zckfyNEMUr8K5HosXXrVgGIDz74QAghxLZt2wQgXnzxxVLP6d+/vwCEm5ub6NWrl6hTp45QqVTimWeeEYBYsmRJueSNMWLECAEIDw8P8eKLL4q2bdsKtVot/Pz8Sj1n+vTpAhBffPGFma0hxLp16wQgPD09xYsvvihGjBgh/Pz8BCC6d++uJ7tr1y4BiJEjR4qqVasKd3d30aVLF+Hq6ioA0atXLwP9D6stdLzyyisCEBMmTDAp9+mnn4rGjRsLBwcHAQh/f3/RuHFj0bFjR0Vm1qxZAhDOzs6iT58+YsCAAcLT01MAomXLliIzM7NcNnTt27ZtW1GtWjWz2lcIIWbMmCEA4efnJ6ZOnSqGDh0qXFxchI2NjQgNDTXpkzXX1Fx7Fy9eFIAICAjQO1+j0YgqVaoIQPznP//RO3b06FEBiBdeeKFMn8ePHy/c3NxE9erVRa9evYSvr68ARJ06dcTt27f1zrH02llqY8uWLQIQb775poG/CxcuNOjrOv3F+6W596I5fdWYfkvbwZq+IXl0MRYbyeBJYjb9+vUTgLh06ZIQQojc3Fzh6uoqHBwcxJ07dwzkw8LCBCDq1q0rbt68KYTQPvx1XyAlH4qWyhvjhx9+UL507t69q5RHR0eLgQMHlnqeNcFTVFSUWLdundBoNEpZbm6u8Pf3F4A4e/asUq57mAJi0KBBIisrSwghRHx8vPIAjo6OfiTaQlcPd3d3AYh9+/aZ1R6NGzcWgMjJydErj4yMFIDw9fUV169fV8qzsrJEYGCgAMQ777xTLhuWtq8Q2usHiDZt2oiMjAyl/MKFC8LR0VHUrFlT5Ofnl+qLpTYttdewYUMBiBs3bihlhw8fVmx269ZNzx/dl/vatWvN8rl///6KH7m5uaJ9+/YCEDNmzFDkrbl2ltqoiODJkntRiNL7UWn6LW0Ha/qj5NFFBk8Sq7l9+7awt7cXLVq00CsfPXq0AMSXX35pcM6QIUMEIFauXGlwbMyYMQYPRUvljaEL8LZt22Zu1YQQ1gVPpfHWW28JQHz//fdKme5h+txzz4nCwkKjtpcvX66UPcy2EEKIefPmCUB07drV7HNK+0J6+eWXS63LqVOnBCC8vb3LZcPS9hVCiJCQEAGIAwcOGNjRtf/hw4dL9cVSm5bae/vttwUgvvrqK6Vszpw5AhCNGzcW9vb2ekFYy5YthY2NjcHIkTGfO3bsqBdoCCHE/v37BSCaNm2qlFlz7Sy1URHBU2kYuxeFsDx4srQdrOmPkkcXY7GR3KpAYhbffvst+fn5DB48WK88JCSElStXsn79el555RW9Y6dPnwa0y/9L0rBhQ4MyS+WNceLECQA6depklnxFkZyczM2bN0lLSyM1NRXAaF6Dv7+/QX5R3bp1AUhPT1fKHmZbHD16lA8++IBq1aoZzbmxlKNHjwLQs2dPg2PNmzfH3d2d+Ph4UlJSqFGjRrlsmdu+gLLJ6JUrV0hMTNQ7lpWVBcDVq1fLXIlprk1L7fXr148FCxawc+dOxo4dC0BERASNGzdm5MiRTJs2jb179xIcHExycjInT56kU6dOuLm5mfQXoGnTptja6j/+O3TogEql4tq1a0pZea6duTYqGnPvRUuwth0s6Y+SvxcyeJKYhW6VXW5uLmvWrFHKi4qKcHBw4PDhw8TGxuLr66sc0z24PDw8zLJhqbwxbt++jZ2dnVlfIOVFCMHixYtZtGgR169ft1qPjY0NoG1LHQ+rLS5fvky/fv0oKiriu+++o06dOlbb13Hr1i3UajVeXl5Gj3t6epKcnEx6enq5gydjGGtf0LYPwJgxY4yeZ2tri7e3d4XZtNTev/71Lzw8PNi3bx95eXloNBp+/fVXJkyYQK9evZg2bRphYWEEBweza9cuhBAEBwdb5a/OvqurK3fu3CE7OxsnJ6cKv3bGbFQEFXUvlkZFtkNp/VHy90KutpOUydWrV5XVQDNnzmTUqFHKZ/To0eTl5SGEMNgXpUqVKgBkZmaaZcdSeWPY29uj0WiUX/L3k7lz5zJ16lR8fHzYsWMHMTExJCQklGvndR0Poy1u3LhB9+7dSUlJYe3atXTr1s1q28VxcHCgqKio1FV1uqBCV+cHhW7jz+TkZDQajcEnLy+PLl26PDR7arWaPn36kJWVRWRkJJGRkWg0Grp3746/vz++vr7s2rULQFnxWp7gSQhBZmYmarUaR0dHoOKvnTEbuk0qtbMj1nE/70V4dPuw5OEhgydJmehGnaZPn865c+cMPhs3btST0+Hj4wNol/6WxNgwuqXyxvDz8wPg/PnzZsmXhxUrVqBSqdi5cye9e/emfv36eHl5Ubly5XLrftBtkZycTPfu3YmNjWXZsmWEhIRY4K0W3ZdgyV/Uug1VT506ZXBOfHw8SUlJ1KpVC3d3d6ttWIPOr9jYWGxtbQ0+xrZveND2+vXrB0BYWBgRERHY29sr07A9e/YkPj6eU6dOERERQUBAgNkjhcYC6ujoaDQaDQ0bNlR8Kc+1M9eGLqgsub0HmP/jwdJ70dJ+VJF9WPJ4IIMnSZnoRpTGjRtHkyZNDD6DBg3Cx8eHixcvKnk2oM1vAFi2bJmevt27d7NgwQIDO5bKGyMoKAiATz75RO+XbE5ODnPmzDFLh7kUFRWhVquxt7dXyvLy8oiMjCy37gfZFunp6QQFBXHx4kUWLVrEq6++apXPuunBuLg4vfK+ffsC8OGHH6LRaJRyIQSzZ8+mqKjI7GCtNBvW0KdPHwAWLFhgdNSjsLCw3DbKa69bt244OTkRFhbG3r17adOmjbIvWa9evQCYNWsWqampFo06rVu3zuDHzsKFC/X8hPJdO3Nt6HL4du3apfcuxYiICD755BOz6mPpvWhpP6rIPix5TCgro1zyz0a3d8y//vUvk3LTpk0TgJgyZYpSlpSUJNzc3AQgXn75ZfHFF1+IsWPHChsbG9GyZUuDVTSWyhsjISFB0dG1a1fx6aefihkzZojatWsLe3t7UVRUpMjOnTtXTJkyRUyZMkXR36VLF6Xs9OnTJm2NHDlS2bMlPDxcbNy4UTRv3lw4OzsLQKxevVqRNbVCaMWKFQIQH3/88UNpi3HjxgnQ7ic1ZMgQg8/QoUPFyZMnTdoSQog33nhDAKJDhw5i8eLF4rXXXhNCCJGWlqbs8dO2bVuxdOlSsXz5ctGjRw8BiPr164u0tLQy9ZuyYWn7CiFEZmamaNSokbIqavXq1WLbtm1i2bJlYsCAAaJWrVomfbHUprX2goODlWXv8+bNU8qzsrKEo6Ojcqys/lrc56pVqwqVSiUGDx4slixZouwpVqNGDZGUlKTIW3PtLLUhhBBdu3YVgHj22WfFokWLxNixY4Wtra3Rvm6s3S25F4UovR+Vpt/SdrCmP0oeXYzFRjJ4kphEt6/Q559/blIuOjpaqFQqUbduXb3y48ePK18YgHB1dRULFy4Uv/zyi9HlupbKG+Ps2bOidevWig5ANGnSROzatUtPrkaNGnoyJT9ff/21STtpaWl6X2wqlUoEBwcr+ytt2LBBkd27d68AxOuvv26gZ82aNQIQixYteihtMWzYMJPtULIupZGQkKBnq3hfuH79uggODha2trbKcQcHBzFkyBCRmJhYpu6ybFjTvkJog9SBAwcKOzs7vfr6+PiIuXPnmvTFGpvW2Fu/fr0AhFqtNghi+/btKwDRoEEDk77qKP6lvmjRIiW4AESLFi0M9kMSwvJrZ42Na9euiRYtWihyVapUEf/f3r1HNXWlfwP/JgS5CVI0BS+tKCgK6sLat622Ampl0FEbrZZKlaG1utrqVK2r46tjq6PVn63a34zOdF6ro4ilumo72qq1FaxitVUHRUAERRHlFi7KJQkBAnnePzI5EJJAbly0z2etrAXnPGeffXb2Ptk5Z5+drVu30unTpwkwnArFVLlb0xaJ2q6r5t5Xa8rB1vrIuidTfSPRf1cA0N0HJjsG7bFHT1NTE9RqtUXjeNRqNUQikTAQtKVbt25BrVZjyJAhwnqlUgkPDw+jXzW3Jd6U4uJiyOVyPP7448IYoo7w4MED3Lt3D/369ROejlOpVEY/+6JUKuHu7m5ybItCoUDPnj0f+rIAALlcjqqqKgQEBMDZ2dlgXU1NDfLz8yESiTB48GCbfxrH1D5sLV8AqK2tRV5eHhobG9G3b1+Lf9fM1n1auz+VSgUnJyejtkVEUCgU8PDwEJ7iassPP/yAKVOmYPHixfj73/8OlUqF3NxcPPbYY+2Ol7L0vbNnH3fu3EFNTQ2GDh0qjIVSKBTw9PQ0iDNX7pa2RT1zdbWt99XScrCnPrLuxVTfiDtPjDH2G9G6Y/Ow7oOxzmSqb8QDxhljjDHGrMCdJ8YY+43Qz/jdeubvh20fjHU1vm3HGGO/IXK5HD4+PgaP9T+M+2Css/CYJ8YYY4wxK/CYJ8YYY4wxO3HniTHGGGPMCtx5YowxxhizAneeGGOMMcaswJ0nxhhjjDErcOeJMcYYY8wK3HlidsnJycGsWbNw4MCBrs4KYw7FdZsxZg53nphd8vPzcfjwYZw/f75D0v/uu+8glUrx7rvvdkj6jJnDdZsxZg53nli3cPDgQWzfvt1oIrLbt2+joqIC169f76KcMWY7c/Ua4LrN2MOMf3yIdQsfffQRsrKysGjRIri6ugrL3377bYwePRrDhw/vwtwxZhtz9Rrgus3Yw4yvPLFuzdXVFREREfD19e3qrLQpNzcXsbGx+P7777s6K+wh8bDUbcaYMe48dbGMjAxERETg3LlzKCoqwsKFC+Hv74+BAwciLi4OxcXFJrc7efIkZDIZ/P394efnh2eeeQabN29GbW2tXelfunQJ4eHhSEhIMNrn0aNHER4ejpMnT1p0bMnJyZg/fz6GDh0KqVSK4OBgLF++HFVVVULM559/jqioKNy9excAMGPGDERFRSE6OhoAkJmZiYiICOzatcsh5ZCUlIT8/HzMnz8fTzzxBAICArB06VLU1NRYdEyt3b59G3FxcRg+fDj2798PZ2dnm9KxJ4+HDx9GZGQk+vfvjyeffBIymQy//PKLsP706dMIDw/Hv/71L6Nt16xZg4kTJyI/P99guVarxcyZM/Haa6/ZdSzdpV4DjqvbjqjXQNt1u6vrNWOsHdRCq39ZJzhx4gQBoHfeeYd8fHyod+/eNHXqVPL39ycANHDgQLp//77BNh9++CEBIA8PD5o+fTrNmTOHfH19CQA9/fTTpFQqbU7/0KFDBIBWrFhhlNctW7YQANqxY4dR+osXLzaITUhIIADk6+tLs2bNoj/84Q80ePBgAkCTJ08W4rZu3UohISHk4uJCACg4OJhCQkIoLCyszfRtLYe4uDjq1asXSaVSmjhxInl7exMAmjp1qqVvGRER5eXl0RtvvEESiYREIhG99NJLlJqaalUardmSx9WrVxMAGjx4MC1btozmzZtHnp6e5OTkREeOHCEiopycHAJAoaGhBttqNBry8vIiAPTpp58arLtw4QIBoJkzZ9p1LN2lXhM5pm47ql6bS9/WcnBUvWaMGTPVN+LOUxfTn/wA0OzZs0mhUBARUV1dHb3wwgsEgFavXi3EnzlzhgCQv78/FRQUCMtVKhVFRkYSAFq1apXN6Tuq85SSkkIJCQmk0WiEZXV1dRQcHEwAKCMjwyA+JCSEAJBarTZZPq3Tt6ccXn31VVKpVEREVFRUJHwwpaenGx1za/n5+bRw4UJydnYmsVhMc+bMsWg7S1ibx5SUFAJAY8eOFd5XIqLs7GxydXWlvn37UkNDAxERBQUFEQAqLCwU4s6dOyfs78UXXzTIi/4DfN++fXYfS3eo10SOqduOqtfm0u+qes0YM89U34hv23UTYWFhOHDgAHr27AkAcHFxwfr16wHobinoffbZZwCADz74AAMGDBCWu7u7Y/PmzQBg8raEpek78njmz58PiaT5mQQXFxdMnToVgG6MkD1sLYcJEyYgMTER7u7uAIB+/fohLi4OAPDrr7+a3Z9arcZbb72FIUOGYM+ePYiOjkZWVha++uorjBo1yq5jsTWPO3fuBABs2rRJeF8BYNiwYXj55ZdRUlKCS5cuAQBeeuklADAYk5WcnAwACAkJwdmzZ6FUKoV133//PZycnDBt2jS7joXrtXU6u14zxmzDT9t1EyNHjjQ4IQPA+PHjIRKJcOfOHWHZhQsXAABTr/zk3wAAHCZJREFUpkwxSmP06NGQSqUoKipCRUUF+vTpY3X6HaG8vBzFxcWoqqrCgwcPAMDusRi2lkNwcDDEYsPvDIMGDQIAVFdXm91fdnY2du7cCXd3dxw9ehQTJ040G6tQKLB79240NTUJy0QiEWJjYyGVSts9NkvzePHiRQC6cVdyudwgXqVSAQDy8vLw/PPP46WXXsInn3yCY8eOYeHChQCApKQkhISEIC4uDu+//z6Sk5Mhk8lQXl6Oy5cvIzw8HD4+Pu3mty1cr63T2fWaMWYb7jx1YxKJBN7e3qisrERtbS3c3d1RVlYGsVgMPz8/k9v4+vqivLwc1dXVBidXS9N3FCLC9u3bsW3bNhQUFDgsXT1HloOTkxMA3SBpc4KDg7FgwQLs27cPUVFRiI2NxapVqxAQEGAUe/fuXbz33ntGy5966ilMmDChzbxYk8f79+8DAN58802T20gkEvTv3x8A8Nxzz+Hxxx/HqVOnUF9fD41Gg0uXLmHx4sWYOnUq3n//fRw/fhwymQwnTpwAEUEmk9mU1/ZwvTavs+s1Y8w2fNuuGyMiKJVKiMViYY4YFxcXaLVao6du9PQfqF5eXjalLxKJhHX22LBhA5YtW4YBAwbg6NGjyM3NRUlJCVauXGlXunqOLAdLuLq6Yvfu3bhx4wZiYmIQHx+PoKAgzJs3z2iSwxEjRqCsrAwlJSXCSy6X29xxMsfNzQ2A7gqIRqMxetXX1wtXyMRiMaZPnw6VSoUzZ87gzJkz0Gg0mDx5MoKDg+Hv748TJ04AaL6111Gdp66o14Bj6vajVq8ZY7bhzlM3ob/N0lJ6ejo0Gg2CgoKES/KBgYEAgCtXrhjFFxUVobS0FP369TO6PWRp+voP5JaPXeu1HBPTnl27dkEkEuHYsWOYNm0aAgMD4efnZzA2pyX9B5ul35JtLQd7DR48GPHx8cjJyUFMTAwOHjyIESNGYPbs2bh69aoQJ5VK4efnJ7w6Yi4ffRnk5+dDIpEYvVrfxtGPezp+/DiSkpLQo0cPhIeHA9DdJioqKsKVK1eQlJSE0NBQDBw40O48dpd6DTimbj+q9ZoxZh3uPHUTCQkJ+OKLLwyWbdmyBQAwffp0YdmMGTMAABs3boRGoxGWExHWrl0LrVaLmJgYm9MPCgoCAJw4cQJ1dXXC8qSkJHz88ccWH49Wq4VYLEaPHj2EZfX19Thz5ozJeP3Ymnv37lmUvq3l4CiBgYFISEhAVlYW5s6di8OHD2P06NE4depUh+2zNf379sknn5i8mtJyzBUAvPjii3B3d8fx48eRnJyMsWPHwsPDAwCEAc8ffvghHjx44LCrTt2lXgOOqduPer1mjFmGxzx1E56ensIM1ePGjUNKSgq+/vpr9OnTBytWrBDili5dir179+LHH39EREQEYmJiIJFIcOTIEfzwww8IDAzEmjVrbE4/ICAAkyZNwqlTpxAeHo7o6Gjk5ORg7969CA0NRWpqqkXHExkZifj4eERHR2PJkiWoqqrCli1bcPPmTZPxTz/9NM6ePYtFixZhzpw5yM7OFp48MsXWcnC0oKAgJCYmYs2aNVi/fr3Z2y0d4Z133sGePXtw6NAhVFRUIDY2Fr169YJcLsfp06dx/vx5FBUVCfFubm6IjIzEkSNHAOh+OkRv4sSJcHV1xfHjxwE0X6WyV3ep14Bj6vZvpV4zxtrR3lwGrGO1nOtl27Zt5OHhIczbMmbMGKN5Y4iICgoKSCaTkUQiEWJdXFzotddeI7lcbnf6d+7coTFjxghxXl5etHXrVjp9+jQBoJ07dwqxycnJBICWL19ukEZVVRXJZDIhDZFIRDKZjL799lsCQImJiQbxJSUl9OyzzwrxgwYNajN9a8uhrXTi4+MJAG3bts1oXWeyJY+lpaUUHR1Nzs7OQhkAoAEDBtCGDRuM0vniiy8IAInFYrp8+bLBuhkzZhAAGjp0qN3H0h3rNZH9ddtR9dpc+taWw8NQrxl72JnqG3HnqYu1nihPqVRSWloa5efnt7ttdXU1paenU0ZGhsGsw45KPy8vj65evUq1tbXCspqaGqM4hUJBTU1NJtO4f/8+paWlUWlpqbDMXF6JdB822dnZwuSO7aVPZFk5tJdOTU0NabVas9t2FlvzqFKpKDMzk9LS0ow+YFtTKpUmJ23UarVUXV1NjY2N1me8le5cr4nsr9uOqNdtpU/0aNVrxh5mpvpGfNuum/Hw8EBoaKhFsV5eXlZP0GhN+vp5Ylry9PQ0WmZusCygG/PReq4g/TgbU/QDrC1NH7C8HNpKx9RxdQVb8+ju7o4RI0ZYtA9z5S8SiTrsKa7uVK8B++u2I+p1W+kDj1a9ZuxRw50nxli7EhMToVarLYodP358B+eGMca6Fneeuph+duTWsyQ/LOmzR59arca8efMsjl+3bh2ef/55AFyvGWOPJtF/7+fp/hGJ7J4ckVlPLpfDx8fH4PHnhyl99ugrKytDQ0ODRbFSqRQuLi5crxljjwRTfSPuPDHGGGOMmWGqb8STZDLGGGOMWYE7T4wxxhhjVuDOE2OMMcaYFbjzxBhjjDFmBe48McYYY4xZgTtPzCHS0tLwxhtvYMKECXjjjTdw//79rs7SI0v5ixJ50Xm4EXYDd167g7obddCqtVD8pEBtauf9MPHDwFRZ2So3Nxeenp7YtGmTA3PY9XJycjBr1iwcOHCgq7PiMBs3boSXlxdyc3O7OivsEcWdJ2a3K1eu4LnnnsP+/ftRVVWF7777DhkZGfjuu+8glUrx7rvvdnUWHxmV31TiZthNVH5VCeXPSjz48gGqvq1C/uv5uDnpJrL/TzYeHHjQ1dnsFsyVla3+9re/QalUYubMmQ7MZdfLz8/H4cOHcf78+Q5JvyvOA7NmzYJCocD27ds7bZ/st4U7T8xuu3btQkNDA/75z38iLS0NpaWlCAsLw+3bt1FRUYHr168bxB88eBDbt2/nOcVsIN8sBzXpys3nVR9IF0vhOswVmhKNENNY1ij8TY2E0i2lKF5TjOrvqzs9v13JXFnZQqFQYN++fRg/fjyGDx/uyGw+Etpq0+bOAx1p+PDhGD9+PPbu3QuFQtFp+2W/HfzbBsxu+pPiiy++CABwcnICALz99tsYPXq00YfNRx99hKysLCxatAiurrZ9mP1WqTN0vy/XY0APDDrQ/OO2Tp5OqNhTAYm3BD6vNf9gbWNFIwr/VAgA8JzkiV5Te3VuhruQubKyxdGjRx/Jq06O0labNnce6GgymQw///wzjh07hrlz53bqvtmjj688MbvV1urG2bT+dXdXV1dERETA19e3K7LVreTm5iI2Nhbff/+9zWlQPYEadN/sJb6G33s8J3hi0P5BeGLHE5D0sfM7EQFapdaiUK1aC22dZbHUQO3GWhJj0b7aKCvTG7R9zIcOHQIAREVF2Z2335quOg/o36tvvvmmU/fLfhu489TFMjIyEBERgXPnzqGoqAgLFy6Ev78/Bg4ciLi4OBQXF5vc7uTJk5DJZPD394efnx+eeeYZbN68WejI2Ju+Jfbt24eoqCjcvHkTABAdHY2oqChs2bIFAJCZmYmIiAjs2rULAPD5558jKioKd+/eBQDMmDEDUVFRiI6ONspvUlIS8vPzMX/+fDzxxBMICAjA0qVLUVNTYzIvhw8fRmRkJPr3748nn3wSMpkMv/zyi8nYn376CVOmTMHAgQMxePBgxMbG4tatW1bHWOL27duIi4vD8OHDsX//fjg7O1udBgAUrytG9jPZwv911+twPfQ6csblgBoJ5f8sx7WAa7g+4jrqrusGRRetLkLui80DZlUXVbgeeh3Zo7OhuqgCAJRtL0OmfybyXs1DU00TCt4twNVeV5HmmYYMvwyUflpqlBetWouSv5Qgc1Am0tzTkOaWhsyBmShZXwLSGN62oUZC6aeluBZ4DVfcriDNLQ3XAq6h9H9LrYpxZFlZe8xEhNOnT6N3795GV0/saV8d1YYvXbqE8PBwJCQkGO3z6NGjCA8Px8mTJ9stx+TkZMyfPx9Dhw6FVCpFcHAwli9fjqqq5nFjlrTp1ucBe8rAmvNCcHAwevfujZ9++qndY2XMWtx56mLFxcVISUnBgQMHMGrUKBw+fBghISEQi8XYt28fxo0bhwcPDAcAr127Fr/73e+QnJyMUaNGISwsDPfu3cOqVasQHh4OlUplV/qWUiqVKCwsFH4wtri4GIWFhcLJtaioCCkpKUhPTwegGzdSWFgIjUYjrC8sLIRcLjfK75dffonQ0FD8+OOPGDp0KB48eIDt27ebvPz+5z//GbNmzcLt27fxyiuvIDw8HD/99BPCwsLw7bffGsQeP34ckyZNws2bNzFz5kxMnDgRSUlJ+Mc//mFVTHvu3LmDBQsWYNiwYUhISMC0adOQmpqKyZMnW5xGS7WXa4XbUICuA6NOV0P1qwpalRbqLDXq8+qhzlKjoVj3ftReqYU6q8U2St02tVdrUX+rHgBQd7MODXcboDyrxI3nb6BsRxmaFE0AAE2pBoUrClH5VaWQBjUQciNzUbyuGA35DRA5iwAx0HCvAcVri5H3Sp5Bvov+VITCFYWov10PkVgEUQ8R6vPqId8otyrGkWVl7THfunUL1dXVCA4ONtqXre2rI9vwvXv3cPbsWWRkZBjt98aNGzh79qzwhcec/fv3Y/LkyUhKSsLIkSPx+9//HvX19fjrX/+KV155RYizpE23Pg/YUwbWnBcAICQkBJWVlbhz506bx8uY1aiFVv+yTnDixAkCQABo9uzZpFAoiIiorq6OXnjhBQJAq1evFuLPnDlDAMjf358KCgqE5SqViiIjIwkArVq1yub0bTFmzBgCQOXl5SaPbfHixQbLQ0JCCACp1eo2y+PVV18llUpFRERFRUXk6+tLACg9PV2IT0lJIQA0duxY4diIiLKzs8nV1ZX69u1LDQ0NwvLJkyeTWCym0tJSYVldXR3dvXvXqhhz8vPzaeHCheTs7ExisZjmzJljkF9bVZ+spqK1RZSKVEpFKqX3S6fiDcUk/1RORER3F98V1lUnVeu2+aGaClcWCsszAzKpeEMxFX9UTA2FDUbbpSKVbkTcIPmncsoZlyMsyx6bLeSjZFOJsLzwT4WkrdNSY00j3ZLdat7/j7r9Nymb6LLkspBuk6qJqIlIcU5BRX8usjimI8vKkmP+5ptvCAAtWLDAaF+2tK+ObsOHDh0iALRixQqj/G7ZsoUA0I4dO4zSb9lOU1JSKCEhgTQajbCsrq6OgoODCQBlZGQYpGtJm26Zvj1lYMl5QW/hwoUEgI4cOWK0jjFLmeob8ZWnbiIsLAwHDhwQxg25uLhg/fr1AHSX2vU+++wzAMAHH3yAAQMGCMvd3d2xefNmADB5ud7S9LuLCRMmIDExEe7u7gCAfv36IS4uDgDw66+/CnE7d+4EAGzatMlgzNWwYcPw8ssvo6SkBJcuXRKWq9VqEJHBbQEXFxc8+eSTVsW0plar8dZbb2HIkCHYs2cPoqOjkZWVha+++gqjRo2ysRSaeU32gt//9RP+d+7rjL5r+sJ3uflxJF6/88Ljyx4X/u/h3wN91/RF3z/3hXN/49uHPjE+GHpqKHyX+yLw+0CI3XWnh9rLzeVQsatCt39fZ/Tb2A8iFxGcPJ3Qf1N/Iab6mO6pPmogUKPuNp62Xqu7zi0Gej7fE/0+6mdxjLWsKStLjrm8vBwA8Nhjj5ndpzXt62Fow2FhYZg/fz4kkubxYi4uLpg6dSoA2D1/kq1lYOl5QU//nlVUVNiVX8Za46ftuomRI0canKgAYPz48RCJRAaXnC9cuAAAmDJlilEao0ePhlQqRVFRESoqKtCnTx+r0+8ugoODIRYb9u0HDdI9MVVd3fzI/cWLFwHoxha1vFUAQLjsn5eXh+effx4AMGfOHJw7dw7jx4/HunXrMHfuXOFErGdJTGvZ2dnYuXMn3N3dcfToUUycONFsrEKhwO7du9HU1CQsE4lEiI2NhVQqbXM/Han3672FG/lOvZzgEugCdYZa18FpIDQpmlB/R3e7T9RDhJJ1JcK22vrmwdYNd3W3DZ0ec4LbSDeoM3W3zK4FXEOfN/pA+pZU6LxZEtOVxyzqIUJlpe4WnpeXl9l0rGlfD1sbLi8vR3FxMaqqqoTbg+bGHlrK1jKw9Lyg16uX7ulS/XvImKNw56kbk0gk8Pb2RmVlJWpra+Hu7o6ysjKIxWL4+fmZ3MbX1xfl5eWorq42OOlYmn53pp8CQatt/qDWz2T+5ptvmtxGIpGgf//mqyJ//OMfoVarsXHjRrz55ptYsWIFli9fjtWrVwuDuS2JaS04OBgLFiwQBtHHxsZi1apVCAgIMIq9e/cu3nvvPaPlTz31FCZMmGBhaXQ8kbNI+Ju0hMaK5vmjGgoaULKxxNRmBtsNOjAIt1+6jfrb9dAUa1DyUQnkW+R44n+fgPRtqcUxnaX1MYvQ/H/Lzq4lzLWvh6ENExG2b9+Obdu2oaCgwCFptuTIMjB1XtDTv2cikchoHWP24Nt23RgRQalUQiwWC3OnuLi4QKvVGj2NoqfvTLT1Lbmt9B82bm5uAHTfjjUajdGrvr7e4CqQSCTCypUrce/ePezYsQNeXl5Yt24dFi5caFVMa66urti9ezdu3LiBmJgYxMfHIygoCPPmzTOaHHDEiBEoKytDSUmJ8JLL5d2q42SK2KX5dOE63BUBhwOMX98G4Mmdzbc33ULcEHI9BP57/OHxjAcA3TQC95bcQ+3VWotjupK3tzcA66+2mGtfHd2G9R0FsmMS2g0bNmDZsmUYMGAAjh49itzcXJSUlGDlypU2p9mSI8ugLfr3TP8eMuYo3HnqJlo+WaKXnp4OjUaDoKAg4VJ1YGAgAN1PorRWVFSE0tJS9OvXz+j2j6Xpdwb9yd3UN0Vr6csjPz8fEonE6GXuuLy9vbFkyRKkpaWhT58++PLLL4WnBq2JaW3w4MGIj49HTk4OYmJicPDgQYwYMQKzZ8/G1atXhTipVAo/Pz/h1WFz4LT4wk319s3o7tzfGWJXXXk2PWhCr9/3grfM2/A1wxuS3oYXtEU9ROj9em8MuzgMfiv/e6VBCyjPKK2K6Sr6ttTWuBlr2ldHt2H9F4qWUwroKZWWleeuXbsgEolw7NgxTJs2DYGBgfDz8zOay03P2jZtaxlYS98J68rb4ezRxJ2nbiIhIQFffPGFwTL9fEnTp08Xls2YMQOA7ocv9Y8HA7pvmWvXroVWq0VMTIzN6XcGHx/dDNj37t2zOy193j/55BOT37Rb32ppfQuid+/e8PX1RVNTkxBrSUx7AgMDkZCQgKysLMydOxeHDx/G6NGjcerUKYuPzRGcvJyEDlTtlVrUJNVAcUYBTbGm7Q1NEDmL4PU73ZUATakGBcsKoK1t/rCsy65D6dZS4edhGu83ouDdAtTfrhdiJNLmjpXITWRRTFcbOXIkAN24NnOsaV8d3YaDgoIAACdOnEBdXfMPISclJeHjjz82ewwtabVaiMVi9OjRQ1hWX1+PM2fOmIy3tk3bWgbW0l/11b+HjDkKj3nqJjw9PYUZqMeNG4eUlBR8/fXX6NOnD1asWCHELV26FHv37sWPP/6IiIgIxMTEQCKR4MiRI/jhhx8QGBiINWvW2Jx+Z3j66adx9uxZLFq0CHPmzEF2drbw9I213nnnHezZsweHDh1CRUUFYmNj0atXL8jlcpw+fRrnz59HUVERAODBgwcYPHgwYmJiEBkZCU9PT/z73/9GVlYWYmJi4ObmZlGMNYKCgpCYmIg1a9Zg/fr1Zm9TdBSxmxg9x/eE8qwS2lotciN1T0kN+mKQwc+4WKr/pv6oSa6BVqVF+WflKP9/5XD2dUZTVRO0al1HqucLPSF5XILG+40o21GGsr+XocfAHhD3EKPupu7D3MnbCY/NfMyimK42ZMgQ9OzZE9nZ2UKnojVr2ldHt+GAgABMmjQJp06dQnh4OKKjo5GTk4O9e/ciNDQUqamp7R5zZGQk4uPjER0djSVLlqCqqgpbtmwxOz+UtW3a1jKwBhEhOzsbvXr1EgaVM+Yw7c1lwDpWyzlQtm3bRh4eHsJ8JmPGjDGaT4WIqKCggGQyGUkkEiHWxcWFXnvtNZLL5Xanb62xY8eSWCymyspKg+XJyckEgJYvX26wvKSkhJ599lkhH4MGDWp3GyKi+Ph4AkDbtm0zWF5aWkrR0dHk7OwspAmABgwYQBs2bDCIXbJkCbm5uQkxEomEXn/9dYM5oiyJ6QraBi1dcb1CqUilnLAcg3XCfE6iVFL+qjRYV5tRS9eCrglzGF2WXBZi2touJ0w379EVtyukbdA2p3e1lm6E36BUUarBfElXXK/QrRm3qLGqUcjvLdktShWnGs2rpLqisjimM8vK3DHPmDGDANCFCxcM4m1tXx3dhu/cuSPMvwaAvLy8aOvWrXT69GkCQDt37hRiTbW5qqoqkslkwvYikYhkMhl9++23BIASExMN9mdLm7amDGw5L/znP/8hAPTyyy+bfA8Ys5SpvhF3nrpY6wnklEolpaWlUX5+frvbVldXU3p6OmVkZJBSqTQZY0/6lmpoaKDa2lqT6xQKBTU1NZlcV1JSQtnZ2QaTWLa3TU1NDWm1WpPrVCoVZWZmUlpamtHJt6W6ujrKzMykrKwss/m2JKYraBu01FjdSGSieBprGqlJbbrcqImo/k49qS6rqLGy0bLtmogaqxsNOhEtaSo0pPxVSYoUBdVeqzUb11jZSMpflaT8VUkN8gabY6xlU1mZOeZ9+/YRAPrLX/5isNze9tXRbTgvL4+uXr1qUIdramqM4sy1ufv371NaWprBhLHm8klkW5u2pAzaS8PUeWHDhg0EgL788kuzaTJmCVN9I75t1814eHggNDTUolgvLy+rJ2C0Jn1LOTs7m32E39wAUwDCYGlrtvH09DS7zt3dHSNGjGgjpzouLi7txlkS0xVEziI4OTuZXOfkaXo5AECsmySzh38Po1VmtxP/d8yUGZLeEqPB4Sbz5e0Ej+c87I6xlk1lZeaYZTIZevbsiUOHDuHDDz80u09r21dHt2FTt6tMtSFzbc7Hx0cYz9Ry/+bY0qYtLQNrzwvffPMNvLy8On1MJ/tt4M4TEyQmJkKtVrcfCN3kfPqBqYx1FKonZPTLQFO1ZQP1+/9Pf/i+7/gnF728vLBo0SJ8+umnuHjxIp599lmH74M5zsWLF3H16lW8//77bXa6GLMVd566mH7G4NYzB3d2+mq1GvPmzbM43XXr1mHt2rV25Y2x9lAToammCdRk2TQL+h/47QjLly/H8ePH8fPPPwudp45uv521j0fN2bNnERQUhKVLl3Z1VtgjSvTf+3m6f0QiuyZWY7aRy+Xw8fExeCy4K9IvKytrdx4jPalUChcXF0dkj7E2Nd5vFJ7ka4+zr7PBLOGdoaPbb2ftgzFmmqm+EXeeGGOMMcbMMNU34kkyGWOMMcaswJ0nxhhjjDErcOeJMcYYY8wK3HlijDHGGLMCd54YY4wxxqzAnSfGGGOMMSsYzLrm7e0Nkahz50hhjDHGGOuuvL29jZYZzPPEGGOMMcbaxrftGGOMMcaswJ0nxhhjjDErcOeJMcYYY8wK3HlijDHGGLPC/wf0pfoC5F957QAAAABJRU5ErkJggg==)\n"
      ],
      "metadata": {
        "id": "lfIHDGlUtNu9"
      }
    },
    {
      "cell_type": "code",
      "source": [
        "# 1) Randomly initialize populations p\n",
        "# 2) Compute fitness of population\n",
        "# 3) Until convergence repeat:\n",
        "#       a) Select parents from population\n",
        "#       b) Crossover and generate new population\n",
        "#       c) Perform mutation on new population with some probability\n",
        "# 4) Calculate fitness for new population"
      ],
      "metadata": {
        "id": "2Y_2nRRkH1sI"
      },
      "execution_count": 32,
      "outputs": []
    },
    {
      "cell_type": "code",
      "source": [
        "def algoritmo_genetico():\n",
        "    # pseudo-código:\n",
        "\n",
        "    # START\n",
        "    N = 8\n",
        "    tam_pop = 20\n",
        "    num_geracoes = 100\n",
        "\n",
        "\n",
        "    # Generate the initial population\n",
        "    Populacao = gera_populacao_inicial(N, tam_pop)\n",
        "\n",
        "    fitness = gera_tuplas_custos(Populacao) # função fitness\n",
        "\n",
        "    # Compute fitness - apenas em caso de elitismo\n",
        "    #custosPopulacao = fitness(Populacao)\n",
        "\n",
        "    # REPEAT\n",
        "    for g in range(num_geracoes):\n",
        "        NovaPopulacao = []\n",
        "        TuplasCustos = gera_tuplas_custos(Populacao)\n",
        "\n",
        "        for i in range(tam_pop):\n",
        "\n",
        "            #     Selection\n",
        "            p1 = selecao(Populacao)\n",
        "            p2 = selecao(Populacao)\n",
        "            #     Crossover\n",
        "            c1, c2 = crossover2(p1, p2)\n",
        "            #     Mutation\n",
        "            c1 = mutacao(c1, p_mutacao=0.20)\n",
        "            c2 = mutacao(c2, p_mutacao=0.20)\n",
        "            #     Compute fitness\n",
        "            # Adiciona os novos indivíduos à nova população\n",
        "            NovaPopulacao.append(c1)\n",
        "            NovaPopulacao.append(c2)\n",
        "            #\n",
        "\n",
        "        # A nova população substitui a antiga\n",
        "        Populacao = NovaPopulacao\n",
        "        TuplasCustos = gera_tuplas_custos(Populacao)\n",
        "\n"
      ],
      "metadata": {
        "id": "RxUEVbJbS1Nr"
      },
      "execution_count": 62,
      "outputs": []
    },
    {
      "cell_type": "code",
      "source": [
        "# Execução\n",
        "melhor_vetor = algoritmo_genetico()\n",
        "print(melhor_vetor)"
      ],
      "metadata": {
        "colab": {
          "base_uri": "https://localhost:8080/",
          "height": 338
        },
        "id": "6WtSD-zpU8RF",
        "outputId": "a541e68a-0105-4fef-a9f3-9eb1b0ede5bc"
      },
      "execution_count": 63,
      "outputs": [
        {
          "output_type": "error",
          "ename": "ValueError",
          "evalue": "operands could not be broadcast together with shapes (2,) (6,) ",
          "traceback": [
            "\u001b[0;31m---------------------------------------------------------------------------\u001b[0m",
            "\u001b[0;31mValueError\u001b[0m                                Traceback (most recent call last)",
            "\u001b[0;32m<ipython-input-63-0202bb1bc66f>\u001b[0m in \u001b[0;36m<cell line: 2>\u001b[0;34m()\u001b[0m\n\u001b[1;32m      1\u001b[0m \u001b[0;31m# Execução\u001b[0m\u001b[0;34m\u001b[0m\u001b[0;34m\u001b[0m\u001b[0m\n\u001b[0;32m----> 2\u001b[0;31m \u001b[0mmelhor_vetor\u001b[0m \u001b[0;34m=\u001b[0m \u001b[0malgoritmo_genetico\u001b[0m\u001b[0;34m(\u001b[0m\u001b[0;34m)\u001b[0m\u001b[0;34m\u001b[0m\u001b[0;34m\u001b[0m\u001b[0m\n\u001b[0m\u001b[1;32m      3\u001b[0m \u001b[0mprint\u001b[0m\u001b[0;34m(\u001b[0m\u001b[0mmelhor_vetor\u001b[0m\u001b[0;34m)\u001b[0m\u001b[0;34m\u001b[0m\u001b[0;34m\u001b[0m\u001b[0m\n",
            "\u001b[0;32m<ipython-input-61-75dfbaa9acba>\u001b[0m in \u001b[0;36malgoritmo_genetico\u001b[0;34m()\u001b[0m\n\u001b[1;32m     27\u001b[0m             \u001b[0mp2\u001b[0m \u001b[0;34m=\u001b[0m \u001b[0mselecao\u001b[0m\u001b[0;34m(\u001b[0m\u001b[0mPopulacao\u001b[0m\u001b[0;34m)\u001b[0m\u001b[0;34m\u001b[0m\u001b[0;34m\u001b[0m\u001b[0m\n\u001b[1;32m     28\u001b[0m             \u001b[0;31m#     Crossover\u001b[0m\u001b[0;34m\u001b[0m\u001b[0;34m\u001b[0m\u001b[0m\n\u001b[0;32m---> 29\u001b[0;31m             \u001b[0mc1\u001b[0m\u001b[0;34m,\u001b[0m \u001b[0mc2\u001b[0m \u001b[0;34m=\u001b[0m \u001b[0mcrossover2\u001b[0m\u001b[0;34m(\u001b[0m\u001b[0mp1\u001b[0m\u001b[0;34m,\u001b[0m \u001b[0mp2\u001b[0m\u001b[0;34m)\u001b[0m\u001b[0;34m\u001b[0m\u001b[0;34m\u001b[0m\u001b[0m\n\u001b[0m\u001b[1;32m     30\u001b[0m             \u001b[0;31m#     Mutation\u001b[0m\u001b[0;34m\u001b[0m\u001b[0;34m\u001b[0m\u001b[0m\n\u001b[1;32m     31\u001b[0m             \u001b[0mc1\u001b[0m \u001b[0;34m=\u001b[0m \u001b[0mmutacao\u001b[0m\u001b[0;34m(\u001b[0m\u001b[0mc1\u001b[0m\u001b[0;34m,\u001b[0m \u001b[0mp_mutacao\u001b[0m\u001b[0;34m=\u001b[0m\u001b[0;36m0.20\u001b[0m\u001b[0;34m)\u001b[0m\u001b[0;34m\u001b[0m\u001b[0;34m\u001b[0m\u001b[0m\n",
            "\u001b[0;32m<ipython-input-21-a3df071a1b1a>\u001b[0m in \u001b[0;36mcrossover2\u001b[0;34m(Parent1, Parent2)\u001b[0m\n\u001b[1;32m      8\u001b[0m     \u001b[0;31m# crossover no ponto de corte\u001b[0m\u001b[0;34m\u001b[0m\u001b[0;34m\u001b[0m\u001b[0m\n\u001b[1;32m      9\u001b[0m     \u001b[0;31m# gerando dois filhos\u001b[0m\u001b[0;34m\u001b[0m\u001b[0;34m\u001b[0m\u001b[0m\n\u001b[0;32m---> 10\u001b[0;31m     \u001b[0mchild1\u001b[0m \u001b[0;34m=\u001b[0m \u001b[0mParent1\u001b[0m\u001b[0;34m[\u001b[0m\u001b[0;34m:\u001b[0m\u001b[0mc\u001b[0m\u001b[0;34m]\u001b[0m \u001b[0;34m+\u001b[0m \u001b[0mParent2\u001b[0m\u001b[0;34m[\u001b[0m\u001b[0mc\u001b[0m\u001b[0;34m:\u001b[0m\u001b[0;34m]\u001b[0m      \u001b[0;31m# Python List format\u001b[0m\u001b[0;34m\u001b[0m\u001b[0;34m\u001b[0m\u001b[0m\n\u001b[0m\u001b[1;32m     11\u001b[0m     \u001b[0mchild2\u001b[0m \u001b[0;34m=\u001b[0m \u001b[0mParent2\u001b[0m\u001b[0;34m[\u001b[0m\u001b[0;34m:\u001b[0m\u001b[0mc\u001b[0m\u001b[0;34m]\u001b[0m \u001b[0;34m+\u001b[0m \u001b[0mParent1\u001b[0m\u001b[0;34m[\u001b[0m\u001b[0mc\u001b[0m\u001b[0;34m:\u001b[0m\u001b[0;34m]\u001b[0m      \u001b[0;31m# Python List format\u001b[0m\u001b[0;34m\u001b[0m\u001b[0;34m\u001b[0m\u001b[0m\n\u001b[1;32m     12\u001b[0m \u001b[0;34m\u001b[0m\u001b[0m\n",
            "\u001b[0;31mValueError\u001b[0m: operands could not be broadcast together with shapes (2,) (6,) "
          ]
        }
      ]
    },
    {
      "cell_type": "code",
      "source": [],
      "metadata": {
        "id": "k-SYwHUbD1KQ"
      },
      "execution_count": null,
      "outputs": []
    }
  ]
}