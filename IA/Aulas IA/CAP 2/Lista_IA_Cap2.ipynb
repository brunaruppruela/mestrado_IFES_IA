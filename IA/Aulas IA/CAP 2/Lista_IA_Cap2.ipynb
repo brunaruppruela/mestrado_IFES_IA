{
 "cells": [
  {
   "cell_type": "markdown",
   "metadata": {},
   "source": [
    "# Lista de Exercicios de Inteligencia Artificial - Cap 2 Agentes #"
   ]
  },
  {
   "cell_type": "markdown",
   "metadata": {},
   "source": [
    "## 1. Para cada uma das seguintes atividades, forneça a descrição PEAS da tarefa a caracterize-a de acordo com as propriedades:\n",
    "\n",
    " [Observável/Não observável; Determinístico/Estocástico; Episódico/Sequencial; Estático/Dinâmico; Discreto/Contínuo; Conhecido/Desconhecido]: \n",
    "\n",
    "• Jogando futebol \n",
    "• Explorando os oceanos subterrâneos de Titan \n",
    "• Comprando livros de IA usados na internet \n",
    "• Jogando uma partida de tênis \n",
    "• Praticando tênis na (contra a) parede \n",
    "• Praticando salto em altura (atletismo) \n",
    "• Tricotando um suéter \n",
    "• Fazendo lances em um leilão \n"
   ]
  },
  {
   "cell_type": "markdown",
   "metadata": {},
   "source": [
    "Respostas:\n",
    "\n",
    "| Agent Type                                     | Performance Measure                                      | Enviroment                                               | Actuators                             | Sensors                                        |\n",
    "|------------------------------------------------|----------------------------------------------------------|----------------------------------------------------------|--------------------------------------|------------------------------------------------|\n",
    "| Jogando futebol                               | Fazer gol, defender gols, não tomar faltas               | Jogadores, campo, traves, juiz, time adversário, goleiro | Pés chutando e correndo, drible, chute a gol, cabeça para cabecear | Olhos, ouvido, acelerômetro                    |\n",
    "| Explorando os oceanos subterrâneos de Titan   | Encontrar agua, agente funcionando ao entrar e sair das crateras, catalogar propriedades | Clima, link de transmissão de dados, gravidade, composição da agua | Braços e pernas articulados         | Câmera, sensores de temperatura, pressão, gases, sonar para mapeamento do terreno |\n",
    "| Comprando livros de IA usados na internet    | Receber o livro comprado, livro legível, preço justo     | Site, vendedores, sistema de pagamento online             | Teclado e mouse                      | Visão para analisar dados do livro, dados de frete, comentários de clientes |\n",
    "| Jogando uma partida de tênis                 | Fazer pontos para ganhar a partida                      | Quadra, raquete, rede, adversário, superfície do jogo     | Braços e mãos, pernas              | Olhos, ouvidos, sensores de movimentos         |\n",
    "| Praticando tênis na (contra a) parede        | Rebater o máximo de bolas que retornarem                | Parede, raquete, distância mínima                         | Braços e mãos, pernas              | Olhos, ouvidos, sensores de movimento           |\n",
    "| Tricotando um suéter                         | Um suéter usável                                        | Agulha, linha, cocpit, lugar adequado com luz             | Mãos articuladas, dedos             | Olhos, ouvidos, sensores angulares               |\n",
    "| Fazendo lances em um leilão                  | Dar o maior lance, levar o bem                          | Leiloeiro, compradores, bens em leilão                    | Voz para fazer os lances            | Ouvido para valor inicial, visão para conferir os itens do leilão |\n",
    "\n",
    "\n",
    "\n",
    "\n",
    "Quanto a as propriedades: \n",
    "\n",
    "| Agent Type                                | Observável/Não observável | Determinístico/Estocástico | Episódico/Sequencial | Estático/Dinâmico | Discreto/Contínuo | Conhecido/Desconhecido |\n",
    "|-------------------------------------------|---------------------------|----------------------------|----------------------|--------------------|---------------------|------------------------|\n",
    "| Jogando futebol                          | Parcialmente              | Estocástico                | Sequencial           | Dinâmico           | Contínuo           | Desconhecido           |\n",
    "| Explorando os oceanos subterrâneos de Titan | Parcialmente              | Estocástico                | Sequencial           | Dinâmico           | Contínuo           | Desconhecido           |\n",
    "| Comprando livros de IA usados na internet | Completamente             | Determinístico             | Episódico            | Dinâmico           | Discreto           | Conhecido              |\n",
    "| Jogando uma partida de tênis             | Parcialmente              | Estocástico                | Sequencial           | Dinâmico           | Discreto           | Desconhecido           |\n",
    "| Praticando tênis na (contra a) parede    | Completamente observável  | Estocástico                | Sequencial           | Semi               | Contínuo           | Desconhecido           |\n",
    "| Tricotando um suéter                     | Completamente observável  | Determinístico             | Episódico            | Estático           | Discreto           | Conhecido              |\n",
    "| Fazendo lances em um leilão              | Parcialmente              | Estocástico                | Sequencial           | Dinâmico           | Contínuo           | Desconhecido           |\n",
    "\n"
   ]
  },
  {
   "cell_type": "markdown",
   "metadata": {},
   "source": [
    "## 2. Defina os seguintes termos com suas próprias palavras: \n",
    "\n",
    "- agente, \n",
    "- função de agente, \n",
    "- programa de agente, \n",
    "- racionalidade, \n",
    "- autonomia, \n",
    "- agente reativo (reflexivo), \n",
    "- agente baseado em modelo, \n",
    "- agente baseado em objetivo, \n",
    "- agente baseado em utilidade. \n",
    "\n"
   ]
  },
  {
   "cell_type": "markdown",
   "metadata": {},
   "source": [
    "### Resposta:\n",
    "\n",
    "- **Agente:** algo que recebe instruções para executar alguma ação em um ambiente usando atuadores\n",
    "- **Função de agente:**  sequencia de percepções robo precisa executar a ação, o porque dele ser feito. \n",
    "- **Rrograma de agente:** implementação concreta executada com um sistema fisico\n",
    "- **Racionalidade:**  Para cada sequencia de percepção possivel, um agente racional deve selecionar uma ação que se espera venha a maximizar sua medida de desempenho, dada\n",
    "a evidencia fornecida pela sequencia de percepções e por qualquer conhecimento interno do agente. \n",
    "- **Autonomia:** Aprender o que puder para compensar um conhecimento prévio parcial ou incorreto\n",
    "- **Agente reativo (reflexivo):** Ignora o historico de percepções, selecionam a ação atual com base na percepção atual e num ambiente completamente observavel. \n",
    "- **Agente baseado em modelo:** Agente que começa a entender como o mundo funciona e possui um estado interno, enxerga o mundo ao maximo possivel dadas as limitações de seus sensores.\n",
    "- **Agente baseado em objetivo:** alem da percepção do mundo já conhecida, ele precisa de um objetivo que descreva situações desejáveis, ele escolhe a ação que leva ao objetivo. \n",
    "- **Agente baseado em utilidade:** Agente que tenta melhorarar e internalizar a medida de desempenho para sempre garantir melhor utilidade nas suas ações. "
   ]
  },
  {
   "cell_type": "markdown",
   "metadata": {},
   "source": [
    "## 3. Implemente um agente reativo (reflexivo) simples\n",
    "\n",
    "Implemente um agente reativo (reflexivo) simples para o problema do aspirador de pó \n",
    "automático, considerando o mundo de dois quadriculados (Figura 2.2 do livro) e as \n",
    "especificações da página 38. Simule o ambiente com este agente para todas as possíveis \n",
    "configurações iniciais sujo/limpo e posição do agente. Grave a medida de desempenho para \n",
    "cada configuração e o desempenho médio geral. "
   ]
  },
  {
   "cell_type": "markdown",
   "metadata": {},
   "source": [
    "### Resposta:"
   ]
  },
  {
   "cell_type": "code",
   "execution_count": 2,
   "metadata": {},
   "outputs": [
    {
     "name": "stdout",
     "output_type": "stream",
     "text": [
      "Mover-se para direita\n",
      "None\n"
     ]
    }
   ],
   "source": [
    "'''\n",
    "limpo = 0\n",
    "sujo = 1\n",
    "\n",
    "Esquerda = 0\n",
    "Direita = 1\n",
    "'''\n",
    "def acaoaspirador (local, status):\n",
    "    \n",
    "    if local == 0 and status == 1:\n",
    "        print(\"Aspirar\")\n",
    "    elif local == 0 and status == 0:          \n",
    "        print(\"Mover-se para direita\")\n",
    "    elif local == 1 and status == 1:\n",
    "        print(\"Aspirar\")\n",
    "    else:\n",
    "        print(\"Mover-se para esquerda\")\n",
    "    \n",
    "        \n",
    "        \n",
    "local = 0\n",
    "status = 0\n",
    "aspirador = acaoaspirador(local,status)\n",
    "print(aspirador)"
   ]
  },
  {
   "cell_type": "markdown",
   "metadata": {},
   "source": [
    "## 4. Considere uma versão modificada do problema do aspirador de pó automático, \n",
    "\n",
    "Considere uma versão modificada do problema do aspirador de pó automático, no qual a geografia do ambiente – extensão, limites e obstáculos – e as condições iniciais (quadriculados limpos/sujos) são desconhecidos. Assuma que o agente pode se movimentar para cima, baixo, direita e esquerda.\n",
    "\n",
    "- Poderia um agente reativo (reflexivo) simples atuar de forma perfeitamente \n",
    "racional neste ambiente? Explique.\n",
    "- Poderia um agente reativo (reflexivo) simples com função de agente aleatória \n",
    "superar o desempenho de um agente reativo simples? Projete esse agente e meça \n",
    "seu desempenho em vários ambientes.\n",
    "- Você poderia projetar um ambiente no qual seu agente de função aleatória teria \n",
    "um desempenho ruim? Mostre os resultados.\n",
    "- Poderia um agente reativo baseado em modelo superar o desempenho de um \n",
    "agente reativo simples? Projete esse agente e meça o desempenho em vários \n",
    "ambientes."
   ]
  },
  {
   "cell_type": "markdown",
   "metadata": {},
   "source": [
    "### Resposta:\n"
   ]
  },
  {
   "cell_type": "markdown",
   "metadata": {},
   "source": [
    "## 5. Os ambientes do problema do aspirador considerados até o momento são todos determinísticos. \n",
    "\n",
    "Discuta possíveis programas de agentes para cada uma das seguintes versões estocásticas: \n",
    "\n",
    "- Lei de Murphy: Em 25% do tempo, a ação de aspirar o chão não consegue limpá-lo \n",
    "caso este esteja sujo, ou, caso esteja limpo, sujeira é depositada acidentalmente. \n",
    "Como o programa do agente é afetado se se o sensor de sujeira dá a resposta errada \n",
    "em 10% das leituras?\n",
    "- Crianças pestinhas: A cada momento, cada quadriculado limpo do chão tem 10% \n",
    "de chance de ficar sujo. Como você projetaria o agente racional para este caso"
   ]
  },
  {
   "cell_type": "markdown",
   "metadata": {},
   "source": [
    "### Resposta: "
   ]
  }
 ],
 "metadata": {
  "kernelspec": {
   "display_name": "Python 3",
   "language": "python",
   "name": "python3"
  },
  "language_info": {
   "codemirror_mode": {
    "name": "ipython",
    "version": 3
   },
   "file_extension": ".py",
   "mimetype": "text/x-python",
   "name": "python",
   "nbconvert_exporter": "python",
   "pygments_lexer": "ipython3",
   "version": "3.9.13"
  }
 },
 "nbformat": 4,
 "nbformat_minor": 2
}
